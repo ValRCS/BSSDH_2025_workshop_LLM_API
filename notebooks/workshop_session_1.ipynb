{
 "cells": [
  {
   "cell_type": "markdown",
   "id": "0a25e61f",
   "metadata": {},
   "source": [
    "# Using LLMs in Humanities Research via API\n",
    "\n",
    "## Session 1 11.30-13.00 - Introduction to LLMs and APIs\n",
    "\n",
    "In our first session, we will explore the basics of Large Language Models (LLMs) and how to interact with them using APIs. We will cover the following topics:\n",
    "- **What are LLMs?**: An introduction to Large Language Models, their capabilities, and how they can be applied in humanities research.\n",
    "- **Understanding APIs**: A brief overview of what APIs are, how they work, and why they are essential for accessing LLMs.\n",
    "- **Understanding JSON**: An introduction to JSON (JavaScript Object Notation), the data format commonly used for API responses, and how to work with it in Python.\n",
    "- **OpenRouter API**: Introduction to the OpenRouter API, which provides access to various LLMs.\n",
    "- **Setting Up Your Environment**: Instructions on how to set up your programming environment to interact with LLM APIs."
   ]
  }
 ],
 "metadata": {
  "language_info": {
   "name": "python"
  }
 },
 "nbformat": 4,
 "nbformat_minor": 5
}
