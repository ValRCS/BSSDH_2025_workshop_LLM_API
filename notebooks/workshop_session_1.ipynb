{
 "cells": [
  {
   "cell_type": "markdown",
   "id": "0a25e61f",
   "metadata": {},
   "source": [
    "# Using LLMs in Humanities Research via API\n",
    "\n",
    "## Welcome to the Workshop on Using LLMs in Humanities Research via API!\n",
    "\n",
    "Welcome into deeper world of Large Language Models (LLMs) and their applications in humanities research! In an era where artificial intelligence is transforming every field of study, the humanities are experiencing a revolutionary shift in how we approach text analysis, interpretation, and research methodologies.\n",
    "\n",
    "### Why This Workshop Matters\n",
    "\n",
    "The digital transformation of humanities research has opened unprecedented opportunities for scholars to analyze vast corpora of text, uncover hidden patterns, and gain new insights into human culture and expression. Large Language Models represent the cutting edge of this transformation, offering powerful tools for:\n",
    "\n",
    "- **Automated text analysis** at scale previously impossible for human researchers\n",
    "- **Cross-lingual research** capabilities that break down language barriers\n",
    "- **Pattern recognition** in literary and historical texts\n",
    "- **Assistance with translation and transcription** of historical documents\n",
    "- **Enhanced accessibility** to digitized cultural heritage materials\n",
    "\n",
    "### Workshop Goals\n",
    "\n",
    "By the end of this three-session workshop, you will:\n",
    "\n",
    "1. **Understand the fundamentals** of Large Language Models and their capabilities for humanities research\n",
    "2. **Master API interactions** to programmatically access and utilize various LLM services\n",
    "3. **Learn practical applications** including concept mining, named entity recognition, and text analysis\n",
    "4. **Develop skills** in prompt engineering for humanities-specific tasks\n",
    "5. **Address real challenges** such as working with OCR errors in historical texts\n",
    "6. **Gain hands-on experience** with tools for error correction and translation\n",
    "7. **Build confidence** in integrating AI technologies into your research workflow\n",
    "\n",
    "### What Makes This Approach Special\n",
    "\n",
    "Rather than relying on simple chat interfaces, you'll learn to harness the full power of LLMs through API access, enabling:\n",
    "- **Batch processing** of large document collections\n",
    "- **Customizable workflows** tailored to your specific research needs\n",
    "- **Reproducible research** methods with documented processes\n",
    "- **Integration** with existing digital humanities tools and methodologies\n",
    "\n",
    "## Session 1 11.30-13.00 - Introduction to LLMs and APIs\n",
    "\n",
    "In our first session, we will explore the basics of Large Language Models (LLMs) and how to interact with them using APIs. We will cover the following topics:\n",
    "- **Setting Up Your Environment**: Instructions on how to set up your programming environment to interact with LLM APIs.\n",
    "- **What are LLMs?**: An introduction to Large Language Models, their capabilities, and how they can be applied in humanities research.\n",
    "- **Understanding APIs**: A brief overview of what APIs are, how they work, and why they are essential for accessing LLMs.\n",
    "- **Understanding JSON**: An introduction to JSON (JavaScript Object Notation), the data format commonly used for API responses, and how to work with it in Python.\n",
    "- **OpenRouter API**: Introduction to the OpenRouter API, which provides access to various LLMs.\n"
   ]
  },
  {
   "cell_type": "markdown",
   "id": "1e5b2d02",
   "metadata": {},
   "source": []
  },
  {
   "cell_type": "markdown",
   "id": "f4c557b7",
   "metadata": {},
   "source": [
    "## About the Instructors and Assistants\n",
    "\n",
    "**Valdis Saulespurēns** works as a researcher and developer at the National Library of Latvia. Additionally, he is a lecturer at Riga Technical University, where he teaches Python, JavaScript, and other computer science subjects. Valdis has a specialization in Machine Learning and Data Analysis, and he enjoys transforming disordered data into structured knowledge. With more than 30 years of programming experience, Valdis began his professional career by writing programs for quantum scientists at the University of California, Santa Barbara. Before moving into teaching, he developed software for a radio broadcast equipment manufacturer. Valdis holds a Master's degree in Computer Science from the University of Latvia.\n",
    "\n",
    "**Anda Baklāne** is a researcher and curator of digital research services at the National Library of Latvia. She teaches Introduction to Digital Humanities and Digital Social Sciences and Text Analysis and Visualization courses at the University of Latvia. Anda holds a master's degree in philosophy and a PhD in literary theory. Her research interests include Latvian contemporary literature, metaphor, models, distant reading, and academic data visualization.\n",
    "\n",
    "**Viesturs Vēveris** is a researcher and developer at the National Library of Latvia. He has a background in computer science and digital humanities, with a focus on developing tools and methodologies for text analysis and data visualization. Viesturs is passionate about making digital research more accessible and effective for scholars in the humanities.\n",
    "\n",
    "**Haralds Matulis** is a researcher and also organizer of this iteration of Baltic Summer School of Digital Humanities. He has a background in digital humanities and is interested in the intersection of technology and humanities research. Haralds is dedicated to promoting digital literacy and innovation in the humanities."
   ]
  },
  {
   "cell_type": "markdown",
   "id": "02ce4708",
   "metadata": {},
   "source": [
    "## Interactive Version of the Notebook\n",
    "\n",
    "### Open in Google Colab\n",
    "<a href=\"https://colab.research.google.com/github/ValRCS/BSSDH_2025_workshop_LLM_API/blob/main/notebooks/workshop_session_1.ipynb\" target=\"_blank\">\n",
    "  <img src=\"https://colab.research.google.com/assets/colab-badge.svg\" alt=\"Open In Colab\"/>\n",
    "</a>\n",
    "\n",
    "### Static vs Interactive Notebooks\n",
    "\n",
    "**Static Notebooks** (like what you might see on GitHub) are read-only versions that display the content but don't allow you to:\n",
    "- Execute code cells\n",
    "- Modify content\n",
    "- Install packages\n",
    "- Save your changes\n",
    "\n",
    "**Interactive Notebooks** allow you to:\n",
    "- **Execute code cells** by pressing Shift+Enter or clicking the play button\n",
    "- **Edit and experiment** with code in real-time\n",
    "- **Install Python packages** as needed\n",
    "- **Save your work** and download modified notebooks\n",
    "- **See live outputs** including text, tables, and visualizations\n",
    "\n",
    "### About Google Colab\n",
    "\n",
    "**Google Colab** (Colaboratory) is a free, cloud-based Jupyter notebook environment that:\n",
    "\n",
    "- **Requires no setup** - runs entirely in your web browser\n",
    "- **Provides free computational resources** including CPU, GPU, and limited TPU access\n",
    "- **Comes pre-installed** with most common data science and machine learning libraries\n",
    "- **Integrates seamlessly** with Google Drive for saving and sharing notebooks\n",
    "- **Supports real-time collaboration** allowing multiple people to work on the same notebook\n",
    "- **Automatically saves** your progress to Google Drive\n",
    "\n",
    "**Getting Started with Colab:**\n",
    "1. Click the \"Open in Colab\" badge above\n",
    "2. Sign in with your Google account (required)\n",
    "3. The notebook will open in a new tab\n",
    "4. You can immediately start executing cells by clicking the play button (▶️) or pressing Shift+Enter\n",
    "\n",
    "**💡 Pro Tip:** Right-click the Colab badge and select \"Open link in new tab\" to keep this reference page open while working in the interactive notebook!"
   ]
  },
  {
   "cell_type": "markdown",
   "id": "bd2605c0",
   "metadata": {},
   "source": [
    "## Setting Up Your Environment\n",
    "\n",
    "To interact with LLM APIs effectively, we need to set up our programming environment with the necessary libraries and configurations. This includes installing required packages and setting up API credentials."
   ]
  },
  {
   "cell_type": "markdown",
   "id": "7e87398b",
   "metadata": {},
   "source": [
    "## What are LLMs?\n",
    "\n",
    "Large Language Models (LLMs) are artificial intelligence systems trained on vast amounts of text data to understand and generate human-like text. They can be applied in humanities research for various tasks such as text analysis, translation, summarization, and more."
   ]
  },
  {
   "cell_type": "markdown",
   "id": "a2be804e",
   "metadata": {},
   "source": [
    "## Understanding APIs\n",
    "\n",
    "APIs (Application Programming Interfaces) are interfaces that allow different software applications to communicate with each other. They provide a standardized way to access services and data from external systems, making them essential for accessing LLMs programmatically."
   ]
  },
  {
   "cell_type": "markdown",
   "id": "9dae5b36",
   "metadata": {},
   "source": [
    "## Understanding JSON\n",
    "\n",
    "JSON (JavaScript Object Notation) is a lightweight data format commonly used for API responses. It's human-readable and easy to work with in Python, making it ideal for handling structured data from LLM APIs."
   ]
  },
  {
   "cell_type": "markdown",
   "id": "0a282a2f",
   "metadata": {},
   "source": [
    "## OpenRouter API\n",
    "\n",
    "OpenRouter is a unified API that provides access to multiple LLM providers through a single interface. This makes it convenient to experiment with different models and compare their performance for humanities research tasks."
   ]
  }
 ],
 "metadata": {
  "kernelspec": {
   "display_name": "venv",
   "language": "python",
   "name": "python3"
  },
  "language_info": {
   "name": "python",
   "version": "3.12.6"
  }
 },
 "nbformat": 4,
 "nbformat_minor": 5
}
