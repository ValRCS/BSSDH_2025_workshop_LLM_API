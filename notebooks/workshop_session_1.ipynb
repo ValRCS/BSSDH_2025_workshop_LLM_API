{
 "cells": [
  {
   "cell_type": "markdown",
   "id": "0a25e61f",
   "metadata": {},
   "source": [
    "# Using LLMs in Humanities Research via API\n",
    "\n",
    "## Session 1 11.30-13.00 - Introduction to LLMs and APIs\n",
    "\n",
    "In our first session, we will explore the basics of Large Language Models (LLMs) and how to interact with them using APIs. We will cover the following topics:\n",
    "- **What are LLMs?**: An introduction to Large Language Models, their capabilities, and how they can be applied in humanities research.\n",
    "- **Understanding APIs**: A brief overview of what APIs are, how they work, and why they are essential for accessing LLMs.\n",
    "- **Understanding JSON**: An introduction to JSON (JavaScript Object Notation), the data format commonly used for API responses, and how to work with it in Python.\n",
    "- **OpenRouter API**: Introduction to the OpenRouter API, which provides access to various LLMs.\n",
    "- **Setting Up Your Environment**: Instructions on how to set up your programming environment to interact with LLM APIs."
   ]
  },
  {
   "cell_type": "markdown",
   "id": "f4c557b7",
   "metadata": {},
   "source": [
    "## About the Instructors\n",
    "\n",
    "**Valdis Saulespurēns** works as a researcher and developer at the National Library of Latvia. Additionally, he is a lecturer at Riga Technical University, where he teaches Python, JavaScript, and other computer science subjects. Valdis has a specialization in Machine Learning and Data Analysis, and he enjoys transforming disordered data into structured knowledge. With more than 30 years of programming experience, Valdis began his professional career by writing programs for quantum scientists at the University of California, Santa Barbara. Before moving into teaching, he developed software for a radio broadcast equipment manufacturer. Valdis holds a Master's degree in Computer Science from the University of Latvia.\n",
    "\n",
    "**Anda Baklāne** is a researcher and curator of digital research services at the National Library of Latvia. She teaches Introduction to Digital Humanities and Digital Social Sciences and Text Analysis and Visualization courses at the University of Latvia. Anda holds a master's degree in philosophy and a PhD in literary theory. Her research interests include Latvian contemporary literature, metaphor, models, distant reading, and academic data visualization."
   ]
  },
  {
   "cell_type": "markdown",
   "id": "93ec2767",
   "metadata": {},
   "source": [
    "## What are LLMs?\n",
    "\n",
    "Large Language Models (LLMs) are artificial intelligence systems trained on vast amounts of text data to understand and generate human-like text. They can be applied in humanities research for various tasks such as text analysis, translation, summarization, and more."
   ]
  },
  {
   "cell_type": "markdown",
   "id": "a2be804e",
   "metadata": {},
   "source": [
    "## Understanding APIs\n",
    "\n",
    "APIs (Application Programming Interfaces) are interfaces that allow different software applications to communicate with each other. They provide a standardized way to access services and data from external systems, making them essential for accessing LLMs programmatically."
   ]
  },
  {
   "cell_type": "markdown",
   "id": "9dae5b36",
   "metadata": {},
   "source": [
    "## Understanding JSON\n",
    "\n",
    "JSON (JavaScript Object Notation) is a lightweight data format commonly used for API responses. It's human-readable and easy to work with in Python, making it ideal for handling structured data from LLM APIs."
   ]
  },
  {
   "cell_type": "markdown",
   "id": "0a282a2f",
   "metadata": {},
   "source": [
    "## OpenRouter API\n",
    "\n",
    "OpenRouter is a unified API that provides access to multiple LLM providers through a single interface. This makes it convenient to experiment with different models and compare their performance for humanities research tasks."
   ]
  },
  {
   "cell_type": "markdown",
   "id": "c6c5a471",
   "metadata": {},
   "source": [
    "## Setting Up Your Environment\n",
    "\n",
    "To interact with LLM APIs effectively, we need to set up our programming environment with the necessary libraries and configurations. This includes installing required packages and setting up API credentials."
   ]
  }
 ],
 "metadata": {
  "language_info": {
   "name": "python"
  }
 },
 "nbformat": 4,
 "nbformat_minor": 5
}
