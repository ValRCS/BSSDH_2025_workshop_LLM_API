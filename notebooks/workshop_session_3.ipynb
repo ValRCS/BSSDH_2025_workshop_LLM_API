{
 "cells": [
  {
   "cell_type": "markdown",
   "id": "54bac1e6",
   "metadata": {},
   "source": [
    "# Using LLMs in Humanities Research via API\n",
    "\n",
    "## Session 3 16.00-17.30 - Intermediate LLM Usage and Advanced API Features\n",
    "\n",
    "Additionally, we will examine challenges associated with historical digitized texts, including optical character recognition (OCR) errors, which may affect compatibility with language models. Participants will gain insights into how these models can be leveraged for error correction and translation, enhancing the usability of imperfect textual data.\n",
    "\n",
    "## Session Outline\n",
    "\n",
    "- **Advanced API Features**: Exploring advanced features of the OpenRouter API, including model selection, temperature settings, and response formatting.\n",
    "- **Handling OCR Errors**: Discussing the challenges of working with historical digitized texts, including OCR errors, and how LLMs can assist in correcting these errors.\n",
    "- **Practical Exercises**: Hands-on exercises to apply the concepts learned, including making API calls with advanced parameters and processing responses."
   ]
  }
 ],
 "metadata": {
  "language_info": {
   "name": "python"
  }
 },
 "nbformat": 4,
 "nbformat_minor": 5
}
