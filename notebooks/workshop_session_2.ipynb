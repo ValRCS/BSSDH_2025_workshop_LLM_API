{
  "cells": [
    {
      "cell_type": "markdown",
      "id": "61c6cb6a",
      "metadata": {
        "id": "61c6cb6a"
      },
      "source": [
        "# Using LLMs in Humanities Research via API\n",
        "\n",
        "## Session 2 (14.00-15.30) - Working with LLMs via API\n",
        "\n",
        "Through practical examples, we will explore prompt engineering techniques for tasks such as concept mining and named entity recognition in textual data.\n",
        "\n",
        "## Session Outline\n",
        "\n",
        "- **Prompt Engineering**: Techniques for crafting effective prompts to guide LLMs in generating relevant and accurate responses.\n",
        "- **Concept Mining**: Using LLMs to extract key concepts from text, enabling researchers to identify important themes and ideas.\n",
        "- **Named Entity Recognition (NER)**: Implementing NER to identify and classify entities in text, such as people, organizations, and locations.\n",
        "\n"
      ]
    },
    {
      "cell_type": "markdown",
      "id": "fb3328f6",
      "metadata": {
        "id": "fb3328f6"
      },
      "source": [
        "## BSSDH 2025 Workshop Data\n",
        "\n",
        "Before we start exploring the API, let's take a look at the corpus of documents we will be working.\n",
        "Data for workshops in [Baltic Summer School of Digital Humanities 2025](https://www.digitalhumanities.lv/bssdh/2025/about/)\n",
        "\n",
        "**Repository:** https://github.com/LNB-DH/BSSDH_2025_workshop_data\n",
        "\n",
        "\n",
        "\n",
        "\n",
        "## CORPUS OVERVIEW\n",
        "\n",
        "\n",
        "1. SOURCE MATERIAL\n",
        "------------------\n",
        "\n",
        "| Periodical | Details |\n",
        "|------------|---------|\n",
        "| \"Rigasche Zeitung\" (RZei) (1918–1919) | - **Data file:** `Rigasche_Zeitung_1918_1919.zip`<br>- **Download Rigasche Zeitung:** https://github.com/LNB-DH/BSSDH_2025_workshop_data/raw/main/data/Rigasche_Zeitung_1918_1919.zip<br>- Morning newspaper, intermittently published from 1778 to 1919 in Riga.<br>- Language: German (Fraktur script)<br>- Once the most popular morning paper in the Baltic provinces of the Russian Empire.<br>- Covered general political and economic news in Riga, the Baltics, the Russian Empire, and internationally.<br>- Historical context: World War I, Latvian War of Independence.<br>- Link: https://periodika.lv/#periodicalMeta:234;-1<br>- More info: https://enciklopedija.lv/skirklis/163962 |\n",
        "| \"Latvian Economic Review\" (LERQ) (1936–1940) | - **Data file:** `Latvian_Economic_Review_1936_1940.zip`<br>- **Download Latvian Economic Review:** https://github.com/LNB-DH/BSSDH_2025_workshop_data/raw/main/data/Latvian_Economic_Review_1936_1940.zip<br>- Full title: \"Latvian Economic Review: A quarterly review of trade, industry and agriculture\".<br>- Language: English (modern)<br>- Published by the Latvian Chamber of Commerce and Industry (established 1934).<br>- Focused on cross-border representation of Latvian economy during the Great Depression, increasing state control, push for autarky, and start of WWII.<br>- Link: https://periodika.lv/#periodicalItem:620 |\n",
        "\n",
        "2. CORPUS INFORMATION\n",
        "----------------------\n",
        "\n",
        "| Metric | RZei | LERQ |\n",
        "|--------|------|------|\n",
        "| Token Count (words) | 5.37 million | 0.5 million |\n",
        "| Issue Count | 359 issues | 18 issues |\n",
        "| Segment (Article <=> File) Count | 4,597 | 419 |\n",
        "| Language | German | English |\n",
        "| Script | Fraktur | Modern |\n",
        "\n",
        "Filename Structure:\n",
        "-------------------\n",
        "Format: [periodical][year][volume#*][issue#]_[page#]_[[plaintext]]_[segment#]\n",
        "\n",
        "Example: `lerq1936s01n02_031_plaintext_s17.txt`\n",
        "         → 17th segment from LERQ, Issue 2, 1936, page 31.\n",
        "\n",
        "*Volume value in corpus is one in all cases.\n",
        "\n",
        "3. METHODOLOGY\n",
        "---------------\n",
        "\n",
        "| Step | Description |\n",
        "|------|-------------|\n",
        "| 3.1. Source Access | Digitised issues obtained from the National Library of Latvia (https://periodika.lv/) |\n",
        "| 3.2. Processing & OCR | CCS docWORKS & ABBYY FineReader 9.0<br>- LERQ has better OCR quality than RZei<br>- No further data cleaning/normalization |\n",
        "| 3.3. Metadata Added | Fields: title, author, uri<br>- Author info available in:<br>&nbsp;&nbsp;&nbsp;&nbsp;LERQ: 4 cases (0.95%)<br>&nbsp;&nbsp;&nbsp;&nbsp;RZei: 325 cases (7.05%)<br>- Title availability:<br>&nbsp;&nbsp;&nbsp;&nbsp;LERQ: 95.7%, RZei: 99.15%<br>- URI coverage: 100% for both<br>- URIs point to LNB DOM system |\n"
      ]
    },
    {
      "cell_type": "markdown",
      "id": "a419d247",
      "metadata": {
        "id": "a419d247"
      },
      "source": [
        "## Extracting documents\n",
        "\n",
        "We could extract documents manually by downloading the appropriate zip file and extracting files by *hand* using file extracting capabilities built into your Operating System (Windows has built in extractor) or using external program such as 7-zip, WinRAR, etc. However, it is more replicable and convenient to use a script that will do this for us. We would supply a url or file name and the script would download the file, extract it to approparite location, and return a list of files that were extracted.\n",
        "\n",
        "### Additional considerations when extracting documents\n",
        "\n",
        "* Where will be extracted files be stored? - Ideally we would have a same relative structure when extracting files locally and on remote server such as Google Colab.\n",
        "* How will we handle file names? - Usually we would like to keep the original file names, but we might want to add some additional information such as source or date of extraction.\n",
        "* How will we handle errors? - We should consider what to do if the file cannot be downloaded or extracted. Should we skip it or raise an error?\n",
        "\n",
        "### Extracting Latvian Economic Review\n",
        "\n",
        "For this session we will extract Latvian Economic Review (LERQ) corpus. We will use a script that will download the file, extract it to appropriate location, and return a list of files that were extracted.\n",
        "\n",
        "We will write a function in Python that will do this for us. The function will take a URL or file name as an argument and will download file from url and then extract it. We will have a default location where the files will be extracted, but we can also specify a different location if needed.\n",
        "\n",
        "```python\n",
        "\n"
      ]
    },
    {
      "cell_type": "code",
      "execution_count": null,
      "id": "f2b4ecf6",
      "metadata": {
        "colab": {
          "base_uri": "https://localhost:8080/"
        },
        "id": "f2b4ecf6",
        "outputId": "ee8d4821-bb09-4d4d-82f7-5f5fa1f46891"
      },
      "outputs": [
        {
          "output_type": "stream",
          "name": "stdout",
          "text": [
            "Will extract data from https://github.com/LNB-DH/BSSDH_2025_workshop_data/raw/main/data/Latvian_Economic_Review_1936_1940.zip\n",
            "Starting download at 2025-08-06 20:25:43.548271\n",
            "Starting download from https://github.com/LNB-DH/BSSDH_2025_workshop_data/raw/main/data/Latvian_Economic_Review_1936_1940.zip\n",
            "Download finished at 2025-08-06 20:25:43.907011 taking 0:00:00.358740 seconds\n",
            "Starting extraction to data at 2025-08-06 20:25:43.907148\n",
            "Extraction finished at 2025-08-06 20:25:44.003288 taking 0:00:00.096140 seconds\n",
            "Total time taken: 0:00:00.455017 seconds\n"
          ]
        }
      ],
      "source": [
        "url = \"https://github.com/LNB-DH/BSSDH_2025_workshop_data/raw/main/data/Latvian_Economic_Review_1936_1940.zip\"\n",
        "print(\"Will extract data from\", url)\n",
        "# next we define a function that will download and extract the zip file, this way we can reuse it later if needed\n",
        "# we can also set some default values for the arguments, so we do not have to specify\n",
        "# default values always come after the mandatory arguments in Python functions\n",
        "def extract_zip(url, output_dir=\"data\", verbose=False):\n",
        "    # we could have imported these at the top, but we want to keep the script self-contained\n",
        "    import requests  # this should be cached by notebooks, so it **should** not require importing it every time\n",
        "    from zipfile import ZipFile\n",
        "    from io import BytesIO\n",
        "\n",
        "    # In verbose mode let's some extra information about the download and extraction process\n",
        "    # This is useful for debugging and understanding the flow of the script\n",
        "    from datetime import datetime\n",
        "    if verbose:\n",
        "        download_start = datetime.now()\n",
        "        # we print start time including milliseconds\n",
        "        print(f\"Starting download at {download_start.strftime('%Y-%m-%d %H:%M:%S.%f')}\")\n",
        "        print(\"Starting download from\", url)\n",
        "    response = requests.get(url)\n",
        "    if verbose:\n",
        "        download_finish = datetime.now()\n",
        "        print(f\"Download finished at {download_finish.strftime('%Y-%m-%d %H:%M:%S.%f')} taking {download_finish - download_start} seconds\")\n",
        "    if response.status_code == 200: # it is possible a request fails, e.g. if the URL is incorrect\n",
        "        if verbose:\n",
        "            extract_start = datetime.now()\n",
        "            print(f\"Starting extraction to {output_dir} at {extract_start.strftime('%Y-%m-%d %H:%M:%S.%f')}\")\n",
        "        with ZipFile(BytesIO(response.content)) as zf:\n",
        "            zf.extractall(output_dir)\n",
        "        if verbose:\n",
        "            extract_end = datetime.now()\n",
        "            print(f\"Extraction finished at {extract_end.strftime('%Y-%m-%d %H:%M:%S.%f')} taking {extract_end - extract_start} seconds\")\n",
        "            print(f\"Total time taken: {extract_end - download_start} seconds\")\n",
        "    else:\n",
        "        print(\"Failed to download data:\", response.status_code)\n",
        "\n",
        "# now that we have our function defined, we can call it immediately\n",
        "# note we do not supply all arguments, first one is mandatory, the rest are optional\n",
        "# so we skip over output_dir in this case\n",
        "extract_zip(url, verbose=True)"
      ]
    },
    {
      "cell_type": "markdown",
      "id": "82bc187d",
      "metadata": {
        "id": "82bc187d"
      },
      "source": [
        "### Getting information about extracted files\n",
        "\n",
        "It is a good practice to double check what files were extracted and where they are located. We can do this by listing the files in the directory where we extracted them. We can use Python pathlib to do this.\n",
        "The goal is to double check that what we extacted matches what we expected. We can also check the file names and their structure to make sure they are correct.\n",
        "\n",
        "```python"
      ]
    },
    {
      "cell_type": "code",
      "execution_count": null,
      "id": "dd0d77bf",
      "metadata": {
        "colab": {
          "base_uri": "https://localhost:8080/"
        },
        "id": "dd0d77bf",
        "outputId": "dc167d93-5a26-49b7-e44e-39fca2f566b5"
      },
      "outputs": [
        {
          "output_type": "stream",
          "name": "stdout",
          "text": [
            "Extracted 1 files to data\n",
            "Latvian_Economic_Review\n"
          ]
        }
      ],
      "source": [
        "from pathlib import Path\n",
        "extract_dir = Path(\"data\") # note this is a a relative path, relative to the current working directory for the notebook\n",
        "# let's check if the directory exists and how many files it contains\n",
        "if extract_dir.exists():\n",
        "    files = list(extract_dir.glob(\"*\"))  # this will list all files in the directory\n",
        "    print(f\"Extracted {len(files)} files to {extract_dir}\")\n",
        "    for file in files:\n",
        "        print(file.name)  # print the name of each file\n",
        "else:\n",
        "    print(f\"Directory {extract_dir} does not exist. Please check the extraction process.\")"
      ]
    },
    {
      "cell_type": "markdown",
      "id": "ae7ade9a",
      "metadata": {
        "id": "ae7ade9a"
      },
      "source": [
        "### Getting information about subfolders in the extracted directory\n",
        "Looks like we only have a single file but it is actually not a file but a directory. This is because we extracted a zip file that contains files under a single directory.\n",
        "\n",
        "Next we want to check how many total files we have and also how many files we have with *.txt extension. This will help us to understand how many files we can work with and if there are any files that we might want to exclude from our analysis.\n"
      ]
    },
    {
      "cell_type": "code",
      "execution_count": null,
      "id": "55d05596",
      "metadata": {
        "colab": {
          "base_uri": "https://localhost:8080/"
        },
        "id": "55d05596",
        "outputId": "7e07f7bd-51c5-4ba4-ccd9-3f5206a3abe0"
      },
      "outputs": [
        {
          "output_type": "stream",
          "name": "stdout",
          "text": [
            "Analyzing extracted data directory...\n",
            "📁 Directory Analysis: data\n",
            "==================================================\n",
            "Total items found (files + directories): 420\n",
            "Total files: 419\n",
            "Total directories: 1\n",
            "Text files (.txt): 419\n",
            "\n",
            "📊 File Extensions Summary:\n",
            "------------------------------\n",
            "  .txt: 419 files\n",
            "\n",
            "📂 Directory Structure:\n",
            "------------------------------\n",
            "  📁 Latvian_Economic_Review\n",
            "\n",
            "📄 First 10 .txt files (out of 419 total):\n",
            "------------------------------\n",
            "  📄 Latvian_Economic_Review/lerq1936s01n01_003_plaintext_s01.txt (8,662 bytes)\n",
            "  📄 Latvian_Economic_Review/lerq1936s01n01_006_plaintext_s02.txt (5,190 bytes)\n",
            "  📄 Latvian_Economic_Review/lerq1936s01n01_008_plaintext_s03.txt (6,066 bytes)\n",
            "  📄 Latvian_Economic_Review/lerq1936s01n01_009_plaintext_s04.txt (5,523 bytes)\n",
            "  📄 Latvian_Economic_Review/lerq1936s01n01_013_plaintext_s05.txt (3,866 bytes)\n",
            "  📄 Latvian_Economic_Review/lerq1936s01n01_014_plaintext_s06.txt (1,144 bytes)\n",
            "  📄 Latvian_Economic_Review/lerq1936s01n01_014_plaintext_s07.txt (629 bytes)\n",
            "  📄 Latvian_Economic_Review/lerq1936s01n01_015_plaintext_s08.txt (7,520 bytes)\n",
            "  📄 Latvian_Economic_Review/lerq1936s01n01_017_plaintext_s09.txt (951 bytes)\n",
            "  📄 Latvian_Economic_Review/lerq1936s01n01_018_plaintext_s10.txt (7,625 bytes)\n",
            "  ... and 409 more .txt files\n"
          ]
        }
      ],
      "source": [
        "# let's check how many files total we have and how many files with *.txt extension counting all subfolders\n",
        "# this means we will perform a recursive search for all files in the directory\n",
        "\n",
        "def analyze_directory_contents(directory_path, verbose=True):\n",
        "    \"\"\"\n",
        "    Analyze the contents of a directory recursively and provide detailed information.\n",
        "\n",
        "    Args:\n",
        "        directory_path: Path object or string path to the directory\n",
        "        verbose: If True, print detailed information about file types and structure\n",
        "\n",
        "    Returns:\n",
        "        dict: Dictionary containing analysis results\n",
        "    \"\"\"\n",
        "    from pathlib import Path\n",
        "\n",
        "    directory = Path(directory_path)\n",
        "\n",
        "    if not directory.exists():\n",
        "        print(f\"Directory {directory} does not exist.\")\n",
        "        return None\n",
        "\n",
        "    # Get all files recursively\n",
        "    all_files = list(directory.rglob(\"*\"))\n",
        "\n",
        "    # Separate files from directories\n",
        "    files_only = [f for f in all_files if f.is_file()]\n",
        "    directories_only = [f for f in all_files if f.is_dir()]\n",
        "\n",
        "    # Count files by extension\n",
        "    file_extensions = {}\n",
        "    for file in files_only:\n",
        "        ext = file.suffix.lower()\n",
        "        if ext == '':\n",
        "            ext = '(no extension)'\n",
        "        file_extensions[ext] = file_extensions.get(ext, 0) + 1\n",
        "\n",
        "    # Count .txt files specifically\n",
        "    txt_files = [f for f in files_only if f.suffix.lower() == '.txt']\n",
        "\n",
        "    # Analysis results\n",
        "    results = {\n",
        "        'total_items': len(all_files),\n",
        "        'total_files': len(files_only),\n",
        "        'total_directories': len(directories_only),\n",
        "        'txt_files': len(txt_files),\n",
        "        'file_extensions': file_extensions,\n",
        "        'txt_file_paths': txt_files\n",
        "    }\n",
        "\n",
        "    if verbose:\n",
        "        print(f\"📁 Directory Analysis: {directory}\")\n",
        "        print(\"=\" * 50)\n",
        "        print(f\"Total items found (files + directories): {results['total_items']}\")\n",
        "        print(f\"Total files: {results['total_files']}\")\n",
        "        print(f\"Total directories: {results['total_directories']}\")\n",
        "        print(f\"Text files (.txt): {results['txt_files']}\")\n",
        "        print()\n",
        "\n",
        "        print(\"📊 File Extensions Summary:\")\n",
        "        print(\"-\" * 30)\n",
        "        for ext, count in sorted(file_extensions.items(), key=lambda x: x[1], reverse=True):\n",
        "            print(f\"  {ext}: {count} files\")\n",
        "        print()\n",
        "\n",
        "        if len(directories_only) > 0:\n",
        "            print(\"📂 Directory Structure:\")\n",
        "            print(\"-\" * 30)\n",
        "            for directory in sorted(directories_only):\n",
        "                # Show relative path from the base directory\n",
        "                relative_path = directory.relative_to(directory_path)\n",
        "                print(f\"  📁 {relative_path}\")\n",
        "            print()\n",
        "\n",
        "        if len(txt_files) > 0 and len(txt_files) <= 10:\n",
        "            print(\"📄 Sample .txt files:\")\n",
        "            print(\"-\" * 30)\n",
        "            for txt_file in sorted(txt_files)[:10]:\n",
        "                relative_path = txt_file.relative_to(directory_path)\n",
        "                file_size = txt_file.stat().st_size\n",
        "                print(f\"  📄 {relative_path} ({file_size:,} bytes)\")\n",
        "        elif len(txt_files) > 10:\n",
        "            print(f\"📄 First 10 .txt files (out of {len(txt_files)} total):\")\n",
        "            print(\"-\" * 30)\n",
        "            for txt_file in sorted(txt_files)[:10]:\n",
        "                relative_path = txt_file.relative_to(directory_path)\n",
        "                file_size = txt_file.stat().st_size\n",
        "                print(f\"  📄 {relative_path} ({file_size:,} bytes)\")\n",
        "            print(f\"  ... and {len(txt_files) - 10} more .txt files\")\n",
        "\n",
        "    return results\n",
        "\n",
        "# Now let's analyze our extracted directory\n",
        "print(\"Analyzing extracted data directory...\")\n",
        "analysis_results = analyze_directory_contents(extract_dir, verbose=True)"
      ]
    },
    {
      "cell_type": "code",
      "execution_count": null,
      "id": "9e283717",
      "metadata": {
        "colab": {
          "base_uri": "https://localhost:8080/"
        },
        "id": "9e283717",
        "outputId": "fd080b7b-7256-4862-de74-2c54262a5b86"
      },
      "outputs": [
        {
          "output_type": "stream",
          "name": "stdout",
          "text": [
            "6th text file: lerq1936s01n01_014_plaintext_s06.txt (1,144 bytes)\n"
          ]
        }
      ],
      "source": [
        "# let's get 6th text file from analysis_results dictionary text_files_paths key\n",
        "# why 6th? because it seems a bit smaller\n",
        "text_files_list = sorted(analysis_results['txt_file_paths'])\n",
        "if len(text_files_list) >= 6:\n",
        "    sixth_text_file = text_files_list[5]  # 6th file, index starts from 0\n",
        "    print(f\"6th text file: {sixth_text_file.name} ({sixth_text_file.stat().st_size:,} bytes)\")"
      ]
    },
    {
      "cell_type": "code",
      "execution_count": null,
      "id": "e18da885",
      "metadata": {
        "colab": {
          "base_uri": "https://localhost:8080/"
        },
        "id": "e18da885",
        "outputId": "f8156fd0-2466-4a16-dafc-f3d205e7338f"
      },
      "outputs": [
        {
          "output_type": "stream",
          "name": "stdout",
          "text": [
            "Contents of lerq1936s01n01_014_plaintext_s06.txt:\n",
            "\n",
            "title: Gypsum\n",
            "author: \n",
            "uri: http://dom.lndb.lv/data/obj/159411\n",
            "\n",
            "\n",
            "\n",
            "There are numerous extensive layers of gypseous\n",
            "stone in Latvia, but only a few of them are being\n",
            "exploited, viz., the quarries at Kalnciems, Sloka\n",
            "(about 33 km. from Riga), Salaspils (about 20 km.\n",
            "from Riga) and Naves sala (about 25 km. from Riga).\n",
            "The gypseous stone is exported both in raw condition\n",
            "(gypsum), principally for the manufacture of\n",
            "cement, and in the form of Plaster of Paris. The export\n",
            "of gypsum totalled 69,000 tons\n",
            "\n",
            "... (truncated output)\n"
          ]
        }
      ],
      "source": [
        "# let's print out its contents\n",
        "with sixth_text_file.open('r', encoding='utf-8') as f:\n",
        "    content = f.read() # read whole file content into memory\n",
        "# file is closed here automatically due to the with statement\n",
        "print(f\"Contents of {sixth_text_file.name}:\\n\")\n",
        "print(content[:500])  # print first 500 characters to avoid too much output\n",
        "print(\"\\n... (truncated output)\")"
      ]
    },
    {
      "cell_type": "markdown",
      "id": "449270d3",
      "metadata": {
        "id": "449270d3"
      },
      "source": [
        "## Setting up our LLM API functions"
      ]
    },
    {
      "cell_type": "code",
      "execution_count": null,
      "id": "ee5d53aa",
      "metadata": {
        "colab": {
          "base_uri": "https://localhost:8080/"
        },
        "id": "ee5d53aa",
        "outputId": "3de259b7-5f33-46fa-a9f9-0d098161f786"
      },
      "outputs": [
        {
          "output_type": "stream",
          "name": "stdout",
          "text": [
            "Please enter your OpenRouter API key: ··········\n",
            "Saving Open Router API key to .env file...\n",
            "Open Router API key saved to .env file.\n",
            "OpenRouter API key loaded successfully.\n"
          ]
        }
      ],
      "source": [
        "#  we will prompt user to enter it manually if not found\n",
        "import getpass\n",
        "\n",
        "import os # we already imported this, but let's do it again for clarity - it is cached so no harm done\n",
        "\n",
        "\n",
        "# if still not found, prompt user to enter it manually\n",
        "if 'open_router_api_key' not in locals() or not open_router_api_key:\n",
        "    open_router_api_key = getpass.getpass(\"Please enter your OpenRouter API key: \")\n",
        "    # save it to .env file for future use\n",
        "    # note Google Colab will destroy .env file after session ends, so you will need to enter it again next time\n",
        "    # this can be useful if you re-run the notebook and want to avoid entering the key again\n",
        "    print(\"Saving Open Router API key to .env file...\")\n",
        "    with open('.env', 'a') as f:\n",
        "        f.write(f'OPENROUTER_API_KEY={open_router_api_key}\\n')\n",
        "    print(\"Open Router API key saved to .env file.\")\n",
        "\n",
        "# we now should have the OpenRouter API key available\n",
        "if open_router_api_key:\n",
        "    print(\"OpenRouter API key loaded successfully.\")\n",
        "else:\n",
        "    print(\"OpenRouter API key not found. Please make sure you have it set in your environment variables or .env file.\")\n",
        "    print(\"You can also enter it manually when prompted during API calls.\")\n",
        "\n",
        "# key point we do not print it publicly it is stored as a variable under the name open_router_api_key - of course you can change the name to something more descriptive\n",
        "# but do not print it to the console or logs, as it is sensitive information"
      ]
    },
    {
      "cell_type": "markdown",
      "id": "71574a1b",
      "metadata": {
        "id": "71574a1b"
      },
      "source": [
        "### About the model - Google: Gemini 2.5 Flash Lite\n",
        "\n",
        "Unlike previous session where we used OpenAI API, this session will focus on using [Google Gemini 2.5 Flash Lite model](https://openrouter.ai/google/gemini-2.5-flash-lite) via OpenRouter API. Again we could have used many different models, but we will use this one as it is lightweight and fast and **INEXPENSIVE**, which is ideal for our use case.\n",
        "\n",
        "**Model ID:** `google/gemini-2.5-flash-lite`  \n",
        "**Created:** July 22, 2025  \n",
        "**Context Window:** 1,048,576 tokens  \n",
        "**Pricing:**  \n",
        "- **Input tokens:** $0.10 per million  \n",
        "- **Output tokens:** $0.40 per million  \n",
        "\n",
        "**Tags:**  \n",
        "- Legal (#4)  \n",
        "- Marketing/SEO (#4)  \n",
        "- Translation (#9)  \n",
        "\n",
        "**Description:**  \n",
        "Gemini 2.5 Flash Lite is a lightweight reasoning model in the Gemini 2.5 family, optimized for **ultra-low latency** and **cost efficiency**. It offers improved throughput, faster token generation, and better performance across common benchmarks compared to earlier Flash models.\n",
        "\n",
        "By default, \"thinking\" (i.e., multi-pass reasoning) is disabled to prioritize speed, but developers can enable it via the **Reasoning API** parameter to selectively trade off cost for intelligence.\n"
      ]
    },
    {
      "cell_type": "code",
      "execution_count": null,
      "id": "38b5ca4d",
      "metadata": {
        "colab": {
          "base_uri": "https://localhost:8080/"
        },
        "id": "38b5ca4d",
        "outputId": "fc61cb93-1382-426c-c5b5-602f6709a63d"
      },
      "outputs": [
        {
          "output_type": "stream",
          "name": "stdout",
          "text": [
            "Response from OpenRouter API:\n",
            "Here are the named entities found in the text:\n",
            "\n",
            "*   Kalnciems\n",
            "*   Sloka\n",
            "*   Riga\n",
            "*   Salaspils\n",
            "*   Naves sala\n",
            "*   Norway\n",
            "*   Sweden\n",
            "*   Denmark\n",
            "*   Finland\n",
            "*   England\n"
          ]
        }
      ],
      "source": [
        "# let's define a generic function for OpenRouter API requests\n",
        "# it should define a new function get_openrouter_response with the following parameters system_prompt, user_prompt,\n",
        "#  model defaulting to google/gemini-2.5-flash-lite and finally api_key which defaults to open_router_api_key .\n",
        "#  The function get_openrouter_response should function just like analyze_latvian_text_with_openrouter except with parameters.\n",
        "import requests  # we need to import requests to make API calls\n",
        "\n",
        "def get_openrouter_response(system_prompt, user_prompt,\n",
        "                            model=\"google/gemini-2.5-flash-lite\",\n",
        "                            api_key=open_router_api_key,\n",
        "                            max_tokens=4096,\n",
        "                            temperature=0.5,):\n",
        "    \"\"\"\n",
        "    Generic function to make requests to OpenRouter API with specified parameters.\n",
        "\n",
        "    :param system_prompt: The system prompt to guide the model's behavior.\n",
        "    :param user_prompt: The user query or text to analyze.\n",
        "    :param model: The model to use for the request (default is GPT-3.5).\n",
        "    :param api_key: The OpenRouter API key (default is loaded from environment).\n",
        "    :return: The response from the OpenRouter API.\n",
        "    \"\"\"\n",
        "\n",
        "    # Set up the API endpoint and headers\n",
        "    url = \"https://openrouter.ai/api/v1/chat/completions\"\n",
        "\n",
        "    headers = {\n",
        "        \"Authorization\": f\"Bearer {api_key}\",\n",
        "        \"Content-Type\": \"application/json\",\n",
        "        \"HTTP-Referer\": \"https://www.digitalhumanities.lv/bssdh/2025/\",  # Your project URL\n",
        "        \"X-Title\": \"BSSDH 2025 LLM Workshop - Generic OpenRouter Request\"\n",
        "    }\n",
        "\n",
        "    # Create the request payload\n",
        "    request_data = {\n",
        "        \"model\": model,\n",
        "        \"messages\": [\n",
        "            {\"role\": \"system\", \"content\": system_prompt},\n",
        "            {\"role\": \"user\", \"content\": user_prompt}\n",
        "        ],\n",
        "        \"max_tokens\": max_tokens,\n",
        "        \"temperature\": temperature,\n",
        "        \"top_p\": 0.9\n",
        "    }\n",
        "\n",
        "    # Make the API request\n",
        "    try:\n",
        "        response = requests.post(url, headers=headers, json=request_data, timeout=30)\n",
        "        response.raise_for_status()\n",
        "\n",
        "        result = response.json()\n",
        "\n",
        "        if 'choices' in result and len(result['choices']) > 0:\n",
        "            return result['choices'][0]['message']['content']\n",
        "\n",
        "        else:\n",
        "            print(\"❌ Error: No response returned from the API\")\n",
        "            return None\n",
        "\n",
        "    except requests.exceptions.RequestException as e:\n",
        "        print(f\"❌ Request Error: {e}\")\n",
        "        return None\n",
        "\n",
        "# let's test it on simple Meaning of Life question\n",
        "\n",
        "system_prompt = \"You are a digital humanities researcher specializing in named entity recognition and text analysis. You will analyze the text and provide all named entities as a list.\"\n",
        "user_prompt = content\n",
        "\n",
        "response = get_openrouter_response(system_prompt, user_prompt) # note we did not pass model or api_key, so it will use defaults of \"openai/gpt-3.5-turbo\" and open_router_api_key\n",
        "\n",
        "if response:\n",
        "    print(\"Response from OpenRouter API:\")\n",
        "    print(response)\n",
        "else:\n",
        "    print(\"Failed to get a response from OpenRouter API.\")"
      ]
    },
    {
      "cell_type": "markdown",
      "id": "489a99af",
      "metadata": {
        "id": "489a99af"
      },
      "source": [
        "## Adjusting system prompts\n",
        "\n",
        "We got our named entities but let's also have categories for them.\n",
        "We can do that by adjusting our system prompt to include categories for named entities."
      ]
    },
    {
      "cell_type": "code",
      "execution_count": null,
      "id": "223485c6",
      "metadata": {
        "colab": {
          "base_uri": "https://localhost:8080/"
        },
        "id": "223485c6",
        "outputId": "d17bc1f0-c105-43f1-f0f9-1d7131fa5577"
      },
      "outputs": [
        {
          "output_type": "stream",
          "name": "stdout",
          "text": [
            "Adjusted system prompt: You are a digital humanities researcher specializing in named entity recognition and text analysis. You will analyze the text and provide all named entities as a list. Please categorize the named entities into PERSON, ORGANIZATION, LOCATION, and MISC.\n"
          ]
        }
      ],
      "source": [
        "# let's adjust our system prompt by adding extra instruction to add categories for named entities.\n",
        "extra_instruction = \"Please categorize the named entities into PERSON, ORGANIZATION, LOCATION, and MISC.\"\n",
        "system_prompt = f\"{system_prompt} {extra_instruction}\"\n",
        "print(f\"Adjusted system prompt: {system_prompt}\")"
      ]
    },
    {
      "cell_type": "code",
      "execution_count": null,
      "id": "cfdbae4b",
      "metadata": {
        "colab": {
          "base_uri": "https://localhost:8080/"
        },
        "id": "cfdbae4b",
        "outputId": "341abc0d-c94b-4844-98b9-e3bb9c9cc4d9"
      },
      "outputs": [
        {
          "output_type": "stream",
          "name": "stdout",
          "text": [
            "Response with adjusted system prompt:\n",
            "Here are the named entities from the text, categorized as requested:\n",
            "\n",
            "**PERSON:**\n",
            "* None\n",
            "\n",
            "**ORGANIZATION:**\n",
            "* None\n",
            "\n",
            "**LOCATION:**\n",
            "* Latvia\n",
            "* Kalnciems\n",
            "* Sloka\n",
            "* Riga\n",
            "* Naves sala\n",
            "* Norway\n",
            "* Sweden\n",
            "* Denmark\n",
            "* Finland\n",
            "* England\n",
            "\n",
            "**MISC:**\n",
            "* Gypsum\n",
            "* Plaster of Paris\n"
          ]
        }
      ],
      "source": [
        "# let's see our response with adjusted system prompt\n",
        "response = get_openrouter_response(system_prompt, user_prompt)\n",
        "if response:\n",
        "    print(\"Response with adjusted system prompt:\")\n",
        "    print(response)"
      ]
    },
    {
      "cell_type": "markdown",
      "id": "6369b81d",
      "metadata": {
        "id": "6369b81d"
      },
      "source": [
        "## Getting a summary of the text\n",
        "\n",
        "One of the basic tasks we can do with LLMs is to get a summary of the text.\n",
        "\n"
      ]
    },
    {
      "cell_type": "code",
      "execution_count": null,
      "id": "24312220",
      "metadata": {
        "colab": {
          "base_uri": "https://localhost:8080/"
        },
        "id": "24312220",
        "outputId": "d31ff254-35fb-4a40-bd03-2743431f5ce5"
      },
      "outputs": [
        {
          "output_type": "stream",
          "name": "stdout",
          "text": [
            "Summary of the text:\n",
            "Here's a summary of the provided text about gypsum:\n",
            "\n",
            "*   **Gypsum Deposits in Latvia:** Latvia possesses extensive layers of gypseous stone, with active exploitation occurring in quarries at Kalnciems, Sloka, Salaspils, and Naves sala.\n",
            "*   **Export of Raw Gypsum:**\n",
            "    *   Raw gypsum is primarily exported for cement production.\n",
            "    *   In 1934, 69,000 tons were exported, generating Ls 395,000.\n",
            "    *   Exports were even higher in the following year.\n",
            "    *   Destinations include Norway, Sweden, Denmark, Finland, and England.\n",
            "    *   Latvian gypsum is valued abroad for its firm structure, which prevents machinery clogging during milling.\n",
            "    *   Average purity is 93%, with some layers yielding up to 99% pure gypsum.\n",
            "*   **Export of Plaster of Paris:**\n",
            "    *   In 1934, approximately 6,500 tons of Plaster of Paris were exported, earning Ls 85,000.\n",
            "    *   A 100% increase in Plaster of Paris exports was anticipated for the subsequent year.\n",
            "    *   The majority of Plaster of Paris is exported to England for manufacturing gypsum plates and other products.\n"
          ]
        }
      ],
      "source": [
        "summary_system_prompt = \"\"\"You are a digital humanities researcher specializing in text summarization.\n",
        "You will summarize the text and provide a concise summary in structured bullet point format.\"\"\"\n",
        "response = get_openrouter_response(summary_system_prompt, content)\n",
        "if response:\n",
        "    print(\"Summary of the text:\")\n",
        "    print(response)\n"
      ]
    },
    {
      "cell_type": "markdown",
      "id": "c925855f",
      "metadata": {
        "id": "c925855f"
      },
      "source": [
        "## Concept mining\n",
        "\n",
        "For those are unfamiliar with the term, concept mining is a process of extracting key concepts from a text.\n",
        "\n",
        "Concept mining involves automatically identifying and extracting abstract ideas or key concepts from large amounts of unstructured text data. It goes beyond surface-level keyword extraction by attempting to detect the underlying themes, topics, or conceptual entities present in the text -- including those that might not be explicitly named but are implied or paraphrased.\n",
        "\n",
        "Example would be \"the rise of the internet\" instead of just \"internet\". Instead of \"potatoes\" we could extract \"agricultural products\" or \"food production\". Something like \"food anxiety\" instead of just \"food\".\n",
        "\n",
        "There are some older non LLM techniques such as LDA (Latent Dirichlet Allocation) - that can be used for concept mining, which the instructors have used in previous work. See - [Baklane, Anda., Saulespurens, Valdis “The Application of Latent Dirichlet Allocation for the Analysis of Latvian Historical Newspapers: Oskars Kalpaks’ Case Study.” Nauka, Tehnologìï, Ìnnovacìï, State Scientific Institution - Ukrainian Institute of Scientific and Technical Expertise and Info, 2022.](https://www.academia.edu/112360712/The_application_of_latent_Dirichlet_allocation_for_the_analysis_of_latvian_historical_newspapers_Oskars_Kalpaks_case_study)\n",
        "\n",
        "However LLMs can provide more nuanced and context-aware results compared to LDA, especially in understanding the subtleties of language and the relationships between concepts.\n",
        "\n"
      ]
    },
    {
      "cell_type": "code",
      "execution_count": null,
      "id": "562cef48",
      "metadata": {
        "colab": {
          "base_uri": "https://localhost:8080/"
        },
        "id": "562cef48",
        "outputId": "c23d6453-1ccd-42d1-c645-bb249eb44714"
      },
      "outputs": [
        {
          "output_type": "stream",
          "name": "stdout",
          "text": [
            "Concepts extracted from the text:\n",
            "Here's a concept mining of the provided text, categorized into relevant themes:\n",
            "\n",
            "**Theme: Gypsum Resources and Exploitation**\n",
            "\n",
            "*   **Gypsum Deposits:**\n",
            "    *   Extensive layers of gypseous stone in Latvia\n",
            "    *   Layers with high purity (up to 99%)\n",
            "    *   Average purity of 93%\n",
            "*   **Exploited Quarries:**\n",
            "    *   Kalnciems\n",
            "    *   Sloka (33 km from Riga)\n",
            "    *   Salaspils (20 km from Riga)\n",
            "    *   Naves sala (25 km from Riga)\n",
            "\n",
            "**Theme: Gypsum Products and Applications**\n",
            "\n",
            "*   **Raw Gypsum:**\n",
            "    *   Used for cement manufacture\n",
            "*   **Plaster of Paris:**\n",
            "    *   Manufactured product from gypsum\n",
            "    *   Used for making gypsum plates and other articles\n",
            "\n",
            "**Theme: Gypsum Trade and Economics**\n",
            "\n",
            "*   **Export Destinations:**\n",
            "    *   Norway\n",
            "    *   Sweden\n",
            "    *   Denmark\n",
            "    *   Finland\n",
            "    *   England (primary destination for Plaster of Paris)\n",
            "*   **Export Volume (1934):**\n",
            "    *   Raw Gypsum: 69,000 tons\n",
            "    *   Plaster of Paris: ~6,500 tons\n",
            "*   **Export Revenue (1934):**\n",
            "    *   Raw Gypsum: Ls 395,000\n",
            "    *   Plaster of Paris: Ls 85,000\n",
            "*   **Export Trends:**\n",
            "    *   Larger export of raw gypsum in the year prior to 1934\n",
            "    *   Expected 100% increase in Plaster of Paris export for the current year\n",
            "\n",
            "**Theme: Gypsum Quality and Properties**\n",
            "\n",
            "*   **Firm Structure:**\n",
            "    *   Facilitates milling process\n",
            "    *   Prevents machinery clogging\n",
            "    *   Highly valued abroad\n"
          ]
        }
      ],
      "source": [
        "# let's make a system prompt for concept mining\n",
        "system_prompt = \"\"\"You are a digital humanities researcher specializing in concept mining.\n",
        "You will analyze the text and extract key concepts, themes, and patterns as a structured list.\n",
        "Please provide the concepts in a clear and concise manner, categorizing them into relevant themes.\"\"\"\n",
        "response = get_openrouter_response(system_prompt, content)\n",
        "if response:\n",
        "    print(\"Concepts extracted from the text:\")\n",
        "    print(response)"
      ]
    },
    {
      "cell_type": "markdown",
      "id": "0f6b6f67",
      "metadata": {
        "id": "0f6b6f67"
      },
      "source": [
        "## 🧠 Concept Categories for 1930s Latvian Economic Reports\n",
        "\n",
        "Above LLM output gave us structured but still flexible list of concepts. Usually we want to focus on a specific set of concepts that are relevant to our research. Below is a list of categories that we can use to organize the concepts extracted from the 1930s Latvian Economic Reports.\n",
        "\n",
        "### 🏦 Finance & Banking\n",
        "- Financial stability  \n",
        "- Monetary policy  \n",
        "- Currency regulation  \n",
        "- Exchange rates  \n",
        "- Foreign investment  \n",
        "- Credit availability  \n",
        "- Central banking  \n",
        "- Gold reserves  \n",
        "\n",
        "### 📈 Trade & Commerce\n",
        "- Trade liberalization  \n",
        "- Export promotion  \n",
        "- Import substitution  \n",
        "- Customs tariffs  \n",
        "- Balance of trade  \n",
        "- Foreign trade agreements  \n",
        "- Trade protectionism  \n",
        "- Trade surplus/deficit  \n",
        "- Transit trade  \n",
        "- Port activity (e.g., Riga, Liepāja)  \n",
        "\n",
        "### 🚜 Agriculture & Rural Economy\n",
        "- Agricultural modernization  \n",
        "- Land reform  \n",
        "- Crop yields  \n",
        "- Agricultural exports  \n",
        "- Collective farming (if present)  \n",
        "- Peasant cooperatives  \n",
        "- Grain storage and reserves  \n",
        "- Rural credit  \n",
        "- Mechanization of agriculture  \n",
        "- Dairy and livestock production  \n",
        "\n",
        "### 🏭 Industry & Infrastructure\n",
        "- Industrialization  \n",
        "- Manufacturing output  \n",
        "- Raw material imports  \n",
        "- Industrial policy  \n",
        "- State-owned enterprises  \n",
        "- Energy production (electricity, fuel)  \n",
        "- Infrastructure investment  \n",
        "- Transportation development  \n",
        "- Railway modernization  \n",
        "- Telecommunications expansion  \n",
        "\n",
        "### 👷 Labor & Employment\n",
        "- Unemployment  \n",
        "- Labor migration  \n",
        "- Wages and cost of living  \n",
        "- Labor policy  \n",
        "- Social insurance  \n",
        "- Vocational training  \n",
        "- Workforce productivity  \n",
        "- State employment programs  \n",
        "\n",
        "### 💰 Prices & Markets\n",
        "- Price stability  \n",
        "- Inflation control  \n",
        "- Consumer goods availability  \n",
        "- Market regulation  \n",
        "- Food pricing  \n",
        "- Speculation control  \n",
        "\n",
        "### 🏛️ Economic Policy & Governance\n",
        "- Five-year plans (if applicable)  \n",
        "- Corporatism  \n",
        "- Authoritarian economic planning  \n",
        "- State intervention  \n",
        "- Public-private partnerships  \n",
        "- Fiscal policy  \n",
        "- Budget deficit  \n",
        "- Taxation policy  \n",
        "- Economic nationalism  \n",
        "\n",
        "### 🌍 International Relations & Geopolitics\n",
        "- Trade with Germany, USSR, UK, Sweden, etc.  \n",
        "- Regional trade blocs (e.g., Baltic Entente)  \n",
        "- Neutrality in foreign policy  \n",
        "- Geopolitical pressures on trade  \n",
        "- Sanctions or economic treaties  \n",
        "\n",
        "### 🧑‍🏫 Education & Human Capital\n",
        "- Economic education  \n",
        "- Technical schools  \n",
        "- Business training  \n",
        "- Scientific research for industry  \n",
        "- Demographic skills gap  \n",
        "\n",
        "### 🧱 Development & Urbanization\n",
        "- Urban planning  \n",
        "- Rural-urban migration  \n",
        "- Public works  \n",
        "- Housing policy  \n",
        "- Regional economic disparity  \n",
        "- Municipal finance  \n",
        "\n",
        "---\n",
        "\n",
        "### 🎯 High-Level & Cross-Cutting Concepts\n",
        "- Economic self-sufficiency  \n",
        "- National economic strategy  \n",
        "- Resilience to global crisis  \n",
        "- Preparation for war economy  \n",
        "- Currency sovereignty  \n",
        "- Export dependency  \n",
        "- Shadow economy (if mentioned)  "
      ]
    },
    {
      "cell_type": "markdown",
      "id": "0a4c806e",
      "metadata": {
        "id": "0a4c806e"
      },
      "source": [
        "## Focusing on specific concepts - agriculture\n",
        "\n",
        "For this workshop let's focus on the agriculture category. We will extract concepts related to agriculture from the 1930s Latvian Economic Reports and analyze them in more detail.\n",
        "\n",
        "### Making a larger system prompt\n",
        "\n",
        "Our system prompt will be a bit more complex as we want to mention the specific category we are interested in. Also we want to provide example of format that we want the LLM to return so our analysis will be more structured and easier to work with.\n"
      ]
    },
    {
      "cell_type": "code",
      "execution_count": null,
      "id": "7abe9ea5",
      "metadata": {
        "colab": {
          "base_uri": "https://localhost:8080/"
        },
        "id": "7abe9ea5",
        "outputId": "ef476c82-7270-4447-cc71-fb5a717c0d6e"
      },
      "outputs": [
        {
          "output_type": "stream",
          "name": "stdout",
          "text": [
            "Agriculture-related concepts extracted from the text:\n",
            "```json\n",
            "[\n",
            "  {\n",
            "    \"phrase\": \"gypseous stone is exported both in raw condition (gypsum), principally for the manufacture of cement, and in the form of Plaster of Paris\",\n",
            "    \"explanation\": \"Describes the export of gypsum, a raw material, and its processed form (Plaster of Paris), indicating its role in trade.\",\n",
            "    \"subcategory\": \"Agricultural exports\"\n",
            "  },\n",
            "  {\n",
            "    \"phrase\": \"The export of gypsum totalled 69,000 tons in 1934\",\n",
            "    \"explanation\": \"Quantifies the amount of gypsum exported in a specific year, highlighting its significance in international trade.\",\n",
            "    \"subcategory\": \"Agricultural exports\"\n",
            "  },\n",
            "  {\n",
            "    \"phrase\": \"Latvian gypsum is very much liked abroad because of its firm structure which facilitates the milling process without clogging the machinery\",\n",
            "    \"explanation\": \"Explains the desirable qualities of Latvian gypsum for export, focusing on its physical properties that benefit processing.\",\n",
            "    \"subcategory\": \"Agricultural exports\"\n",
            "  },\n",
            "  {\n",
            "    \"phrase\": \"The export of Plaster of Paris amounted to about 6,500 tons in 1934\",\n",
            "    \"explanation\": \"Details the quantity of Plaster of Paris exported, indicating another product contributing to the country's trade balance.\",\n",
            "    \"subcategory\": \"Agricultural exports\"\n",
            "  }\n",
            "]\n",
            "```\n"
          ]
        }
      ],
      "source": [
        "agriculture_system_prompt = \"\"\"You are an expert assistant trained to analyze historical economic texts from 1930s Latvia.\n",
        "Your task is to read the input document or paragraph and extract any **concepts** that relate specifically to the domain of **Agriculture & Rural Economy**.\n",
        "Focus only on concepts connected to the following subcategories:\n",
        "- Agricultural modernization\n",
        "- Land reform\n",
        "- Crop yields\n",
        "- Agricultural exports\n",
        "- Collective farming (if present)\n",
        "- Peasant cooperatives\n",
        "- Grain storage and reserves\n",
        "- Rural credit\n",
        "- Mechanization of agriculture\n",
        "- Dairy and livestock production\n",
        "- Other agricultural practices\n",
        "\n",
        "For each concept you extract, return:\n",
        "- The **exact phrase** or **paraphrased expression** found in the text\n",
        "- A **brief explanation** (1–2 sentences) summarizing the concept’s meaning or context\n",
        "- The most relevant **subcategory** from the list above that it matches\n",
        "\n",
        "Only return relevant agricultural or rural economy concepts. If no relevant concept is found, return an empty list.\n",
        "\n",
        "Use the following output format (in JSON):\n",
        "\n",
        "[\n",
        "  {\n",
        "    \"phrase\": \"introduction of American tractors\",\n",
        "    \"explanation\": \"Refers to adoption of mechanized equipment to improve farming productivity.\",\n",
        "    \"subcategory\": \"Mechanization of agriculture\"\n",
        "  },\n",
        "  {\n",
        "    \"phrase\": \"state-supported grain warehouses\",\n",
        "    \"explanation\": \"Refers to government involvement in securing grain storage for future needs or trade.\",\n",
        "    \"subcategory\": \"Grain storage and reserves\"\n",
        "  }\n",
        "]\n",
        "\"\"\"\n",
        "\n",
        "response = get_openrouter_response(agriculture_system_prompt, content)\n",
        "if response:\n",
        "    print(\"Agriculture-related concepts extracted from the text:\")\n",
        "    print(response)"
      ]
    },
    {
      "cell_type": "markdown",
      "id": "f6f9fc6f",
      "metadata": {
        "id": "f6f9fc6f"
      },
      "source": [
        "## Fine-tuning the system prompt and adjusting model\n",
        "\n",
        "The LLM output is well structured and concepts are extracted with one MAJOR issue - semantically gypsum and plaster of Paris are not agricultural products!\n",
        "\n",
        " We can fix this by adjusting our system prompt to be more specific about the concepts we want to extract.\n",
        "\n",
        " Also we can adjust the model or its parameters to be more focused on the specific task we are trying to achieve. For example, we can increase the maximum number of tokens to allow for more detailed responses or adjust the temperature to make the model more conservative in its responses."
      ]
    },
    {
      "cell_type": "code",
      "execution_count": null,
      "id": "45748e85",
      "metadata": {
        "colab": {
          "base_uri": "https://localhost:8080/"
        },
        "id": "45748e85",
        "outputId": "355b2717-6160-4c9d-c0c1-535e49dd8a6b"
      },
      "outputs": [
        {
          "output_type": "stream",
          "name": "stdout",
          "text": [
            "Agriculture-related concepts extracted from the text using Gemini 2.5 Pro:\n",
            "[]\n"
          ]
        }
      ],
      "source": [
        "### let's try a different model first - let's try the best (and most expensive) current Gemini model as of mid 2025 - 2.5 Pro\n",
        "\n",
        "response = get_openrouter_response(agriculture_system_prompt, content, model=\"google/gemini-2.5-pro\")\n",
        "if response:\n",
        "    print(\"Agriculture-related concepts extracted from the text using Gemini 2.5 Pro:\")\n",
        "    print(response)"
      ]
    },
    {
      "cell_type": "markdown",
      "id": "fd88c0da",
      "metadata": {
        "id": "fd88c0da"
      },
      "source": [
        "### Trying other models - finding middle ground between speed and accuracy\n",
        "\n",
        "Pro model provided accurate answer namely that there are no agricultural products in the text. However, it is not very fast and it is not very cheap to use. The above query cost us about 0.01 USD - that is 1 cent which might not seem like much, but if we want to analyze a large corpus of documents, the costs can add up quickly.\n",
        "\n",
        "So let's see if we can find a model that is faster and cheaper but still provides accurate results. We will try different models and see how they perform on our task.\n",
        "\n",
        "Let's try the `golden mean` as of today [Google Gemini 2.5 Flash](https://openrouter.ai/google/gemini-2.5-flash)\n",
        "\n",
        "To do so we simply provide the model name in the `get_openrouter_response` function.\n",
        "\n"
      ]
    },
    {
      "cell_type": "code",
      "execution_count": null,
      "id": "c793322d",
      "metadata": {
        "colab": {
          "base_uri": "https://localhost:8080/"
        },
        "id": "c793322d",
        "outputId": "9c82372b-e3dd-4124-db4f-b18955289921"
      },
      "outputs": [
        {
          "output_type": "stream",
          "name": "stdout",
          "text": [
            "Agriculture-related concepts extracted from the text using Gemini 2.5 Flash:\n",
            "[]\n"
          ]
        }
      ],
      "source": [
        "# let's try with google/gemini-2.5-flash model\n",
        "response = get_openrouter_response(agriculture_system_prompt, content, model=\"google/gemini-2.5-flash\")\n",
        "if response:\n",
        "    print(\"Agriculture-related concepts extracted from the text using Gemini 2.5 Flash:\")\n",
        "    print(response)"
      ]
    },
    {
      "cell_type": "markdown",
      "id": "2bc6539a",
      "metadata": {
        "id": "2bc6539a"
      },
      "source": [
        "## Running model across multiple documents - our corpus\n",
        "\n",
        "The response looks good (and 10x cheaper that Gemini 2.5 Pro due mostly to limiting reasoning outputs which we do not need for concept mining task), however the question remains, what will happen when we run the model across multiple documents? Will have have many false positives or will the model be able to filter out the noise and provide us with relevant concepts?\n",
        "\n",
        "Now that we have gotten our results from a single document we can run the model across multiple documents in our corpus. We will iterate over the files in the directory where we extracted the LERQ corpus and apply the same system prompt to each file.\n",
        "\n",
        "Usually I like to run my prompts across a smaller sample than full corpus. So let's pick 30 documents at random from the corpus and see how the model performs."
      ]
    },
    {
      "cell_type": "code",
      "execution_count": null,
      "id": "f395f621",
      "metadata": {
        "id": "f395f621"
      },
      "outputs": [],
      "source": [
        "# let's pick random 30 files from the corpus and run the model across them\n",
        "def run_model_across_corpus(directory_path, system_prompt,\n",
        "                            model=\"google/gemini-2.5-flash\",\n",
        "                            sample_size=30,\n",
        "                            seed=2025,\n",
        "                            verbose=True,\n",
        "                            delay=0.1):\n",
        "    \"\"\"\n",
        "    Run the model across a sample of files in the specified directory.\n",
        "\n",
        "    :param directory_path: Path to the directory containing text files.\n",
        "    :param system_prompt: The system prompt to guide the model's behavior.\n",
        "    :param model: The model to use for the request (default is Gemini 2.5 Flash).\n",
        "    :param sample_size: Number of files to sample from the directory.\n",
        "    :return: List of responses from the model for each file.\n",
        "    \"\"\"\n",
        "    from pathlib import Path\n",
        "    from datetime import datetime\n",
        "    import time\n",
        "    from tqdm import tqdm  # for progress bar\n",
        "    import random  # for random sampling\n",
        "\n",
        "    directory = Path(directory_path)\n",
        "    txt_files = list(directory.glob(\"**/*.txt\"))  # Get all .txt files recursively\n",
        "\n",
        "    if verbose:\n",
        "        print(f\"Found {len(txt_files)} text files in the directory {directory}.\")\n",
        "\n",
        "    if len(txt_files) < sample_size:\n",
        "        print(f\"Not enough files in the directory. Found {len(txt_files)} files, but requested {sample_size}.\")\n",
        "        return []\n",
        "\n",
        "    if seed is not None:\n",
        "        random.seed(seed) # this ensures reproducibility of the random sample\n",
        "        # most random operations in computer science are not truly random, but rather pseudo-random\n",
        "\n",
        "    sampled_files = random.sample(txt_files, sample_size)  # Randomly sample files\n",
        "    responses = {} # we will use a dictionary to store responses with file names as keys\n",
        "\n",
        "    for file in tqdm(sampled_files):\n",
        "        with file.open('r', encoding='utf-8') as f:\n",
        "            content = f.read()\n",
        "        if verbose:\n",
        "            now = datetime.now()\n",
        "            # let's print the time in a human-readable format\n",
        "            print(f\"{now.strftime('%Y-%m-%d %H:%M:%S')}  Processing file: {file.name} ({file.stat().st_size:,} bytes)\")\n",
        "\n",
        "        response = get_openrouter_response(system_prompt, content, model=model)\n",
        "        if response:\n",
        "            responses[file.name] = response\n",
        "        else:\n",
        "            print(f\"Failed to get a response for {file.name}\")\n",
        "\n",
        "        time.sleep(delay)  # Delay to avoid hitting API rate limits if necessary\n",
        "\n",
        "    return responses"
      ]
    },
    {
      "cell_type": "code",
      "execution_count": null,
      "id": "411f04ad",
      "metadata": {
        "colab": {
          "base_uri": "https://localhost:8080/"
        },
        "id": "411f04ad",
        "outputId": "2cd526fd-dfe3-4291-ceff-c5fddc120ce5"
      },
      "outputs": [
        {
          "output_type": "stream",
          "name": "stderr",
          "text": [
            "100%|██████████| 30/30 [00:57<00:00,  1.90s/it]\n"
          ]
        }
      ],
      "source": [
        "# what was our extract_dir again?\n",
        "# we actually want the subdirectory with Latvian_Economic_Review folder\n",
        "extract_dir = Path(\"data/Latvian_Economic_Review\")  # Adjusted to point to the correct subdirectory\n",
        "responses = run_model_across_corpus(extract_dir, agriculture_system_prompt,\n",
        "                                    model=\"google/gemini-2.5-flash\", # actually the default but let's be explicit\n",
        "                                    sample_size=30, # again default is 30, but we can change it\n",
        "                                    seed=2025, # specific seed for reproducibility\n",
        "                                    verbose=False # set to True to see progress and processing information\n",
        "                                    )\n"
      ]
    },
    {
      "cell_type": "markdown",
      "id": "4c44c83a",
      "metadata": {
        "id": "4c44c83a"
      },
      "source": [
        "## Analyzing responses\n",
        "\n",
        "Now that we got 30 responses let's see if they are relevant and if the model was able to filter out the noise and provide us with relevant concepts.\n",
        "\n",
        "Main thing is to remember the format of our responses. Each response is a string in JSON format that contains the concepts extracted from the text. We have stored all responses in a dictionary with file name as key and response as value."
      ]
    },
    {
      "cell_type": "code",
      "execution_count": null,
      "id": "353b5ef4",
      "metadata": {
        "colab": {
          "base_uri": "https://localhost:8080/"
        },
        "id": "353b5ef4",
        "outputId": "96b5e4ac-d6ec-432e-b8d4-f1f2e1a054b7"
      },
      "outputs": [
        {
          "output_type": "stream",
          "name": "stdout",
          "text": [
            "Got 30 responses from the model across the sampled files.\n"
          ]
        }
      ],
      "source": [
        "# how many responses do we have?\n",
        "print(f\"Got {len(responses)} responses from the model across the sampled files.\")"
      ]
    },
    {
      "cell_type": "code",
      "execution_count": null,
      "id": "7b343782",
      "metadata": {
        "colab": {
          "base_uri": "https://localhost:8080/"
        },
        "id": "7b343782",
        "outputId": "e8573f9e-e003-409c-9781-c1bc53d6df41"
      },
      "outputs": [
        {
          "output_type": "stream",
          "name": "stdout",
          "text": [
            "File: lerq1939s01n04_036_plaintext_s16.txt\n",
            "Response: ```json\n",
            "[\n",
            "  {\n",
            "    \"phrase\": \"general efflorescence of agriculture\",\n",
            "    \"explanation\": \"Refers to a period of significant growth and prosperity in the agricultural sector in Latvia.\",\n",
            "    \"subcategory\": \"Agricultural modernization\"\n",
            "  },\n",
            "  {\n",
            "    \"phrase\": \"considerable increase in the number of independent landowners\",\n",
            "    \"explanation\": \"Indicates a shift in land ownership, likely a result of land reform policies, empowering individual farmers.\",\n",
            "    \"subcategory\": \"Land reform\"\n",
            "  },\n",
            "  {\n",
            "    \"phrase\": \"economic policy pursued in favour of agriculture\",\n",
            "    \"explanation\": \"Suggests government interventions and support mechanisms designed to benefit the agricultural sector.\",\n",
            "    \"subcategory\": \"Agricultural modernization\"\n",
            "  },\n",
            "  {\n",
            "    \"phrase\": \"agricultural school system\",\n",
            "    \"explanation\": \"Refers to the structured educational framework designed to train individuals in various aspects of farming and rural economy.\",\n",
            "    \"subcategory\": \"Agricultural modernization\"\n",
            "  },\n",
            "  {\n",
            "    \"phrase\": \"Academy of Agriculture\",\n",
            "    \"explanation\": \"A higher education institution dedicated to agricultural studies, aiming to expand and improve agricultural knowledge and practices.\",\n",
            "    \"subcategory\": \"Agricultural modernization\"\n",
            "  },\n",
            "  {\n",
            "    \"phrase\": \"exemplary farm of a strange farmer\",\n",
            "    \"explanation\": \"Refers to a farm that serves as a model or standard for agricultural practices, used for practical training.\",\n",
            "    \"subcategory\": \"Other agricultural practices\"\n",
            "  },\n",
            "  {\n",
            "    \"phrase\": \"future male and female farm managers\",\n",
            "    \"explanation\": \"Highlights the training of individuals to take on leadership and management roles in agricultural enterprises.\",\n",
            "    \"subcategory\": \"Agricultural modernization\"\n",
            "  },\n",
            "  {\n",
            "    \"phrase\": \"farms attached to the schools\",\n",
            "    \"explanation\": \"Indicates practical training facilities where students gain hands-on experience in farming.\",\n",
            "    \"subcategory\": \"Other agricultural practices\"\n",
            "  },\n",
            "  {\n",
            "    \"phrase\": \"exemplarily conducted private farms\",\n",
            "    \"explanation\": \"Refers to well-managed private farms used for practical training, demonstrating best practices in agriculture.\",\n",
            "    \"subcategory\": \"Other agricultural practices\"\n",
            "  },\n",
            "  {\n",
            "    \"phrase\": \"prepare the future farmers, men and women, for work on the farm\",\n",
            "    \"explanation\": \"Focuses on vocational training to equip individuals with the necessary skills for practical farming.\",\n",
            "    \"subcategory\": \"Agricultural modernization\"\n",
            "  },\n",
            "  {\n",
            "    \"phrase\": \"stock farming, horticulture and dairying\",\n",
            "    \"explanation\": \"Specific branches of agricultural production taught in schools, indicating diversification of agricultural activities.\",\n",
            "    \"subcategory\": \"Dairy and livestock production\"\n",
            "  },\n",
            "  {\n",
            "    \"phrase\": \"prepare experts in horticulture and apiculture\",\n",
            "    \"explanation\": \"Specialized training for specific agricultural fields, promoting expertise in plant cultivation and beekeeping.\",\n",
            "    \"subcategory\": \"Other agricultural practices\"\n",
            "  },\n",
            "  {\n",
            "    \"phrase\": \"Stock-farming Schools\",\n",
            "    \"explanation\": \"Educational institutions dedicated to training individuals in the management and care of livestock.\",\n",
            "    \"subcategory\": \"Dairy and livestock production\"\n",
            "  },\n",
            "  {\n",
            "    \"phrase\": \"future superintendents of stock-farming\",\n",
            "    \"explanation\": \"Training individuals for supervisory roles in livestock management, indicating a focus on improving efficiency and quality in animal husbandry.\",\n",
            "    \"subcategory\": \"Dairy and livestock production\"\n",
            "  },\n",
            "  {\n",
            "    \"phrase\": \"livestock supervising societies\",\n",
            "    \"explanation\": \"Organizations involved in overseeing and improving livestock practices, suggesting a collective effort for agricultural development.\",\n",
            "    \"subcategory\": \"Dairy and livestock production\"\n",
            "  },\n",
            "  {\n",
            "    \"phrase\": \"Dairy School\",\n",
            "    \"explanation\": \"A specialized educational institution focused on training individuals in dairy production, specifically butter and cheese making.\",\n",
            "    \"subcategory\": \"Dairy and livestock production\"\n",
            "  },\n",
            "  {\n",
            "    \"phrase\": \"prepare the future butter and cheese makers\",\n",
            "    \"explanation\": \"Vocational training for specific roles within the dairy industry, aimed at improving the quality and production of dairy products.\",\n",
            "    \"subcategory\": \"Dairy and livestock production\"\n",
            "  },\n",
            "  {\n",
            "    \"phrase\": \"Stock-Attendants School\",\n",
            "    \"explanation\": \"A school focused on training practical livestock attendants, emphasizing hands-on skills for animal care.\",\n",
            "    \"subcategory\": \"Dairy and livestock production\"\n",
            "  },\n",
            "  {\n",
            "    \"phrase\": \"Agricultural Foremen School\",\n",
            "    \"explanation\": \"Training for practical overseers who supervise farm work, indicating a need for skilled management in agricultural operations.\",\n",
            "    \"subcategory\": \"Agricultural modernization\"\n",
            "  },\n",
            "  {\n",
            "    \"phrase\": \"sections for farming, horticulture and stock farming\",\n",
            "    \"explanation\": \"Divisions within an agricultural school that specialize in different areas of agricultural production, reflecting a comprehensive approach to agricultural education.\",\n",
            "    \"subcategory\": \"Other agricultural practices\"\n",
            "  }\n",
            "]\n",
            "```\n",
            "\n",
            "File: lerq1936s01n03_005_plaintext_s01.txt\n",
            "Response: [\n",
            "  {\n",
            "    \"phrase\": \"Latvian Butter\",\n",
            "    \"explanation\": \"This concept refers to the production and likely export of butter, indicating a focus on dairy products within the Latvian economy.\",\n",
            "    \"subcategory\": \"Dairy and livestock production\"\n",
            "  },\n",
            "  {\n",
            "    \"phrase\": \"Afforestation in Latvia\",\n",
            "    \"explanation\": \"This concept indicates practices related to forestry, which is an agricultural practice focused on managing and establishing forests for timber or other products.\",\n",
            "    \"subcategory\": \"Other agricultural practices\"\n",
            "  }\n",
            "]\n",
            "\n",
            "File: lerq1938s01n03_025_plaintext_s11.txt\n",
            "Response: I'm sorry, but this document does not contain any concepts related to Agriculture & Rural Economy. It focuses primarily on the activities of the Latvian Chamber of Commerce and Industry in promoting foreign trade, regulating trade disputes, and facilitating international business relations, with a specific mention of timber exports.\n",
            "\n"
          ]
        }
      ],
      "source": [
        "# let's print the first 3 responses from our responses dictionary\n",
        "for i, (file_name, response) in enumerate(responses.items()):\n",
        "    if i < 3:  # Print only the first 3 responses\n",
        "        print(f\"File: {file_name}\")\n",
        "        print(f\"Response: {response}\\n\")\n",
        "    else:\n",
        "        break\n"
      ]
    },
    {
      "cell_type": "code",
      "execution_count": null,
      "id": "dec7722e",
      "metadata": {
        "colab": {
          "base_uri": "https://localhost:8080/"
        },
        "id": "dec7722e",
        "outputId": "01c83910-b6c3-4d1e-dcb8-4c832d5820de"
      },
      "outputs": [
        {
          "output_type": "stream",
          "name": "stdout",
          "text": [
            "File: lerq1939s01n04_036_plaintext_s16.txt has a valid response.\n",
            "File: lerq1936s01n03_005_plaintext_s01.txt has a valid response.\n",
            "File: lerq1938s01n03_025_plaintext_s11.txt has a valid response.\n",
            "File: lerq1940s01n01_037_plaintext_s16.txt has a valid response.\n",
            "File: lerq1937s01n07_037_plaintext_s16.txt has no valid response.\n",
            "File: lerq1939s01n04_032_plaintext_s14.txt has a valid response.\n",
            "File: lerq1938s01n01_036_plaintext_s15.txt has no valid response.\n",
            "File: lerq1937s01n06_007_plaintext_s06.txt has no valid response.\n",
            "File: lerq1936s01n03_036_plaintext_s22.txt has a valid response.\n",
            "File: lerq1938s01n04_052_plaintext_s46.txt has a valid response.\n",
            "File: lerq1938s01n01_037_plaintext_s20.txt has no valid response.\n",
            "File: lerq1940s01n02_020_plaintext_s09.txt has a valid response.\n",
            "File: lerq1939s01n01_043_plaintext_s18.txt has no valid response.\n",
            "File: lerq1936s01n04_041_plaintext_s19.txt has a valid response.\n",
            "File: lerq1936s01n01_031_plaintext_s22.txt has a valid response.\n",
            "File: lerq1936s01n02_003_plaintext_s01.txt has a valid response.\n",
            "File: lerq1938s01n03_034_plaintext_s15.txt has a valid response.\n",
            "File: lerq1937s01n05_023_plaintext_s10.txt has no valid response.\n",
            "File: lerq1936s01n02_010_plaintext_s04.txt has a valid response.\n",
            "File: lerq1939s01n02_032_plaintext_s13.txt has no valid response.\n",
            "File: lerq1936s01n04_023_plaintext_s09.txt has a valid response.\n",
            "File: lerq1936s01n04_038_plaintext_s17.txt has no valid response.\n",
            "File: lerq1938s01n02_038_plaintext_s15.txt has a valid response.\n",
            "File: lerq1936s01n03_026_plaintext_s15.txt has no valid response.\n",
            "File: lerq1939s01n02_017_plaintext_s07.txt has a valid response.\n",
            "File: lerq1938s01n02_018_plaintext_s07.txt has a valid response.\n",
            "File: lerq1938s01n04_013_plaintext_s09.txt has a valid response.\n",
            "File: lerq1937s01n07_038_plaintext_s19.txt has no valid response.\n",
            "File: lerq1937s01n05_028_plaintext_s14.txt has no valid response.\n",
            "File: lerq1937s01n06_008_plaintext_s07.txt has no valid response.\n"
          ]
        }
      ],
      "source": [
        "# let's see if we got any responses at all meaning responses that are not [] or None\n",
        "for file_name, response in responses.items():\n",
        "    if response and response != \"[]\":\n",
        "        print(f\"File: {file_name} has a valid response.\")\n",
        "    else:\n",
        "        print(f\"File: {file_name} has no valid response.\")"
      ]
    },
    {
      "cell_type": "code",
      "execution_count": null,
      "id": "00cc9947",
      "metadata": {
        "colab": {
          "base_uri": "https://localhost:8080/"
        },
        "id": "00cc9947",
        "outputId": "d5605fc1-8dad-43ca-9674-4dad9740b2d4"
      },
      "outputs": [
        {
          "output_type": "stream",
          "name": "stdout",
          "text": [
            "Got 18 valid responses from the model across the sampled files.\n"
          ]
        }
      ],
      "source": [
        "# Let's get valid responses only and print them\n",
        "valid_response = {}\n",
        "for file_name, response in responses.items():\n",
        "    if response and response != \"[]\":\n",
        "        valid_response[file_name] = response\n",
        "# how many valid responses do we have?\n",
        "print(f\"Got {len(valid_response)} valid responses from the model across the sampled files.\")"
      ]
    },
    {
      "cell_type": "code",
      "execution_count": null,
      "id": "b03372ca",
      "metadata": {
        "colab": {
          "base_uri": "https://localhost:8080/"
        },
        "id": "b03372ca",
        "outputId": "2cfab87f-f83e-43cb-fcf9-d7fbf8dd082e"
      },
      "outputs": [
        {
          "output_type": "stream",
          "name": "stdout",
          "text": [
            "File: lerq1939s01n04_036_plaintext_s16.txt\n",
            "Response: ```json\n",
            "[\n",
            "  {\n",
            "    \"phrase\": \"general efflorescence of agriculture\",\n",
            "    \"explanation\": \"Refers to a period of significant growth and prosperity in the agricultural sector in Latvia.\",\n",
            "    \"subcategory\": \"Agricultural modernization\"\n",
            "  },\n",
            "  {\n",
            "    \"phrase\": \"considerable increase in the number of independent landowners\",\n",
            "    \"explanation\": \"Indicates a shift in land ownership, likely a result of land reform policies, empowering individual farmers.\",\n",
            "    \"subcategory\": \"Land reform\"\n",
            "  },\n",
            "  {\n",
            "    \"phrase\": \"economic policy pursued in favour of agriculture\",\n",
            "    \"explanation\": \"Suggests government interventions and support mechanisms designed to benefit the agricultural sector.\",\n",
            "    \"subcategory\": \"Agricultural modernization\"\n",
            "  },\n",
            "  {\n",
            "    \"phrase\": \"agricultural school system\",\n",
            "    \"explanation\": \"Refers to the structured educational framework designed to train individuals in various aspects of farming and rural economy.\",\n",
            "    \"subcategory\": \"Agricultural modernization\"\n",
            "  },\n",
            "  {\n",
            "    \"phrase\": \"Academy of Agriculture\",\n",
            "    \"explanation\": \"A higher education institution dedicated to agricultural studies, aiming to expand and improve agricultural knowledge and practices.\",\n",
            "    \"subcategory\": \"Agricultural modernization\"\n",
            "  },\n",
            "  {\n",
            "    \"phrase\": \"exemplary farm of a strange farmer\",\n",
            "    \"explanation\": \"Refers to a farm that serves as a model or standard for agricultural practices, used for practical training.\",\n",
            "    \"subcategory\": \"Other agricultural practices\"\n",
            "  },\n",
            "  {\n",
            "    \"phrase\": \"future male and female farm managers\",\n",
            "    \"explanation\": \"Highlights the training of individuals to take on leadership and management roles in agricultural enterprises.\",\n",
            "    \"subcategory\": \"Agricultural modernization\"\n",
            "  },\n",
            "  {\n",
            "    \"phrase\": \"farms attached to the schools\",\n",
            "    \"explanation\": \"Indicates practical training facilities where students gain hands-on experience in farming.\",\n",
            "    \"subcategory\": \"Other agricultural practices\"\n",
            "  },\n",
            "  {\n",
            "    \"phrase\": \"exemplarily conducted private farms\",\n",
            "    \"explanation\": \"Refers to well-managed private farms used for practical training, demonstrating best practices in agriculture.\",\n",
            "    \"subcategory\": \"Other agricultural practices\"\n",
            "  },\n",
            "  {\n",
            "    \"phrase\": \"prepare the future farmers, men and women, for work on the farm\",\n",
            "    \"explanation\": \"Focuses on vocational training to equip individuals with the necessary skills for practical farming.\",\n",
            "    \"subcategory\": \"Agricultural modernization\"\n",
            "  },\n",
            "  {\n",
            "    \"phrase\": \"stock farming, horticulture and dairying\",\n",
            "    \"explanation\": \"Specific branches of agricultural production taught in schools, indicating diversification of agricultural activities.\",\n",
            "    \"subcategory\": \"Dairy and livestock production\"\n",
            "  },\n",
            "  {\n",
            "    \"phrase\": \"prepare experts in horticulture and apiculture\",\n",
            "    \"explanation\": \"Specialized training for specific agricultural fields, promoting expertise in plant cultivation and beekeeping.\",\n",
            "    \"subcategory\": \"Other agricultural practices\"\n",
            "  },\n",
            "  {\n",
            "    \"phrase\": \"Stock-farming Schools\",\n",
            "    \"explanation\": \"Educational institutions dedicated to training individuals in the management and care of livestock.\",\n",
            "    \"subcategory\": \"Dairy and livestock production\"\n",
            "  },\n",
            "  {\n",
            "    \"phrase\": \"future superintendents of stock-farming\",\n",
            "    \"explanation\": \"Training individuals for supervisory roles in livestock management, indicating a focus on improving efficiency and quality in animal husbandry.\",\n",
            "    \"subcategory\": \"Dairy and livestock production\"\n",
            "  },\n",
            "  {\n",
            "    \"phrase\": \"livestock supervising societies\",\n",
            "    \"explanation\": \"Organizations involved in overseeing and improving livestock practices, suggesting a collective effort for agricultural development.\",\n",
            "    \"subcategory\": \"Dairy and livestock production\"\n",
            "  },\n",
            "  {\n",
            "    \"phrase\": \"Dairy School\",\n",
            "    \"explanation\": \"A specialized educational institution focused on training individuals in dairy production, specifically butter and cheese making.\",\n",
            "    \"subcategory\": \"Dairy and livestock production\"\n",
            "  },\n",
            "  {\n",
            "    \"phrase\": \"prepare the future butter and cheese makers\",\n",
            "    \"explanation\": \"Vocational training for specific roles within the dairy industry, aimed at improving the quality and production of dairy products.\",\n",
            "    \"subcategory\": \"Dairy and livestock production\"\n",
            "  },\n",
            "  {\n",
            "    \"phrase\": \"Stock-Attendants School\",\n",
            "    \"explanation\": \"A school focused on training practical livestock attendants, emphasizing hands-on skills for animal care.\",\n",
            "    \"subcategory\": \"Dairy and livestock production\"\n",
            "  },\n",
            "  {\n",
            "    \"phrase\": \"Agricultural Foremen School\",\n",
            "    \"explanation\": \"Training for practical overseers who supervise farm work, indicating a need for skilled management in agricultural operations.\",\n",
            "    \"subcategory\": \"Agricultural modernization\"\n",
            "  },\n",
            "  {\n",
            "    \"phrase\": \"sections for farming, horticulture and stock farming\",\n",
            "    \"explanation\": \"Divisions within an agricultural school that specialize in different areas of agricultural production, reflecting a comprehensive approach to agricultural education.\",\n",
            "    \"subcategory\": \"Other agricultural practices\"\n",
            "  }\n",
            "]\n",
            "```\n",
            "\n",
            "File: lerq1936s01n03_005_plaintext_s01.txt\n",
            "Response: [\n",
            "  {\n",
            "    \"phrase\": \"Latvian Butter\",\n",
            "    \"explanation\": \"This concept refers to the production and likely export of butter, indicating a focus on dairy products within the Latvian economy.\",\n",
            "    \"subcategory\": \"Dairy and livestock production\"\n",
            "  },\n",
            "  {\n",
            "    \"phrase\": \"Afforestation in Latvia\",\n",
            "    \"explanation\": \"This concept indicates practices related to forestry, which is an agricultural practice focused on managing and establishing forests for timber or other products.\",\n",
            "    \"subcategory\": \"Other agricultural practices\"\n",
            "  }\n",
            "]\n",
            "\n",
            "File: lerq1938s01n03_025_plaintext_s11.txt\n",
            "Response: I'm sorry, but this document does not contain any concepts related to Agriculture & Rural Economy. It focuses primarily on the activities of the Latvian Chamber of Commerce and Industry in promoting foreign trade, regulating trade disputes, and facilitating international business relations, with a specific mention of timber exports.\n",
            "\n"
          ]
        }
      ],
      "source": [
        "# let's print first 3 valid responses\n",
        "for i, (file_name, response) in enumerate(valid_response.items()):\n",
        "    if i < 3:  # Print only the first 3 valid responses\n",
        "        print(f\"File: {file_name}\")\n",
        "        print(f\"Response: {response}\\n\")\n",
        "    else:\n",
        "        break"
      ]
    },
    {
      "cell_type": "markdown",
      "id": "1966916d",
      "metadata": {
        "id": "1966916d"
      },
      "source": [
        "## Converting responses from JSON to Python dictionary\n",
        "\n",
        "Our LLM responses are formated as JSON strings, so we need to convert them to Python dictionaries and/or lists for easier manipulation and analysis. We can use the `json` module in Python to do this.\n",
        "\n"
      ]
    },
    {
      "cell_type": "code",
      "execution_count": null,
      "id": "dda854a6",
      "metadata": {
        "colab": {
          "base_uri": "https://localhost:8080/"
        },
        "id": "dda854a6",
        "outputId": "b1a0980f-9766-4219-efdb-2d5117fed287"
      },
      "outputs": [
        {
          "output_type": "stream",
          "name": "stdout",
          "text": [
            "Error decoding JSON for file lerq1939s01n04_036_plaintext_s16.txt: Expecting value: line 1 column 1 (char 0)\n",
            "Error decoding JSON for file lerq1938s01n03_025_plaintext_s11.txt: Expecting value: line 1 column 1 (char 0)\n",
            "Error decoding JSON for file lerq1940s01n01_037_plaintext_s16.txt: Expecting value: line 1 column 1 (char 0)\n",
            "Error decoding JSON for file lerq1939s01n04_032_plaintext_s14.txt: Expecting value: line 1 column 1 (char 0)\n",
            "Error decoding JSON for file lerq1940s01n02_020_plaintext_s09.txt: Expecting value: line 1 column 1 (char 0)\n",
            "Error decoding JSON for file lerq1936s01n01_031_plaintext_s22.txt: Expecting value: line 1 column 1 (char 0)\n",
            "Error decoding JSON for file lerq1936s01n02_003_plaintext_s01.txt: Expecting value: line 1 column 1 (char 0)\n",
            "Error decoding JSON for file lerq1936s01n02_010_plaintext_s04.txt: Expecting value: line 1 column 1 (char 0)\n",
            "Error decoding JSON for file lerq1936s01n04_023_plaintext_s09.txt: Expecting value: line 1 column 1 (char 0)\n",
            "Error decoding JSON for file lerq1938s01n02_038_plaintext_s15.txt: Expecting value: line 1 column 1 (char 0)\n",
            "Error decoding JSON for file lerq1938s01n02_018_plaintext_s07.txt: Expecting value: line 1 column 1 (char 0)\n",
            "Error decoding JSON for file lerq1938s01n04_013_plaintext_s09.txt: Expecting value: line 1 column 1 (char 0)\n",
            "File: lerq1936s01n03_005_plaintext_s01.txt\n",
            "Response: [{'phrase': 'Latvian Butter', 'explanation': 'This concept refers to the production and likely export of butter, indicating a focus on dairy products within the Latvian economy.', 'subcategory': 'Dairy and livestock production'}, {'phrase': 'Afforestation in Latvia', 'explanation': 'This concept indicates practices related to forestry, which is an agricultural practice focused on managing and establishing forests for timber or other products.', 'subcategory': 'Other agricultural practices'}]\n",
            "\n",
            "File: lerq1936s01n03_036_plaintext_s22.txt\n",
            "Response: [{'phrase': 'agricultural Journal', 'explanation': 'A publication focused on agricultural topics, indicating a platform for discussing and disseminating information related to farming.', 'subcategory': 'Other agricultural practices'}, {'phrase': 'agricultural problems of actual importance', 'explanation': 'Highlights contemporary challenges and issues faced by the agricultural sector.', 'subcategory': 'Other agricultural practices'}, {'phrase': 'aspirations and needs of the agricultural countries of Central and Eastern Europe', 'explanation': 'Refers to the goals and requirements of nations in the region regarding their agricultural development and economic well-being.', 'subcategory': 'Other agricultural practices'}, {'phrase': 'latest developments in the agricultural affairs of Latvia', 'explanation': \"Indicates ongoing changes, progress, or issues within Latvia's agricultural sector.\", 'subcategory': 'Other agricultural practices'}]\n",
            "\n",
            "File: lerq1938s01n04_052_plaintext_s46.txt\n",
            "Response: [{'phrase': 'insurance of real estate, inventory, equipment and stocks of grain in the countryside', 'explanation': \"The new insurance company 'Drosiba' extended its reduced premium rates to cover agricultural assets, including land, equipment, and harvested grain in rural areas.\", 'subcategory': 'Other agricultural practices'}]\n",
            "\n"
          ]
        }
      ],
      "source": [
        "# let's go through all responses and convert them from JSON strings to Python data structures\n",
        "# this will also be a good test on LLM output stability\n",
        "import json\n",
        "# let's convert all responses from JSON strings to Python data structures\n",
        "converted_responses = {}\n",
        "bad_responses = {}\n",
        "for file_name, response in valid_response.items():\n",
        "    try:\n",
        "        converted_responses[file_name] = json.loads(response)  # Convert JSON string to Python data structure\n",
        "    except json.JSONDecodeError as e:\n",
        "        print(f\"Error decoding JSON for file {file_name}: {e}\")\n",
        "        bad_responses[file_name] = response\n",
        "\n",
        "# let's print the first 3 converted responses\n",
        "for i, (file_name, response) in enumerate(converted_responses.items()):\n",
        "    if i < 3:  # Print only the first 3 converted responses\n",
        "        print(f\"File: {file_name}\")\n",
        "        print(f\"Response: {response}\\n\")\n",
        "    else:\n",
        "        break"
      ]
    },
    {
      "cell_type": "code",
      "execution_count": null,
      "id": "70b6338f",
      "metadata": {
        "colab": {
          "base_uri": "https://localhost:8080/"
        },
        "id": "70b6338f",
        "outputId": "5894e47c-67d4-450f-c9d6-284f513fc5a1"
      },
      "outputs": [
        {
          "output_type": "stream",
          "name": "stdout",
          "text": [
            "File: lerq1939s01n04_036_plaintext_s16.txt has a bad response: ```json\n",
            "[\n",
            "  {\n",
            "    \"phrase\": \"general efflorescence of agriculture\",\n",
            "    \"explanation\": \"Refers to a period of significant growth and prosperity in the agricultural sector in Latvia.\",\n",
            "    \"subcategory\": \"Agricultural modernization\"\n",
            "  },\n",
            "  {\n",
            "    \"phrase\": \"considerable increase in the number of independent landowners\",\n",
            "    \"explanation\": \"Indicates a shift in land ownership, likely a result of land reform policies, empowering individual farmers.\",\n",
            "    \"subcategory\": \"Land reform\"\n",
            "  },\n",
            "  {\n",
            "    \"phrase\": \"economic policy pursued in favour of agriculture\",\n",
            "    \"explanation\": \"Suggests government interventions and support mechanisms designed to benefit the agricultural sector.\",\n",
            "    \"subcategory\": \"Agricultural modernization\"\n",
            "  },\n",
            "  {\n",
            "    \"phrase\": \"agricultural school system\",\n",
            "    \"explanation\": \"Refers to the structured educational framework designed to train individuals in various aspects of farming and rural economy.\",\n",
            "    \"subcategory\": \"Agricultural modernization\"\n",
            "  },\n",
            "  {\n",
            "    \"phrase\": \"Academy of Agriculture\",\n",
            "    \"explanation\": \"A higher education institution dedicated to agricultural studies, aiming to expand and improve agricultural knowledge and practices.\",\n",
            "    \"subcategory\": \"Agricultural modernization\"\n",
            "  },\n",
            "  {\n",
            "    \"phrase\": \"exemplary farm of a strange farmer\",\n",
            "    \"explanation\": \"Refers to a farm that serves as a model or standard for agricultural practices, used for practical training.\",\n",
            "    \"subcategory\": \"Other agricultural practices\"\n",
            "  },\n",
            "  {\n",
            "    \"phrase\": \"future male and female farm managers\",\n",
            "    \"explanation\": \"Highlights the training of individuals to take on leadership and management roles in agricultural enterprises.\",\n",
            "    \"subcategory\": \"Agricultural modernization\"\n",
            "  },\n",
            "  {\n",
            "    \"phrase\": \"farms attached to the schools\",\n",
            "    \"explanation\": \"Indicates practical training facilities where students gain hands-on experience in farming.\",\n",
            "    \"subcategory\": \"Other agricultural practices\"\n",
            "  },\n",
            "  {\n",
            "    \"phrase\": \"exemplarily conducted private farms\",\n",
            "    \"explanation\": \"Refers to well-managed private farms used for practical training, demonstrating best practices in agriculture.\",\n",
            "    \"subcategory\": \"Other agricultural practices\"\n",
            "  },\n",
            "  {\n",
            "    \"phrase\": \"prepare the future farmers, men and women, for work on the farm\",\n",
            "    \"explanation\": \"Focuses on vocational training to equip individuals with the necessary skills for practical farming.\",\n",
            "    \"subcategory\": \"Agricultural modernization\"\n",
            "  },\n",
            "  {\n",
            "    \"phrase\": \"stock farming, horticulture and dairying\",\n",
            "    \"explanation\": \"Specific branches of agricultural production taught in schools, indicating diversification of agricultural activities.\",\n",
            "    \"subcategory\": \"Dairy and livestock production\"\n",
            "  },\n",
            "  {\n",
            "    \"phrase\": \"prepare experts in horticulture and apiculture\",\n",
            "    \"explanation\": \"Specialized training for specific agricultural fields, promoting expertise in plant cultivation and beekeeping.\",\n",
            "    \"subcategory\": \"Other agricultural practices\"\n",
            "  },\n",
            "  {\n",
            "    \"phrase\": \"Stock-farming Schools\",\n",
            "    \"explanation\": \"Educational institutions dedicated to training individuals in the management and care of livestock.\",\n",
            "    \"subcategory\": \"Dairy and livestock production\"\n",
            "  },\n",
            "  {\n",
            "    \"phrase\": \"future superintendents of stock-farming\",\n",
            "    \"explanation\": \"Training individuals for supervisory roles in livestock management, indicating a focus on improving efficiency and quality in animal husbandry.\",\n",
            "    \"subcategory\": \"Dairy and livestock production\"\n",
            "  },\n",
            "  {\n",
            "    \"phrase\": \"livestock supervising societies\",\n",
            "    \"explanation\": \"Organizations involved in overseeing and improving livestock practices, suggesting a collective effort for agricultural development.\",\n",
            "    \"subcategory\": \"Dairy and livestock production\"\n",
            "  },\n",
            "  {\n",
            "    \"phrase\": \"Dairy School\",\n",
            "    \"explanation\": \"A specialized educational institution focused on training individuals in dairy production, specifically butter and cheese making.\",\n",
            "    \"subcategory\": \"Dairy and livestock production\"\n",
            "  },\n",
            "  {\n",
            "    \"phrase\": \"prepare the future butter and cheese makers\",\n",
            "    \"explanation\": \"Vocational training for specific roles within the dairy industry, aimed at improving the quality and production of dairy products.\",\n",
            "    \"subcategory\": \"Dairy and livestock production\"\n",
            "  },\n",
            "  {\n",
            "    \"phrase\": \"Stock-Attendants School\",\n",
            "    \"explanation\": \"A school focused on training practical livestock attendants, emphasizing hands-on skills for animal care.\",\n",
            "    \"subcategory\": \"Dairy and livestock production\"\n",
            "  },\n",
            "  {\n",
            "    \"phrase\": \"Agricultural Foremen School\",\n",
            "    \"explanation\": \"Training for practical overseers who supervise farm work, indicating a need for skilled management in agricultural operations.\",\n",
            "    \"subcategory\": \"Agricultural modernization\"\n",
            "  },\n",
            "  {\n",
            "    \"phrase\": \"sections for farming, horticulture and stock farming\",\n",
            "    \"explanation\": \"Divisions within an agricultural school that specialize in different areas of agricultural production, reflecting a comprehensive approach to agricultural education.\",\n",
            "    \"subcategory\": \"Other agricultural practices\"\n",
            "  }\n",
            "]\n",
            "```\n",
            "File: lerq1938s01n03_025_plaintext_s11.txt has a bad response: I'm sorry, but this document does not contain any concepts related to Agriculture & Rural Economy. It focuses primarily on the activities of the Latvian Chamber of Commerce and Industry in promoting foreign trade, regulating trade disputes, and facilitating international business relations, with a specific mention of timber exports.\n",
            "File: lerq1940s01n01_037_plaintext_s16.txt has a bad response: ```json\n",
            "[\n",
            "  {\n",
            "    \"phrase\": \"convey Kegums electric power to the farms and towns\",\n",
            "    \"explanation\": \"This refers to the expansion of electricity infrastructure to rural areas, providing power to agricultural units.\",\n",
            "    \"subcategory\": \"Agricultural modernization\"\n",
            "  },\n",
            "  {\n",
            "    \"phrase\": \"supply of electric power to the farms in the countryside\",\n",
            "    \"explanation\": \"Highlights the importance of providing electricity to farms, which is a key aspect of modernizing agricultural practices.\",\n",
            "    \"subcategory\": \"Agricultural modernization\"\n",
            "  },\n",
            "  {\n",
            "    \"phrase\": \"increased facilities for the supply of power to the farms direct\",\n",
            "    \"explanation\": \"Indicates government initiatives or plans to improve direct access to electricity for farms, facilitating agricultural development.\",\n",
            "    \"subcategory\": \"Agricultural modernization\"\n",
            "  },\n",
            "  {\n",
            "    \"phrase\": \"improvement of rural living conditions by the use of electricity for lighting and household purposes\",\n",
            "    \"explanation\": \"Describes the social benefits of rural electrification, enhancing quality of life in agricultural communities.\",\n",
            "    \"subcategory\": \"Agricultural modernization\"\n",
            "  },\n",
            "  {\n",
            "    \"phrase\": \"betterment of working conditions by substituting the electric motor for human labour in various kinds of farm-work\",\n",
            "    \"explanation\": \"Refers to the mechanization of farm tasks through the introduction of electric motors, reducing manual labor and improving efficiency.\",\n",
            "    \"subcategory\": \"Mechanization of agriculture\"\n",
            "  }\n",
            "]\n",
            "```\n",
            "File: lerq1939s01n04_032_plaintext_s14.txt has a bad response: ```json\n",
            "[\n",
            "  {\n",
            "    \"phrase\": \"achievements reached in the field of agriculture\",\n",
            "    \"explanation\": \"Refers to the progress and successes in agricultural development, highlighted by a dedicated exhibition.\",\n",
            "    \"subcategory\": \"Agricultural modernization\"\n",
            "  },\n",
            "  {\n",
            "    \"phrase\": \"possibilities of a further expansion in different branches of agricultural activity\",\n",
            "    \"explanation\": \"Indicates the potential for growth and diversification within various sectors of agriculture.\",\n",
            "    \"subcategory\": \"Agricultural modernization\"\n",
            "  },\n",
            "  {\n",
            "    \"phrase\": \"application of scientific methods and a wider use of the latest technical contrivances\",\n",
            "    \"explanation\": \"Emphasizes the adoption of modern scientific knowledge and advanced technology to improve farming practices.\",\n",
            "    \"subcategory\": \"Agricultural modernization\"\n",
            "  },\n",
            "  {\n",
            "    \"phrase\": \"improving the fields, augmenting the productivity of the soil, improving the quality of seeds and in general, mechanising agricultural work\",\n",
            "    \"explanation\": \"Details specific goals for agricultural improvement, including soil fertility, seed quality, and the widespread use of machinery.\",\n",
            "    \"subcategory\": \"Agricultural modernization\"\n",
            "  },\n",
            "  {\n",
            "    \"phrase\": \"mechanising agricultural work\",\n",
            "    \"explanation\": \"Refers to the process of introducing and increasing the use of machines in farming operations.\",\n",
            "    \"subcategory\": \"Mechanization of agriculture\"\n",
            "  },\n",
            "  {\n",
            "    \"phrase\": \"electricity could be used in the countryside\",\n",
            "    \"explanation\": \"Highlights the potential for rural electrification to support agricultural and rural development.\",\n",
            "    \"subcategory\": \"Other agricultural practices\"\n",
            "  },\n",
            "  {\n",
            "    \"phrase\": \"collection of all the machines and implements necessary for a normal farm of 40 hectares\",\n",
            "    \"explanation\": \"Showcases the range of agricultural machinery available and recommended for a typical farm size, encouraging mechanization.\",\n",
            "    \"subcategory\": \"Mechanization of agriculture\"\n",
            "  },\n",
            "  {\n",
            "    \"phrase\": \"private rural building activities\",\n",
            "    \"explanation\": \"Refers to construction and development in rural areas undertaken by private individuals or entities, often related to farm infrastructure.\",\n",
            "    \"subcategory\": \"Other agricultural practices\"\n",
            "  }\n",
            "]\n",
            "```\n",
            "File: lerq1940s01n02_020_plaintext_s09.txt has a bad response: ```json\n",
            "[\n",
            "  {\n",
            "    \"phrase\": \"Ministry of Agriculture\",\n",
            "    \"explanation\": \"Refers to a government department responsible for agricultural policy and oversight, indicating state involvement in the agricultural sector.\",\n",
            "    \"subcategory\": \"Other agricultural practices\"\n",
            "  }\n",
            "]\n",
            "```\n",
            "File: lerq1936s01n01_031_plaintext_s22.txt has a bad response: ```json\n",
            "[\n",
            "  {\n",
            "    \"phrase\": \"all farm buildings must be insured\",\n",
            "    \"explanation\": \"This indicates a compulsory insurance scheme specifically for agricultural structures, highlighting their economic importance and vulnerability.\",\n",
            "    \"subcategory\": \"Other agricultural practices\"\n",
            "  },\n",
            "  {\n",
            "    \"phrase\": \"over 400 rural mutual societies\",\n",
            "    \"explanation\": \"Refers to a large number of cooperative organizations operating in rural areas, likely providing mutual support and services, including insurance, to agricultural communities.\",\n",
            "    \"subcategory\": \"Peasant cooperatives\"\n",
            "  },\n",
            "  {\n",
            "    \"phrase\": \"cattle and other risks are also undertaken\",\n",
            "    \"explanation\": \"This points to insurance services being offered for livestock, indicating the economic significance of dairy and livestock production in the region.\",\n",
            "    \"subcategory\": \"Dairy and livestock production\"\n",
            "  }\n",
            "]\n",
            "```\n",
            "File: lerq1936s01n02_003_plaintext_s01.txt has a bad response: ```json\n",
            "[\n",
            "  {\n",
            "    \"phrase\": \"The PRIME MINISTER ON AGRICULTURE IN LATVIA.\",\n",
            "    \"explanation\": \"This phrase introduces a section dedicated to the Prime Minister's views on the agricultural sector, indicating its significant role in the national economy.\",\n",
            "    \"subcategory\": \"Other agricultural practices\"\n",
            "  },\n",
            "  {\n",
            "    \"phrase\": \"promoting and strengthening of agriculture\",\n",
            "    \"explanation\": \"Refers to efforts and policies aimed at improving and solidifying the agricultural sector's position and output.\",\n",
            "    \"subcategory\": \"Other agricultural practices\"\n",
            "  },\n",
            "  {\n",
            "    \"phrase\": \"achieve the security and advancement of this indispensable economic branch\",\n",
            "    \"explanation\": \"Highlights the goal of ensuring stability and progress within the agricultural sector, recognizing its crucial role in the economy.\",\n",
            "    \"subcategory\": \"Other agricultural practices\"\n",
            "  },\n",
            "  {\n",
            "    \"phrase\": \"pay primary attention to farming conditions, the work of our farmers and the fruit of their labour\",\n",
            "    \"explanation\": \"Emphasizes the focus on improving the circumstances under which farmers operate, valuing their efforts, and the output they produce.\",\n",
            "    \"subcategory\": \"Other agricultural practices\"\n",
            "  },\n",
            "  {\n",
            "    \"phrase\": \"principal export products of Latvia are well known abroad. They comprise mainly agricultural produce\",\n",
            "    \"explanation\": \"States that agricultural products constitute a major part of Latvia's exports, indicating the sector's importance to the country's foreign trade.\",\n",
            "    \"subcategory\": \"Agricultural exports\"\n",
            "  }\n",
            "]\n",
            "```\n",
            "File: lerq1936s01n02_010_plaintext_s04.txt has a bad response: ```json\n",
            "[\n",
            "  {\n",
            "    \"phrase\": \"fall of the prices of Latvian export products, such as butter, bacon, flax, timber materials etc.\",\n",
            "    \"explanation\": \"Describes a significant decrease in the market value of key agricultural and forestry products exported by Latvia, indicating a negative impact on the country's trade balance and agricultural sector income.\",\n",
            "    \"subcategory\": \"Agricultural exports\"\n",
            "  },\n",
            "  {\n",
            "    \"phrase\": \"increase of expenditure for the promotion of Agriculture\",\n",
            "    \"explanation\": \"Refers to the government allocating more funds to support and develop the agricultural sector.\",\n",
            "    \"subcategory\": \"Other agricultural practices\"\n",
            "  },\n",
            "  {\n",
            "    \"phrase\": \"in an agrarian country as Latvia is essentially, the welfare of all other economic branches depends on the stability of agricultural conditions\",\n",
            "    \"explanation\": \"Highlights Latvia's fundamental economic reliance on agriculture, implying that the health and stability of the agricultural sector are crucial for the overall economic well-being of the nation.\",\n",
            "    \"subcategory\": \"Other agricultural practices\"\n",
            "  }\n",
            "]\n",
            "```\n",
            "File: lerq1936s01n04_023_plaintext_s09.txt has a bad response: ```json\n",
            "[\n",
            "  {\n",
            "    \"phrase\": \"Sheep farming has always figured prominently among the agricultural pursuits in this country.\",\n",
            "    \"explanation\": \"Highlights the historical importance of sheep farming as a core agricultural activity in Latvia.\",\n",
            "    \"subcategory\": \"Dairy and livestock production\"\n",
            "  },\n",
            "  {\n",
            "    \"phrase\": \"The breeding of sheep for obtaining wool of high quality was begun even in the times of Duke James of Kurzeme (1642—1682), when merino sheep were imported from Spain and a large farm was established at Rucava.\",\n",
            "    \"explanation\": \"Describes early efforts to improve sheep breeds for better wool quality through importation and dedicated farming.\",\n",
            "    \"subcategory\": \"Other agricultural practices\"\n",
            "  },\n",
            "  {\n",
            "    \"phrase\": \"On Government initiative and with Government support special societies for the promotion of sheepbreeding were formed.\",\n",
            "    \"explanation\": \"Indicates government intervention and support for the development and improvement of sheep breeding.\",\n",
            "    \"subcategory\": \"Rural credit\"\n",
            "  },\n",
            "  {\n",
            "    \"phrase\": \"The products of Latvian sheep farms, viz., wool and mutton are consumed locally.\",\n",
            "    \"explanation\": \"Describes the primary outputs of sheep farming and their immediate market.\",\n",
            "    \"subcategory\": \"Agricultural exports\"\n",
            "  },\n",
            "  {\n",
            "    \"phrase\": \"the sheep-breeding section of the Latvian Chamber of Agriculture is organising special courses of instruction regarding the feeding and rearing of sheep, the grading of wool, and so forth.\",\n",
            "    \"explanation\": \"Details educational initiatives by an agricultural body to improve sheep farming practices and wool quality.\",\n",
            "    \"subcategory\": \"Agricultural modernization\"\n",
            "  },\n",
            "  {\n",
            "    \"phrase\": \"The same section issues special pedigree stock books and forms for systematising the selection of the best breeds, and issues directions relative to the duties of instructors and the functions of a special advisory office.\",\n",
            "    \"explanation\": \"Describes systematic efforts to improve livestock genetics and provide expert guidance to farmers.\",\n",
            "    \"subcategory\": \"Agricultural modernization\"\n",
            "  },\n",
            "  {\n",
            "    \"phrase\": \"Thus the Latvian Chamber of Agriculture is endeavouring to stimulate farmers' interest in this important branch of agriculture and helping farmers to improve the quality of the local breed which must, in due course, reflect upon the output of wool and mutton.\",\n",
            "    \"explanation\": \"Outlines the role of the Chamber of Agriculture in promoting and improving sheep farming, focusing on breed quality for better yields.\",\n",
            "    \"subcategory\": \"Agricultural modernization\"\n",
            "  },\n",
            "  {\n",
            "    \"phrase\": \"it has been deemed advisable to improve the local breed with the help of well-equipped breeding stations.\",\n",
            "    \"explanation\": \"Highlights the strategy of using specialized facilities to enhance the genetic quality of local sheep breeds.\",\n",
            "    \"subcategory\": \"Agricultural modernization\"\n",
            "  },\n",
            "  {\n",
            "    \"phrase\": \"Many of these breeding stations were established by former agricultural organisations. With State support, the Latvian Chamber of Agriculture has also contributed to the increase in the number of breeding stations.\",\n",
            "    \"explanation\": \"Indicates the collaborative effort between agricultural organizations and state support in establishing and expanding breeding infrastructure.\",\n",
            "    \"subcategory\": \"Rural credit\"\n",
            "  },\n",
            "  {\n",
            "    \"phrase\": \"Farmers show great interest in pedigree sheep and lambs, and as the demand is always brisk, it has been necessary to import such stock.\",\n",
            "    \"explanation\": \"Describes the strong demand among farmers for genetically superior livestock, leading to imports.\",\n",
            "    \"subcategory\": \"Dairy and livestock production\"\n",
            "  },\n",
            "  {\n",
            "    \"phrase\": \"The Ministry of Agriculture contemplates introducing fixed prices for wool. Various other measures are being adopted to stimulate the interest of local agricultural circles in sheep farming, in order to maintain the supply of raw material for this important branch of our textile industry.\",\n",
            "    \"explanation\": \"Shows government intention to regulate wool prices and implement policies to encourage sheep farming and ensure raw material supply for industry.\",\n",
            "    \"subcategory\": \"Rural credit\"\n",
            "  }\n",
            "]\n",
            "```\n",
            "File: lerq1938s01n02_038_plaintext_s15.txt has a bad response: ```json\n",
            "[\n",
            "  {\n",
            "    \"phrase\": \"increase the crops\",\n",
            "    \"explanation\": \"Refers to efforts to improve agricultural output and productivity.\",\n",
            "    \"subcategory\": \"Crop yields\"\n",
            "  },\n",
            "  {\n",
            "    \"phrase\": \"regulate the agricultural labour question\",\n",
            "    \"explanation\": \"Addresses issues related to the workforce in agriculture, potentially concerning efficiency, availability, or conditions.\",\n",
            "    \"subcategory\": \"Other agricultural practices\"\n",
            "  },\n",
            "  {\n",
            "    \"phrase\": \"diminishing the difference in the living conditions between the towns and the countryside\",\n",
            "    \"explanation\": \"Highlights a policy goal to reduce disparities in quality of life between urban and rural areas, suggesting a focus on rural development.\",\n",
            "    \"subcategory\": \"Rural credit\"\n",
            "  },\n",
            "  {\n",
            "    \"phrase\": \"augmenting of crops\",\n",
            "    \"explanation\": \"Refers to scientific investigations aimed at increasing agricultural yields.\",\n",
            "    \"subcategory\": \"Crop yields\"\n",
            "  },\n",
            "  {\n",
            "    \"phrase\": \"preserving of green fodder\",\n",
            "    \"explanation\": \"Refers to methods and technologies for storing and maintaining the quality of animal feed.\",\n",
            "    \"subcategory\": \"Dairy and livestock production\"\n",
            "  },\n",
            "  {\n",
            "    \"phrase\": \"proper feeding of cows\",\n",
            "    \"explanation\": \"Refers to scientific studies on optimizing the nutrition of dairy cattle.\",\n",
            "    \"subcategory\": \"Dairy and livestock production\"\n",
            "  },\n",
            "  {\n",
            "    \"phrase\": \"obtaining of pure milk\",\n",
            "    \"explanation\": \"Refers to scientific investigations focused on improving the quality and hygiene of milk production.\",\n",
            "    \"subcategory\": \"Dairy and livestock production\"\n",
            "  },\n",
            "  {\n",
            "    \"phrase\": \"Ministry of Agriculture\",\n",
            "    \"explanation\": \"A governmental body responsible for agricultural policy and oversight.\",\n",
            "    \"subcategory\": \"Other agricultural practices\"\n",
            "  },\n",
            "  {\n",
            "    \"phrase\": \"Chamber of Agriculture\",\n",
            "    \"explanation\": \"An organization representing agricultural interests, likely involved in policy, education, or advocacy.\",\n",
            "    \"subcategory\": \"Peasant cooperatives\"\n",
            "  },\n",
            "  {\n",
            "    \"phrase\": \"Latvia's agriculture\",\n",
            "    \"explanation\": \"General reference to the agricultural sector of Latvia.\",\n",
            "    \"subcategory\": \"Other agricultural practices\"\n",
            "  },\n",
            "  {\n",
            "    \"phrase\": \"rural households\",\n",
            "    \"explanation\": \"Refers to homes and families located in the countryside, often associated with agricultural activities.\",\n",
            "    \"subcategory\": \"Rural credit\"\n",
            "  }\n",
            "]\n",
            "```\n",
            "File: lerq1938s01n02_018_plaintext_s07.txt has a bad response: I am sorry, but the provided text does not contain any concepts related to \"Agriculture & Rural Economy\". The document discusses a new law regarding joint stock companies and partnership companies in Latvia, focusing on corporate governance, finance, and legal structures, with no mention of agricultural practices or rural economic issues.\n",
            "File: lerq1938s01n04_013_plaintext_s09.txt has a bad response: ```json\n",
            "[\n",
            "  {\n",
            "    \"phrase\": \"area of cultivated land in Latvia diminished by 27% during the war\",\n",
            "    \"explanation\": \"Describes a significant reduction in agricultural land use due to wartime conditions.\",\n",
            "    \"subcategory\": \"Other agricultural practices\"\n",
            "  },\n",
            "  {\n",
            "    \"phrase\": \"area of arable land ... began to grow again\",\n",
            "    \"explanation\": \"Indicates a recovery and expansion of land used for cultivation after a period of decline.\",\n",
            "    \"subcategory\": \"Other agricultural practices\"\n",
            "  },\n",
            "  {\n",
            "    \"phrase\": \"agricultural exploitation of the soil has become more intensive than before the war\",\n",
            "    \"explanation\": \"Refers to an increase in the intensity of land use for agricultural purposes, suggesting improved productivity or methods.\",\n",
            "    \"subcategory\": \"Other agricultural practices\"\n",
            "  },\n",
            "  {\n",
            "    \"phrase\": \"agrarian reform has impeded or enhanced a more intensive exploitation of the soil\",\n",
            "    \"explanation\": \"Questions the impact of land reform policies on the intensity and efficiency of agricultural land use.\",\n",
            "    \"subcategory\": \"Land reform\"\n",
            "  },\n",
            "  {\n",
            "    \"phrase\": \"replenishing the number of livestock, and especially in improving the quality of the same\",\n",
            "    \"explanation\": \"Describes efforts to increase livestock populations and enhance their genetic quality.\",\n",
            "    \"subcategory\": \"Dairy and livestock production\"\n",
            "  },\n",
            "  {\n",
            "    \"phrase\": \"breeding of milch cattle\",\n",
            "    \"explanation\": \"Focuses on the specific practice of raising cattle for milk production.\",\n",
            "    \"subcategory\": \"Dairy and livestock production\"\n",
            "  },\n",
            "  {\n",
            "    \"phrase\": \"yield of milk has been increasing from year to year and the quality of the milk has improved considerably\",\n",
            "    \"explanation\": \"Indicates positive trends in both the quantity and quality of milk produced.\",\n",
            "    \"subcategory\": \"Dairy and livestock production\"\n",
            "  },\n",
            "  {\n",
            "    \"phrase\": \"working up of the milk has been placed on an industrial basis, in co-operative dairies\",\n",
            "    \"explanation\": \"Describes the modernization and collectivization of milk processing, moving towards industrial scale operations through cooperatives.\",\n",
            "    \"subcategory\": \"Peasant cooperatives\"\n",
            "  }\n",
            "]\n",
            "```\n"
          ]
        }
      ],
      "source": [
        "# let's print the bad responses\n",
        "for file_name, response in bad_responses.items():\n",
        "    print(f\"File: {file_name} has a bad response: {response}\")"
      ]
    },
    {
      "cell_type": "code",
      "execution_count": null,
      "id": "c78ec18a",
      "metadata": {
        "id": "c78ec18a"
      },
      "outputs": [],
      "source": []
    },
    {
      "cell_type": "markdown",
      "id": "6cbd75a6",
      "metadata": {
        "id": "6cbd75a6"
      },
      "source": [
        "### Fixing bad responses\n",
        "\n",
        "We see that bad responses are actually are not truly bad they just start with ```json and end with ```. We can fix this by removing the ```json and ``` from the start and end of the response string."
      ]
    },
    {
      "cell_type": "code",
      "execution_count": null,
      "id": "f0f32894",
      "metadata": {
        "id": "f0f32894",
        "outputId": "669a3987-8c18-407d-e039-d9e4a4e4a4d1",
        "colab": {
          "base_uri": "https://localhost:8080/"
        }
      },
      "outputs": [
        {
          "output_type": "stream",
          "name": "stdout",
          "text": [
            "Error decoding JSON for file lerq1938s01n03_025_plaintext_s11.txt: Expecting value: line 1 column 1 (char 0)\n",
            "Error decoding JSON for file lerq1938s01n02_018_plaintext_s07.txt: Expecting value: line 1 column 1 (char 0)\n"
          ]
        }
      ],
      "source": [
        "# let's go through all responses and convert them from JSON strings to Python dictionaries\n",
        "# we will also strip the response from ```json and ``` at the start and end of the response string\n",
        "good_responses = {}\n",
        "bad_responses = {}\n",
        "for file_name, response in responses.items():\n",
        "    response = response.lstrip(\"```json\")  # Remove ```json from the start\n",
        "    response = response.rstrip(\"```\")  # Remove ``` from the end\n",
        "    try:\n",
        "        good_responses[file_name] = json.loads(response)  # Convert JSON string to Python data structure\n",
        "    except json.JSONDecodeError as e:\n",
        "        print(f\"Error decoding JSON for file {file_name}: {e}\")\n",
        "        bad_responses[file_name] = response"
      ]
    },
    {
      "cell_type": "code",
      "execution_count": null,
      "id": "c91c3514",
      "metadata": {
        "id": "c91c3514",
        "outputId": "3603c127-b8b3-4ccc-c361-28d54fe53346",
        "colab": {
          "base_uri": "https://localhost:8080/"
        }
      },
      "outputs": [
        {
          "output_type": "stream",
          "name": "stdout",
          "text": [
            "File: lerq1938s01n03_025_plaintext_s11.txt has a bad response: I'm sorry, but this document does not contain any concepts related to Agriculture & Rural Economy. It focuses primarily on the activities of the Latvian Chamber of Commerce and Industry in promoting foreign trade, regulating trade disputes, and facilitating international business relations, with a specific mention of timber exports.\n",
            "File: lerq1938s01n02_018_plaintext_s07.txt has a bad response: I am sorry, but the provided text does not contain any concepts related to \"Agriculture & Rural Economy\". The document discusses a new law regarding joint stock companies and partnership companies in Latvia, focusing on corporate governance, finance, and legal structures, with no mention of agricultural practices or rural economic issues.\n"
          ]
        }
      ],
      "source": [
        "# let's print first bad responses again\n",
        "for file_name, response in bad_responses.items():\n",
        "    print(f\"File: {file_name} has a bad response: {response}\")"
      ]
    },
    {
      "cell_type": "markdown",
      "id": "3d0746dd",
      "metadata": {
        "id": "3d0746dd"
      },
      "source": [
        "### Fixing bad JSON\n",
        "\n",
        "We have gotten the easy cases fixed but the last malformed JSON is due to double quotes not being escaped properly in all places. We can fix this by replacing the double quotes with escaped double quotes.\n",
        "\n",
        "Alternatively we could apply stricter instructions to the model to return valid JSON. However, this would require us to adjust our system prompt and possibly the model parameters as well.\n",
        "\n",
        "We have a third option which is to supply the response to LLM again with different prompt and have LLM fix the JSON"
      ]
    },
    {
      "cell_type": "code",
      "execution_count": null,
      "id": "b57db797",
      "metadata": {
        "id": "b57db797",
        "outputId": "0376ce59-b44d-4529-9806-196da30498ab",
        "colab": {
          "base_uri": "https://localhost:8080/"
        }
      },
      "outputs": [
        {
          "output_type": "stream",
          "name": "stdout",
          "text": [
            "Fixed response for lerq1938s01n03_025_plaintext_s11.txt: ```json\n",
            "[\n",
            "  {\n",
            "    \"concept\": \"Foreign Trade Promotion\",\n",
            "    \"description\": \"The Latvian Chamber of Commerce and Industry actively promotes foreign trade by facilitating international business relations and identifying export opportunities.\"\n",
            "  },\n",
            "  {\n",
            "    \"concept\": \"Trade Dispute Regulation\",\n",
            "    \"description\": \"The Chamber plays a role in regulating trade disputes, likely through mediation or arbitration services, to ensure fair and efficient resolution of commercial disagreements.\"\n",
            "  },\n",
            "  {\n",
            "    \"concept\": \"International Business Facilitation\",\n",
            "    \"description\": \"The organization facilitates international business activities for Latvian companies, which may include providing information, networking opportunities, and support for market entry.\"\n",
            "  },\n",
            "  {\n",
            "    \"concept\": \"Timber Exports\",\n",
            "    \"description\": \"A specific mention of timber exports indicates that this is a significant sector for Latvian foreign trade and a focus area for the Chamber's promotional efforts.\"\n",
            "  }\n",
            "]\n",
            "```\n",
            "Error decoding fixed JSON for file lerq1938s01n03_025_plaintext_s11.txt: Expecting value: line 1 column 1 (char 0)\n",
            "Failed to fix JSON for lerq1938s01n03_025_plaintext_s11.txt\n",
            "Fixed response for lerq1938s01n02_018_plaintext_s07.txt: ```json\n",
            "[\n",
            "  {\n",
            "    \"title\": \"Latvian Law on Joint Stock Companies and Partnership Companies: A Deep Dive into Corporate Governance and Finance\",\n",
            "    \"content\": \"This document outlines the intricacies of the new Latvian law concerning joint stock companies and partnership companies. It primarily focuses on corporate governance structures, financial regulations, and the legal frameworks governing these business entities. Key areas of discussion include shareholder rights, board responsibilities, capital requirements, and the process of company formation and dissolution. The document delves into the nuances of corporate finance within the Latvian legal context, examining aspects such as dividend distribution, share issuance, and debt management. Furthermore, it addresses legal structures pertaining to partnerships, distinguishing between general and limited partnerships and their respective liabilities and operational frameworks. The analysis is purely legal and financial, with no mention of agricultural practices, rural development, or any related economic sectors. It is a comprehensive guide for understanding corporate law in Latvia, particularly for those involved in business, finance, or legal professions.\"\n",
            "  }\n",
            "]\n",
            "```\n",
            "Error decoding fixed JSON for file lerq1938s01n02_018_plaintext_s07.txt: Expecting value: line 1 column 1 (char 0)\n",
            "Failed to fix JSON for lerq1938s01n02_018_plaintext_s07.txt\n"
          ]
        }
      ],
      "source": [
        "# let's fix the malformed JSON responses\n",
        "fix_json_prompt = \"\"\"Please fix the following JSON response which should be an array of objects where double quotes are not escaped properly.\n",
        "The response should be proper JSON string without ```json start and without ``` end with all other content intact.\"\"\"\n",
        "fixed_responses = {}\n",
        "for file_name, response in bad_responses.items():\n",
        "    # we will use the same get_openrouter_response function to fix the JSON\n",
        "    fixed_response = get_openrouter_response(fix_json_prompt, response, model=\"google/gemini-2.5-flash\")\n",
        "    print(f\"Fixed response for {file_name}: {fixed_response}\")\n",
        "    # try parsing response to ensure it is valid JSON\n",
        "    try:\n",
        "        json.loads(fixed_response)  # Validate the fixed response\n",
        "    except json.JSONDecodeError as e:\n",
        "        print(f\"Error decoding fixed JSON for file {file_name}: {e}\")\n",
        "        fixed_response = None\n",
        "    if fixed_response:\n",
        "        fixed_responses[file_name] = fixed_response\n",
        "    else:\n",
        "        print(f\"Failed to fix JSON for {file_name}\")"
      ]
    },
    {
      "cell_type": "markdown",
      "id": "34s6AuyekV4n",
      "metadata": {
        "id": "34s6AuyekV4n"
      },
      "source": [
        "## Running custom system prompt on specific folder\n",
        "\n",
        "Now that we have experimented with a small sample let's create a new function that takes the following parameters:\n",
        "\n",
        "\n",
        "- system_prompt - our custom instructions\n",
        "- file_folder where the files to be analyzed is needed\n",
        "- file_extension where we want .txt to be default extenstion\n",
        "- max_files where we want None to be default meaning unlimited files\n",
        "- seed where we want None to be default this would be used when max_files is not None\n",
        "- model where default would be \"google/gemini-2.5-flash\"\n",
        "\n",
        "We could add a few more parameters such as temperature and max tokens but this is enough to get started\n"
      ]
    },
    {
      "cell_type": "code",
      "execution_count": null,
      "id": "nshDX3a-lYfZ",
      "metadata": {
        "id": "nshDX3a-lYfZ"
      },
      "outputs": [],
      "source": [
        "# we want a function that will take our system prompt and file folder and will save in save_folder all responses using original file name and custom suffix\n",
        "# - system_prompt - our custom instructions\n",
        "# - file_folder where the files to be analyzed is needed\n",
        "# - file_extension where we want .txt to be default extenstion\n",
        "# - max_files where we want None to be default meaning unlimited files\n",
        "# - seed where we want None to be default this would be used when max_files is not None\n",
        "# - model where default would be \"google/gemini-2.5-flash\"\n",
        "# - save_folder where default would be \"responses\"\n",
        "# - we could specific save suffix but instead let's have a filename friendly version of model meaning we will remove / and - and replace those with _\n",
        "import json\n",
        "import os\n",
        "import random\n",
        "import time\n",
        "from pathlib import Path\n",
        "from datetime import datetime\n",
        "from tqdm import tqdm\n",
        "\n",
        "def save_responses_from_folder(system_prompt,\n",
        "                               file_folder,\n",
        "                               file_extension=\".txt\",\n",
        "                               max_files=None,\n",
        "                               seed=None,\n",
        "                               model=\"google/gemini-2.5-flash\",\n",
        "                               save_folder=\"responses\",\n",
        "                               delay=0.1,\n",
        "                               verbose=True):\n",
        "    \"\"\"\n",
        "    Processes files in a folder using an LLM and saves the responses.\n",
        "\n",
        "    :param system_prompt: The system prompt to guide the model's behavior.\n",
        "    :param file_folder: Path to the directory containing files to process.\n",
        "    :param file_extension: The extension of the files to process (default is .txt).\n",
        "    :param max_files: Maximum number of files to process (default is None for all files).\n",
        "    :param seed: Seed for random sampling if max_files is not None.\n",
        "    :param model: The model to use for the request (default is google/gemini-2.5-flash).\n",
        "    :param save_folder: The folder to save the responses (default is \"responses\").\n",
        "    :param delay: Delay in seconds between API calls to avoid rate limits.\n",
        "    :param verbose: If True, print detailed information during processing.\n",
        "    \"\"\"\n",
        "    file_folder_path = Path(file_folder)\n",
        "    save_folder_path = Path(save_folder)\n",
        "\n",
        "    if not file_folder_path.exists():\n",
        "        print(f\"Error: File folder '{file_folder}' does not exist.\")\n",
        "        return\n",
        "\n",
        "    # Create save folder if it doesn't exist\n",
        "    save_folder_path.mkdir(parents=True, exist_ok=True)\n",
        "\n",
        "    # Create a filename-friendly version of the model name\n",
        "    model_suffix = model.replace(\"/\", \"_\").replace(\"-\", \"_\")\n",
        "\n",
        "    # Find files with the specified extension\n",
        "    all_files = sorted(file_folder_path.rglob(f\"*{file_extension}\"))\n",
        "\n",
        "    if verbose:\n",
        "        print(f\"Found {len(all_files)} '{file_extension}' files in '{file_folder}'.\")\n",
        "\n",
        "    files_to_process = all_files\n",
        "    if seed is not None and max_files is not None and max_files < len(all_files):\n",
        "        random.seed(seed)\n",
        "        files_to_process = random.sample(all_files, max_files)\n",
        "        if verbose:\n",
        "            print(f\"Obtaining a random sample of {len(files_to_process)} files.\")\n",
        "    if seed is None and max_files is not None:\n",
        "        files_to_process = files_to_process[:max_files]\n",
        "\n",
        "\n",
        "    if verbose:\n",
        "        print(f\"Processing a  {len(files_to_process)} files.\")\n",
        "\n",
        "    if not files_to_process:\n",
        "        print(\"No files to process.\")\n",
        "        return\n",
        "\n",
        "    for file in tqdm(files_to_process, desc=\"Processing files\"):\n",
        "        if verbose:\n",
        "            now = datetime.now()\n",
        "            print(f\"\\n{now.strftime('%Y-%m-%d %H:%M:%S')}  Processing file: {file.relative_to(file_folder_path)} ({file.stat().st_size:,} bytes)\")\n",
        "\n",
        "        # Construct the output filename\n",
        "        output_filename = save_folder_path / f\"{file.stem}_{model_suffix}{file.suffix}\"\n",
        "\n",
        "\n",
        "        # Create parent directories for the output file if they don't exist\n",
        "        output_filename.parent.mkdir(parents=True, exist_ok=True)\n",
        "\n",
        "        # Check if response already exists\n",
        "        if output_filename.exists():\n",
        "            if verbose:\n",
        "                print(f\"  Response already exists for {file.name}, skipping.\")\n",
        "            continue\n",
        "\n",
        "\n",
        "        with file.open('r', encoding='utf-8') as f:\n",
        "            content = f.read()\n",
        "\n",
        "        response = get_openrouter_response(system_prompt, content, model=model)\n",
        "\n",
        "        # Save the response to a file\n",
        "        with open(output_filename, 'w', encoding='utf-8') as outfile:\n",
        "            outfile.write(response)\n",
        "            if verbose:\n",
        "                print(f\"  Response saved to {output_filename}\")\n",
        "\n",
        "        time.sleep(delay)  # Pause between requests\n",
        "\n",
        "    if verbose:\n",
        "        print(\"\\nFinished processing files.\")"
      ]
    },
    {
      "cell_type": "code",
      "execution_count": null,
      "id": "6tpcRUPcoJm-",
      "metadata": {
        "colab": {
          "base_uri": "https://localhost:8080/"
        },
        "id": "6tpcRUPcoJm-",
        "outputId": "7c0c1798-9337-4080-bd50-f7db415c6f2c"
      },
      "outputs": [
        {
          "output_type": "stream",
          "name": "stdout",
          "text": [
            "Found 419 '.txt' files in 'data/Latvian_Economic_Review'.\n",
            "Processing a  10 files.\n"
          ]
        },
        {
          "output_type": "stream",
          "name": "stderr",
          "text": [
            "\rProcessing files:   0%|          | 0/10 [00:00<?, ?it/s]"
          ]
        },
        {
          "output_type": "stream",
          "name": "stdout",
          "text": [
            "\n",
            "2025-08-06 20:33:31  Processing file: lerq1936s01n01_003_plaintext_s01.txt (8,662 bytes)\n"
          ]
        },
        {
          "output_type": "stream",
          "name": "stderr",
          "text": [
            "\rProcessing files:  10%|█         | 1/10 [00:04<00:43,  4.81s/it]"
          ]
        },
        {
          "output_type": "stream",
          "name": "stdout",
          "text": [
            "  Response saved to responses/lerq1936s01n01_003_plaintext_s01_google_gemini_2.5_flash.txt\n",
            "\n",
            "2025-08-06 20:33:36  Processing file: lerq1936s01n01_006_plaintext_s02.txt (5,190 bytes)\n"
          ]
        },
        {
          "output_type": "stream",
          "name": "stderr",
          "text": [
            "\rProcessing files:  20%|██        | 2/10 [00:06<00:22,  2.77s/it]"
          ]
        },
        {
          "output_type": "stream",
          "name": "stdout",
          "text": [
            "  Response saved to responses/lerq1936s01n01_006_plaintext_s02_google_gemini_2.5_flash.txt\n",
            "\n",
            "2025-08-06 20:33:37  Processing file: lerq1936s01n01_008_plaintext_s03.txt (6,066 bytes)\n"
          ]
        },
        {
          "output_type": "stream",
          "name": "stderr",
          "text": [
            "\rProcessing files:  30%|███       | 3/10 [00:13<00:34,  4.87s/it]"
          ]
        },
        {
          "output_type": "stream",
          "name": "stdout",
          "text": [
            "  Response saved to responses/lerq1936s01n01_008_plaintext_s03_google_gemini_2.5_flash.txt\n",
            "\n",
            "2025-08-06 20:33:44  Processing file: lerq1936s01n01_009_plaintext_s04.txt (5,523 bytes)\n"
          ]
        },
        {
          "output_type": "stream",
          "name": "stderr",
          "text": [
            "\rProcessing files:  40%|████      | 4/10 [00:14<00:19,  3.27s/it]"
          ]
        },
        {
          "output_type": "stream",
          "name": "stdout",
          "text": [
            "  Response saved to responses/lerq1936s01n01_009_plaintext_s04_google_gemini_2.5_flash.txt\n",
            "\n",
            "2025-08-06 20:33:45  Processing file: lerq1936s01n01_013_plaintext_s05.txt (3,866 bytes)\n"
          ]
        },
        {
          "output_type": "stream",
          "name": "stderr",
          "text": [
            "\rProcessing files:  50%|█████     | 5/10 [00:14<00:11,  2.31s/it]"
          ]
        },
        {
          "output_type": "stream",
          "name": "stdout",
          "text": [
            "  Response saved to responses/lerq1936s01n01_013_plaintext_s05_google_gemini_2.5_flash.txt\n",
            "\n",
            "2025-08-06 20:33:46  Processing file: lerq1936s01n01_014_plaintext_s06.txt (1,144 bytes)\n"
          ]
        },
        {
          "output_type": "stream",
          "name": "stderr",
          "text": [
            "\rProcessing files:  60%|██████    | 6/10 [00:15<00:07,  1.76s/it]"
          ]
        },
        {
          "output_type": "stream",
          "name": "stdout",
          "text": [
            "  Response saved to responses/lerq1936s01n01_014_plaintext_s06_google_gemini_2.5_flash.txt\n",
            "\n",
            "2025-08-06 20:33:46  Processing file: lerq1936s01n01_014_plaintext_s07.txt (629 bytes)\n"
          ]
        },
        {
          "output_type": "stream",
          "name": "stderr",
          "text": [
            "\rProcessing files:  70%|███████   | 7/10 [00:16<00:04,  1.49s/it]"
          ]
        },
        {
          "output_type": "stream",
          "name": "stdout",
          "text": [
            "  Response saved to responses/lerq1936s01n01_014_plaintext_s07_google_gemini_2.5_flash.txt\n",
            "\n",
            "2025-08-06 20:33:47  Processing file: lerq1936s01n01_015_plaintext_s08.txt (7,520 bytes)\n"
          ]
        },
        {
          "output_type": "stream",
          "name": "stderr",
          "text": [
            "\rProcessing files:  80%|████████  | 8/10 [00:23<00:06,  3.08s/it]"
          ]
        },
        {
          "output_type": "stream",
          "name": "stdout",
          "text": [
            "  Response saved to responses/lerq1936s01n01_015_plaintext_s08_google_gemini_2.5_flash.txt\n",
            "\n",
            "2025-08-06 20:33:54  Processing file: lerq1936s01n01_017_plaintext_s09.txt (951 bytes)\n"
          ]
        },
        {
          "output_type": "stream",
          "name": "stderr",
          "text": [
            "\rProcessing files:  90%|█████████ | 9/10 [00:23<00:02,  2.36s/it]"
          ]
        },
        {
          "output_type": "stream",
          "name": "stdout",
          "text": [
            "  Response saved to responses/lerq1936s01n01_017_plaintext_s09_google_gemini_2.5_flash.txt\n",
            "\n",
            "2025-08-06 20:33:55  Processing file: lerq1936s01n01_018_plaintext_s10.txt (7,625 bytes)\n"
          ]
        },
        {
          "output_type": "stream",
          "name": "stderr",
          "text": [
            "Processing files: 100%|██████████| 10/10 [00:35<00:00,  3.52s/it]"
          ]
        },
        {
          "output_type": "stream",
          "name": "stdout",
          "text": [
            "  Response saved to responses/lerq1936s01n01_018_plaintext_s10_google_gemini_2.5_flash.txt\n",
            "\n",
            "Finished processing files.\n"
          ]
        },
        {
          "output_type": "stream",
          "name": "stderr",
          "text": [
            "\n"
          ]
        }
      ],
      "source": [
        "# let's get a folder that we want to process\n",
        "# it would be data/Latvian_Economic_Review folder here\n",
        "# for now let's only get 10 responses\n",
        "source_folder = \"data/Latvian_Economic_Review\"\n",
        "# now we can call the function using same old agriculture prompt\n",
        "save_responses_from_folder(agriculture_system_prompt,\n",
        "                           source_folder,\n",
        "                           max_files = 10)"
      ]
    },
    {
      "cell_type": "markdown",
      "id": "74Ds0R4tpsUZ",
      "metadata": {
        "id": "74Ds0R4tpsUZ"
      },
      "source": [
        "## Adjusting system prompt for simpler output\n",
        "\n",
        "Now we see that sometimes instead of JSON we get nonstandard output.\n",
        "\n",
        "This presents a problem for automatic processing, so again we would need to write more code to catch these non standard situations or make our prompt even stronger or change our model.\n",
        "\n",
        "For now we will change prompt to be simpler and to produce simple CSV - comma separated values output"
      ]
    },
    {
      "cell_type": "code",
      "execution_count": null,
      "id": "c056708f",
      "metadata": {
        "id": "c056708f"
      },
      "outputs": [],
      "source": [
        "agriculture_system_prompt_list = \"\"\"You are an expert assistant trained to analyze historical economic texts from 1930s Latvia.\n",
        "Your task is to read the input document or paragraph and extract specific concepts related to **Agriculture & Rural Economy**.\n",
        "Return the concepts as a list of single words enclosed in double quotes, each on a new line.\n",
        "- Agricultural modernization return \"modernization\"\n",
        "- Land reform return \"reform\"\n",
        "- Crop yields return \"yields\"\n",
        "- Agricultural exports return \"exports\"\n",
        "- Collective farming return \"collective\"\n",
        "- Peasant cooperatives return \"cooperatives\"\n",
        "- Grain storage and reserves return \"storage\"\n",
        "- Rural credit return \"credit\"\n",
        "- Mechanization of agriculture return \"mechanization\"\n",
        "- Dairy and livestock production return \"dairy\"\n",
        "\n",
        "Example output:\n",
        "\n",
        "\"exports\"\n",
        "\"modernization\"\n",
        "\"reform\"\n",
        "\n",
        "If no relevant concept is found, return a single word \"None\" with quotes around it, like this: \"None\".\n",
        "\n",
        "\n",
        "\"\"\""
      ]
    },
    {
      "cell_type": "code",
      "execution_count": null,
      "id": "e0562ad0",
      "metadata": {
        "id": "e0562ad0",
        "outputId": "9cbcc7a7-c548-4e67-d5fb-9535121227d9",
        "colab": {
          "base_uri": "https://localhost:8080/"
        }
      },
      "outputs": [
        {
          "output_type": "stream",
          "name": "stderr",
          "text": [
            "Processing files: 100%|██████████| 10/10 [00:07<00:00,  1.30it/s]\n"
          ]
        }
      ],
      "source": [
        "# now let's run this function again with the new system prompt and extract to responses_csv folder\n",
        "save_responses_from_folder(agriculture_system_prompt_list,\n",
        "                            source_folder,\n",
        "                            max_files=10,  # let's limit to 10 files for now\n",
        "                            save_folder=\"responses_list\",  # we will save to responses_list folder\n",
        "                            model=\"google/gemini-2.5-flash\", # using the same model as before\n",
        "                            verbose=False)"
      ]
    },
    {
      "cell_type": "markdown",
      "id": "ab45a23b",
      "metadata": {
        "id": "ab45a23b"
      },
      "source": [
        "## Class Project - submit for credit\n",
        "\n",
        "Extract all named entities from first 30 files in the LERQ corpus as individual 30 files in responses_ner folder.\n",
        "Create your own system prompt for this purpose.\n",
        "The individual response files should be as close as possible to the following CSV format:\n",
        "\n",
        "entity, category, description\n",
        "\n",
        "Riga, city, capital of Latvia\n",
        "\n",
        "Latvia, country, country in the Baltic region\n",
        "\n",
        "The individual file name should follow the same format as shown above: for example `lerq1936s01n02_032_plaintext_s18_google_gemini_2.5_flash.txt`\n",
        "\n",
        "### What to submit\n",
        "\n",
        "Submit a **SINGLE** zip file name_surname_bssdh2025.zip with your responses_ner folder that contains all 30 files with named entities extracted from the LERQ corpus. In the same name_surname_bssdh2025.zip file at top level include a file called system_prompt_model_name.txt that contains your system prompt used to extract the named entities.\n",
        "model_name should be replaced with the name of the model you used to extract the named entities, e.g. if model was google/gemini-2.5-flash the file name would be system_prompt_gemini_2.5_flash.txt\n",
        "\n",
        "A list of available models can be found at [OpenRouter](https://openrouter.ai/models).\n",
        "\n",
        "You have close to $1 credit on your API key, so pay attention to the model you choose and how many files you process. In general you have enough credit to process about 1000 files with medium cost models and about 100 files with high cost models. This should be enough to have some fun with testing different models and prompts.\n",
        "\n",
        "Submit what you think is the best result you can get with the model you choose. You can also try different models and prompts, but make sure to submit only one zip file with your best result.\n",
        "\n",
        "### Where to submit\n",
        "\n",
        "Submit your own name_surname_bssdh2025.zip file at the following [Google Forms link](https://docs.google.com/forms/d/e/1FAIpQLScgVjw51smpN_ZwOt9X0i-M7_NNLGT8wGqJ-pUej3kgpBZeLw/viewform?usp=header)\n",
        "\n",
        "### Deadline\n",
        "\n",
        "We will provide a deadline for the submission of the project. The deadline will be announced during the workshop session.\n"
      ]
    },
    {
      "cell_type": "markdown",
      "id": "b1c50e58",
      "metadata": {
        "id": "b1c50e58"
      },
      "source": [
        "## What else to do with responses?\n",
        "\n",
        "Now that we have our responses in multiple files, we could analyze them further which is beyond the scope of this workshop. We could plot the results in various ways such as time series bubble chart, perform manual analysis, count the number of occurrences of each concept, or even use another LLM to summarize the results.\n",
        "\n",
        "For the purposes of this workshop you do not have to submit your analysis, but you can do it for your own interest."
      ]
    }
  ],
  "metadata": {
    "colab": {
      "provenance": []
    },
    "kernelspec": {
      "display_name": "venv",
      "language": "python",
      "name": "python3"
    },
    "language_info": {
      "codemirror_mode": {
        "name": "ipython",
        "version": 3
      },
      "file_extension": ".py",
      "mimetype": "text/x-python",
      "name": "python",
      "nbconvert_exporter": "python",
      "pygments_lexer": "ipython3",
      "version": "3.12.7"
    }
  },
  "nbformat": 4,
  "nbformat_minor": 5
}