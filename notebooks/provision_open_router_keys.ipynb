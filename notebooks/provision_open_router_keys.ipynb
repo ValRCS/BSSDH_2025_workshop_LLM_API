{
 "cells": [
  {
   "cell_type": "markdown",
   "id": "03bdfedd",
   "metadata": {},
   "source": [
    "# Provisioning OpenRouter API keys\n",
    "\n",
    "This notebook is for instructors to provision OpenRouter API keys for workshop participants. It is not intended for use by participants.\n",
    "\n",
    "However intermediate and advanced participants are welcome to see the code and use it as a reference whenever they need to bulk provision API keys for their own projects.\n",
    "\n",
    "## OpenRouter API provisioning\n",
    "\n",
    "OpenRouter provides a simple API to create and manage API keys. \n",
    "\n",
    "The core idea is to use a special API key that has the `admin` role, which allows you to create new API keys for other users. This key does not make regular API calls but is used to manage API keys.\n",
    "\n",
    "This type of key is extremely powerful and should be kept secret. It is not intended for use in production applications or by end users.\n",
    "\n",
    "If this type of key is compromised, it can be used to create new API keys for any user, which can then be used to make API calls and drain your account's balance to zero."
   ]
  },
  {
   "cell_type": "code",
   "execution_count": 22,
   "id": "b953c617",
   "metadata": {},
   "outputs": [
    {
     "name": "stdout",
     "output_type": "stream",
     "text": [
      "Python version: 3.12.6 (tags/v3.12.6:a4a2d2b, Sep  6 2024, 20:11:23) [MSC v.1940 64 bit (AMD64)]\n",
      "Current date and time: 2025-07-25 12:33:54.132865\n",
      "OPEN_ROUTER_BSSDH_PROVISIONER key loaded from environment variables.\n",
      "requests library is installed: 2.32.4\n"
     ]
    }
   ],
   "source": [
    "# first let's load needed libraries and also read system environment variables\n",
    "# let's load Python sys to see what Python version we are using\n",
    "import sys\n",
    "print(f\"Python version: {sys.version}\")\n",
    "# now datetime\n",
    "from datetime import datetime\n",
    "print(f\"Current date and time: {datetime.now()}\")\n",
    "# we will need json to read and write JSON files\n",
    "import json\n",
    "# and os to read environment variables\n",
    "import os\n",
    "\n",
    "# we also need Pathlib to work with file paths\n",
    "from pathlib import Path\n",
    "\n",
    "# now let's read environment variables\n",
    "\n",
    "# OPEN_ROUTER_BSSDH_PROVISIONER\n",
    "open_router_bssdh_provisioner = os.getenv(\"OPEN_ROUTER_BSSDH_PROVISIONER\")\n",
    "if open_router_bssdh_provisioner:\n",
    "    print(\"OPEN_ROUTER_BSSDH_PROVISIONER key loaded from environment variables.\")\n",
    "    # README! we do not want to print the key itself for security reasons it is very easy to print it and publish it by mistake\n",
    "else:\n",
    "    print(\"OPEN_ROUTER_BSSDH_PROVISIONER key not found in environment variables. Please set it before running the script.\")\n",
    "\n",
    "\n",
    "# we will need some external libraries, so let's check if they are installed\n",
    "# first requests\n",
    "try:\n",
    "    import requests\n",
    "    print(f\"requests library is installed: {requests.__version__}\")\n",
    "except ImportError:\n",
    "    print(\"requests library is not installed. Please install it using 'pip install requests' from command line terminal.\")"
   ]
  },
  {
   "cell_type": "markdown",
   "id": "49454e3a",
   "metadata": {},
   "source": [
    "## Provisioning API keys\n",
    "\n",
    "### Creating function to create API keys\n",
    "\n",
    "First we need to create a function that will use the OpenRouter API to create new API keys. This function name, label and limit with some defaults that can be overridden by the caller.\n"
   ]
  },
  {
   "cell_type": "code",
   "execution_count": null,
   "id": "a6900c73",
   "metadata": {},
   "outputs": [
    {
     "name": "stdout",
     "output_type": "stream",
     "text": [
      "API key created successfully.\n"
     ]
    }
   ],
   "source": [
    "# now that everything is loaded, let's define a function to provision API keys\n",
    "def provision_open_router_keys(provision_key=open_router_bssdh_provisioner, \n",
    "                               name=\"Test Customer Instance Key\",\n",
    "                               label=\"TestCustomer123\",\n",
    "                               limit=1): # 1 USD dollar limit by default\n",
    "    # we use example from https://openrouter.ai/docs/features/provisioning-api-keys\n",
    "    PROVISIONING_API_KEY = provision_key\n",
    "    BASE_URL = \"https://openrouter.ai/api/v1/keys\"\n",
    "    # Create a new API key\n",
    "    response = requests.post(\n",
    "        # f\"{BASE_URL}/\", # this is WRONG! no need for trailing slash\n",
    "        url = BASE_URL,\n",
    "        headers={\n",
    "            \"Authorization\": f\"Bearer {PROVISIONING_API_KEY}\",\n",
    "            \"Content-Type\": \"application/json\"\n",
    "        },\n",
    "        json={\n",
    "            \"name\": name,   # Name of the API key\n",
    "            \"label\": label,\n",
    "            \"limit\": limit  # Optional credit limit\n",
    "        }\n",
    "    )\n",
    "    # return the response\n",
    "    if response.status_code == 201:\n",
    "        print(\"API key created successfully.\")\n",
    "        return response.json()  # Return the JSON response containing the API key details\n",
    "    else:\n",
    "        print(f\"Failed to create API key: {response.status_code} - {response.text}\")\n",
    "        return None\n",
    "    \n",
    "# let's test the function to create a new API key\n",
    "new_key = provision_open_router_keys(\n",
    "    name=\"BSSDH 2025 Workshop\",\n",
    "    label=\"BSSDH 2025 Workshop Key\",\n",
    "    limit=2\n",
    ")"
   ]
  },
  {
   "cell_type": "code",
   "execution_count": 21,
   "id": "880bf5d5",
   "metadata": {},
   "outputs": [
    {
     "name": "stdout",
     "output_type": "stream",
     "text": [
      "API key created successfully.\n"
     ]
    }
   ],
   "source": [
    "# let's try creating a budget key with 0.50 usd limit\n",
    "new_budget_key = provision_open_router_keys(\n",
    "    name=\"BSSDH 2025 Workshop Budget Key\",\n",
    "    label=\"BSSDH 2025 Workshop Budget Key\",\n",
    "    limit=0.50\n",
    ")\n"
   ]
  },
  {
   "cell_type": "code",
   "execution_count": 24,
   "id": "a599f933",
   "metadata": {},
   "outputs": [
    {
     "name": "stdout",
     "output_type": "stream",
     "text": [
      "New key saved to ..\\temp\\new_key.json\n",
      "New budget key saved to ..\\temp\\new_budget_key.json\n"
     ]
    }
   ],
   "source": [
    "# let's save keys to individual files in temp folder that is sibling the notebook folder\n",
    "save_path = Path(\"../temp\")\n",
    "# note: I have excluded temp folder by adding temp entry in .gitignore file so it will not be committed to the repository\n",
    "# otherwise everyone in the world would have access to your API keys!!!! if your repository is public\n",
    "# create temp folder if it does not exist\n",
    "save_path.mkdir(parents=True, exist_ok=True)\n",
    "# save new_key to a file\n",
    "if new_key:\n",
    "    with open(save_path / \"new_key.json\", \"w\") as f:\n",
    "        json.dump(new_key, f, indent=4)\n",
    "    print(f\"New key saved to {save_path / 'new_key.json'}\")\n",
    "# save new_budget_key to a file\n",
    "if new_budget_key:\n",
    "    with open(save_path / \"new_budget_key.json\", \"w\") as f:\n",
    "        json.dump(new_budget_key, f, indent=4)\n",
    "    print(f\"New budget key saved to {save_path / 'new_budget_key.json'}\")"
   ]
  },
  {
   "cell_type": "markdown",
   "id": "9ae5fb98",
   "metadata": {},
   "source": [
    "## Getting Previously created keys\n",
    "We can use the OpenRouter API to get a list of previously created API keys. This is useful to check if the keys were created successfully and to see the limits and other details of the keys.\n",
    "\n",
    "Again be very careful with retrieved keys, as they can be used to make API calls and drain your account's balance."
   ]
  },
  {
   "cell_type": "code",
   "execution_count": 9,
   "id": "0792b064",
   "metadata": {},
   "outputs": [
    {
     "name": "stdout",
     "output_type": "stream",
     "text": [
      "API keys retrieved successfully.\n",
      "Number of keys retrieved: 1\n"
     ]
    }
   ],
   "source": [
    "def get_keys(provision_key=open_router_bssdh_provisioner):\n",
    "    # we use example from https://openrouter.ai/docs/features/provisioning-api-keys\n",
    "    PROVISIONING_API_KEY = provision_key\n",
    "    BASE_URL = \"https://openrouter.ai/api/v1/keys\"\n",
    "    # List the most recent 100 API keys\n",
    "    response = requests.get(\n",
    "        BASE_URL,\n",
    "        headers={\n",
    "            \"Authorization\": f\"Bearer {PROVISIONING_API_KEY}\",\n",
    "            \"Content-Type\": \"application/json\"\n",
    "        }\n",
    "    )\n",
    "\n",
    "    # return the response\n",
    "    if response.status_code == 200:\n",
    "        print(\"API keys retrieved successfully.\")\n",
    "        return response.json()  # Return the JSON response containing the API keys\n",
    "    else:\n",
    "        print(f\"Failed to retrieve API keys: {response.status_code} - {response.text}\")\n",
    "        return None\n",
    "    \n",
    "keys = get_keys()\n",
    "# how many keys we have?\n",
    "if keys:\n",
    "    print(f\"Number of keys retrieved: {len(keys)}\")\n"
   ]
  },
  {
   "cell_type": "code",
   "execution_count": 16,
   "id": "40badc63",
   "metadata": {},
   "outputs": [
    {
     "name": "stdout",
     "output_type": "stream",
     "text": [
      "Keys available in the response:\n",
      "key - data\n",
      "Number of API keys in data: 5\n"
     ]
    }
   ],
   "source": [
    "# print keys.keys()\n",
    "# keys is a dictionary so it has keys ...\n",
    "print(\"Keys available in the response:\")\n",
    "for key in keys.keys():\n",
    "    print(f\"key - {key}\")\n",
    "# data actually holds the list of keys but we will not print it here as it may contain sensitive information\n",
    "# we will just see how many keys we have\n",
    "if 'data' in keys:\n",
    "    print(f\"Number of API keys in data: {len(keys['data'])}\")"
   ]
  },
  {
   "cell_type": "code",
   "execution_count": 26,
   "id": "e645551f",
   "metadata": {},
   "outputs": [
    {
     "name": "stdout",
     "output_type": "stream",
     "text": [
      "Found 1 keys with 'Segmentation' in their name.\n"
     ]
    }
   ],
   "source": [
    "# let's get first key that contains Segmentation in its name\n",
    "# in our particular case this key is already used so we are not afraid to print it by accident but generally be very careful with retrieved keys, \n",
    "# theoretically hash of the key can be used to identify the key without revealing it\n",
    "if keys and 'data' in keys:\n",
    "    segmentation_keys = [key for key in keys['data'] if 'Segmentation' in key['name']]\n",
    "    if segmentation_keys:\n",
    "        print(f\"Found {len(segmentation_keys)} keys with 'Segmentation' in their name.\")\n",
    "        # print(\"First key with 'Segmentation':\", segmentation_keys[0]) # prints hash only but still be careful with this\n",
    "    else:\n",
    "        print(\"No keys found with 'Segmentation' in their name.\")"
   ]
  }
 ],
 "metadata": {
  "kernelspec": {
   "display_name": "venv",
   "language": "python",
   "name": "python3"
  },
  "language_info": {
   "codemirror_mode": {
    "name": "ipython",
    "version": 3
   },
   "file_extension": ".py",
   "mimetype": "text/x-python",
   "name": "python",
   "nbconvert_exporter": "python",
   "pygments_lexer": "ipython3",
   "version": "3.12.6"
  }
 },
 "nbformat": 4,
 "nbformat_minor": 5
}
