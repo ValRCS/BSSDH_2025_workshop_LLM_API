{
 "cells": [
  {
   "cell_type": "markdown",
   "id": "03bdfedd",
   "metadata": {},
   "source": [
    "# Provisioning OpenRouter API keys\n",
    "\n",
    "This notebook is for instructors to provision OpenRouter API keys for workshop participants. It is not intended for use by participants.\n",
    "\n",
    "However intermediate and advanced participants are welcome to see the code and use it as a reference whenever they need to bulk provision API keys for their own projects.\n",
    "\n",
    "## OpenRouter API provisioning\n",
    "\n",
    "OpenRouter provides a simple API to create and manage API keys. \n",
    "\n",
    "The core idea is to use a special API key that has the `admin` role, which allows you to create new API keys for other users. This key does not make regular API calls but is used to manage API keys.\n",
    "\n",
    "This type of key is extremely powerful and should be kept secret. It is not intended for use in production applications or by end users.\n",
    "\n",
    "If this type of key is compromised, it can be used to create new API keys for any user, which can then be used to make API calls and drain your account's balance to zero."
   ]
  },
  {
   "cell_type": "code",
   "execution_count": 18,
   "id": "b953c617",
   "metadata": {},
   "outputs": [
    {
     "name": "stdout",
     "output_type": "stream",
     "text": [
      "Python version: 3.12.6 (tags/v3.12.6:a4a2d2b, Sep  6 2024, 20:11:23) [MSC v.1940 64 bit (AMD64)]\n",
      "Current date and time: 2025-08-06 11:44:31.000753\n",
      "OPEN_ROUTER_BSSDH_PROVISIONER key loaded from environment variables.\n",
      "tqdm library is installed: 4.67.1\n",
      "requests library is installed: 2.32.4\n",
      "Pandas library is installed: 2.3.1\n"
     ]
    }
   ],
   "source": [
    "# first let's load needed libraries and also read system environment variables\n",
    "# let's load Python sys to see what Python version we are using\n",
    "import sys\n",
    "print(f\"Python version: {sys.version}\")\n",
    "# now datetime\n",
    "from datetime import datetime\n",
    "print(f\"Current date and time: {datetime.now()}\")\n",
    "# we will need json to read and write JSON files\n",
    "import json\n",
    "# and os to read environment variables\n",
    "import os\n",
    "\n",
    "# we also need Pathlib to work with file paths\n",
    "from pathlib import Path\n",
    "\n",
    "# now let's read environment variables\n",
    "\n",
    "# OPEN_ROUTER_BSSDH_PROVISIONER\n",
    "open_router_bssdh_provisioner = os.getenv(\"OPEN_ROUTER_BSSDH_PROVISIONER\")\n",
    "if open_router_bssdh_provisioner:\n",
    "    print(\"OPEN_ROUTER_BSSDH_PROVISIONER key loaded from environment variables.\")\n",
    "    # README! we do not want to print the key itself for security reasons it is very easy to print it and publish it by mistake\n",
    "else:\n",
    "    print(\"OPEN_ROUTER_BSSDH_PROVISIONER key not found in environment variables. Please set it before running the script.\")\n",
    "\n",
    "# import tqdm\n",
    "try:\n",
    "    from tqdm import tqdm\n",
    "    from tqdm import __version__ as tqdm_version\n",
    "    print(f\"tqdm library is installed: {tqdm_version}\")\n",
    "    # tqdm is used for progress bars in loops\n",
    "except ImportError:\n",
    "    print(\"tqdm library is not installed. Please install it using 'pip install tqdm' from command line terminal.\")\n",
    "\n",
    "# we will need some external libraries, so let's check if they are installed\n",
    "# first requests\n",
    "try:\n",
    "    import requests\n",
    "    print(f\"requests library is installed: {requests.__version__}\")\n",
    "except ImportError:\n",
    "    print(\"requests library is not installed. Please install it using 'pip install requests' from command line terminal.\")\n",
    "\n",
    "# we will need Pandas to work with DataFrames\n",
    "try:\n",
    "    import pandas as pd\n",
    "    print(f\"Pandas library is installed: {pd.__version__}\")\n",
    "except ImportError:\n",
    "    print(\"Pandas library is not installed. Please install it using 'pip install pandas[excel]' from command line terminal.\")"
   ]
  },
  {
   "cell_type": "markdown",
   "id": "04d80cb5",
   "metadata": {},
   "source": [
    "## Loading Dataframe with workshop participants\n",
    "\n",
    "Our workshop participants are listed in a XLSX file. From the organizer we hear that some participants have multiple e-mails so we will need to consider that when creating API keys.\n",
    "\n",
    "First step is reading XLSX file with participants' data and creating a DataFrame with their e-mails, names and other information.\n",
    "\n"
   ]
  },
  {
   "cell_type": "code",
   "execution_count": 6,
   "id": "f8cdd855",
   "metadata": {},
   "outputs": [
    {
     "name": "stdout",
     "output_type": "stream",
     "text": [
      "Found 1 xlsx file(s) in the temp folder: ..\\temp\\BSSDH_2025_participants.xlsx\n",
      "DataFrame created with 54 rows and 3 columns.\n"
     ]
    }
   ],
   "source": [
    "# we store our participant xlsx in a temp folder as this information is sensitive and not meant for public access\n",
    "# so we will use Pathlib to create a path to the file\n",
    "temp_folder = Path(\"../temp\")\n",
    "# list xlsx files in the temp folder\n",
    "xlsx_files = list(temp_folder.glob(\"*.xlsx\"))\n",
    "if xlsx_files:\n",
    "    print(f\"Found {len(xlsx_files)} xlsx file(s) in the temp folder: {', '.join([str(file) for file in xlsx_files])}\")\n",
    "    df = pd.read_excel(xlsx_files[0])\n",
    "    print(f\"DataFrame created with {len(df)} rows and {len(df.columns)} columns.\")\n",
    "else:\n",
    "    print(\"No xlsx files found in the temp folder. Please make sure to place the file there before running the script.\")"
   ]
  },
  {
   "cell_type": "code",
   "execution_count": 9,
   "id": "77262a99",
   "metadata": {},
   "outputs": [
    {
     "name": "stdout",
     "output_type": "stream",
     "text": [
      "DataFrame head:\n"
     ]
    },
    {
     "data": {
      "text/html": [
       "<div>\n",
       "<style scoped>\n",
       "    .dataframe tbody tr th:only-of-type {\n",
       "        vertical-align: middle;\n",
       "    }\n",
       "\n",
       "    .dataframe tbody tr th {\n",
       "        vertical-align: top;\n",
       "    }\n",
       "\n",
       "    .dataframe thead th {\n",
       "        text-align: right;\n",
       "    }\n",
       "</style>\n",
       "<table border=\"1\" class=\"dataframe\">\n",
       "  <thead>\n",
       "    <tr style=\"text-align: right;\">\n",
       "      <th></th>\n",
       "      <th>E-mail</th>\n",
       "      <th>Name</th>\n",
       "      <th>Surname</th>\n",
       "    </tr>\n",
       "  </thead>\n",
       "  <tbody>\n",
       "    <tr>\n",
       "      <th>0</th>\n",
       "      <td>anda.baklane@gmail.com</td>\n",
       "      <td>Anda</td>\n",
       "      <td>Baklāne</td>\n",
       "    </tr>\n",
       "    <tr>\n",
       "      <th>1</th>\n",
       "      <td>haralds.matulis@gmail.com</td>\n",
       "      <td>Haralds</td>\n",
       "      <td>Matulis</td>\n",
       "    </tr>\n",
       "  </tbody>\n",
       "</table>\n",
       "</div>"
      ],
      "text/plain": [
       "                      E-mail     Name  Surname\n",
       "0     anda.baklane@gmail.com     Anda  Baklāne\n",
       "1  haralds.matulis@gmail.com  Haralds  Matulis"
      ]
     },
     "metadata": {},
     "output_type": "display_data"
    },
    {
     "name": "stdout",
     "output_type": "stream",
     "text": [
      "DataFrame tail:\n"
     ]
    },
    {
     "data": {
      "text/html": [
       "<div>\n",
       "<style scoped>\n",
       "    .dataframe tbody tr th:only-of-type {\n",
       "        vertical-align: middle;\n",
       "    }\n",
       "\n",
       "    .dataframe tbody tr th {\n",
       "        vertical-align: top;\n",
       "    }\n",
       "\n",
       "    .dataframe thead th {\n",
       "        text-align: right;\n",
       "    }\n",
       "</style>\n",
       "<table border=\"1\" class=\"dataframe\">\n",
       "  <thead>\n",
       "    <tr style=\"text-align: right;\">\n",
       "      <th></th>\n",
       "      <th>E-mail</th>\n",
       "      <th>Name</th>\n",
       "      <th>Surname</th>\n",
       "    </tr>\n",
       "  </thead>\n",
       "  <tbody>\n",
       "    <tr>\n",
       "      <th>52</th>\n",
       "      <td>valdis.saulespurens@gmail.com, valdis.saulespu...</td>\n",
       "      <td>Valdis</td>\n",
       "      <td>Saulespurēns</td>\n",
       "    </tr>\n",
       "    <tr>\n",
       "      <th>53</th>\n",
       "      <td>viesturs.veveris@lnb.lv</td>\n",
       "      <td>Viesturs</td>\n",
       "      <td>Vēveris</td>\n",
       "    </tr>\n",
       "  </tbody>\n",
       "</table>\n",
       "</div>"
      ],
      "text/plain": [
       "                                               E-mail      Name       Surname\n",
       "52  valdis.saulespurens@gmail.com, valdis.saulespu...    Valdis  Saulespurēns\n",
       "53                            viesturs.veveris@lnb.lv  Viesturs       Vēveris"
      ]
     },
     "metadata": {},
     "output_type": "display_data"
    }
   ],
   "source": [
    "# let's see head and tail of the DataFrame\n",
    "# head and tail of 2 has our instructor's names and e-mails rest are students and workshop participants\n",
    "# we do not want to print the personal information of the participants, so we will just display the first and last 2 rows\n",
    "print(\"DataFrame head:\")\n",
    "display(df.head(2))\n",
    "print(\"DataFrame tail:\")\n",
    "display(df.tail(2))"
   ]
  },
  {
   "cell_type": "markdown",
   "id": "b9877a3e",
   "metadata": {},
   "source": [
    "Now that we have successfully loaded the DataFrame, we can proceed to the next steps of provisioning API keys for each participant. The idea is to create a new column in the dataframe that will store the API keys for each participant. We will use the OpenRouter Provisioning API to create these keys."
   ]
  },
  {
   "cell_type": "markdown",
   "id": "49454e3a",
   "metadata": {},
   "source": [
    "## Provisioning API keys\n",
    "\n",
    "### Creating function to create API keys\n",
    "\n",
    "First we need to create a function that will use the OpenRouter API to create new API keys. This function name, label and limit with some defaults that can be overridden by the caller.\n"
   ]
  },
  {
   "cell_type": "code",
   "execution_count": 11,
   "id": "a6900c73",
   "metadata": {},
   "outputs": [
    {
     "name": "stdout",
     "output_type": "stream",
     "text": [
      "API key created successfully.\n"
     ]
    }
   ],
   "source": [
    "# now that everything is loaded, let's define a function to provision API keys\n",
    "def provision_open_router_keys(provision_key=open_router_bssdh_provisioner, \n",
    "                               name=\"Test Customer Instance Key\",\n",
    "                               label=\"TestCustomer123\",\n",
    "                               limit=1): # 1 USD dollar limit by default\n",
    "    # we use example from https://openrouter.ai/docs/features/provisioning-api-keys\n",
    "    PROVISIONING_API_KEY = provision_key\n",
    "    BASE_URL = \"https://openrouter.ai/api/v1/keys\"\n",
    "    # Create a new API key\n",
    "    response = requests.post(\n",
    "        # f\"{BASE_URL}/\", # Documentation for this is WRONG! no need for trailing slash\n",
    "        url = BASE_URL,\n",
    "        headers={\n",
    "            \"Authorization\": f\"Bearer {PROVISIONING_API_KEY}\",\n",
    "            \"Content-Type\": \"application/json\"\n",
    "        },\n",
    "        json={\n",
    "            \"name\": name,   # Name of the API key\n",
    "            \"label\": label,\n",
    "            \"limit\": limit  # Optional credit limit\n",
    "        }\n",
    "    )\n",
    "    # return the response\n",
    "    if response.status_code == 201:\n",
    "        print(\"API key created successfully.\")\n",
    "        return response.json()  # Return the JSON response containing the API key details\n",
    "    else:\n",
    "        print(f\"Failed to create API key: {response.status_code} - {response.text}\")\n",
    "        return None\n",
    "    \n",
    "today = datetime.now().strftime(\"%Y_%m_%d\")\n",
    "# let's test the function to create a new API key\n",
    "new_key = provision_open_router_keys(\n",
    "    name=f\"BSSDH 2025 Workshop {today}\",\n",
    "    label=f\"BSSDH 2025 Workshop {today} key\",\n",
    "    limit=2\n",
    ")"
   ]
  },
  {
   "cell_type": "code",
   "execution_count": 21,
   "id": "880bf5d5",
   "metadata": {},
   "outputs": [
    {
     "name": "stdout",
     "output_type": "stream",
     "text": [
      "API key created successfully.\n"
     ]
    }
   ],
   "source": [
    "# let's try creating a budget key with 0.50 usd limit\n",
    "new_budget_key = provision_open_router_keys(\n",
    "    name=\"BSSDH 2025 Workshop Budget Key\",\n",
    "    label=\"BSSDH 2025 Workshop Budget Key\",\n",
    "    limit=0.50\n",
    ")\n"
   ]
  },
  {
   "cell_type": "code",
   "execution_count": 12,
   "id": "a599f933",
   "metadata": {},
   "outputs": [
    {
     "name": "stdout",
     "output_type": "stream",
     "text": [
      "New key saved to ..\\temp\\api_key_2025_08_06.json\n"
     ]
    }
   ],
   "source": [
    "# let's save keys to individual files in temp folder that is sibling the notebook folder\n",
    "save_path = Path(\"../temp\")\n",
    "# note: I have excluded temp folder by adding temp entry in .gitignore file so it will not be committed to the repository\n",
    "# otherwise everyone in the world would have access to your API keys!!!! if your repository is public\n",
    "# create temp folder if it does not exist\n",
    "save_path.mkdir(parents=True, exist_ok=True)\n",
    "# save new_key to a file\n",
    "if new_key:\n",
    "    file_name = f\"api_key_{today}.json\"\n",
    "    with open(save_path / file_name, \"w\") as f:\n",
    "        json.dump(new_key, f, indent=4)\n",
    "    print(f\"New key saved to {save_path / file_name}\")\n",
    "# save new_budget_key to a file\n",
    "# first check if new_budget_key variabl eexists at all\n",
    "# chedk if variable actually exists\n",
    "if 'new_budget_key' in locals() and new_budget_key:\n",
    "    with open(save_path / \"new_budget_key.json\", \"w\") as f:\n",
    "        json.dump(new_budget_key, f, indent=4)\n",
    "    print(f\"New budget key saved to {save_path / 'new_budget_key.json'}\")"
   ]
  },
  {
   "cell_type": "markdown",
   "id": "9ae5fb98",
   "metadata": {},
   "source": [
    "## Getting Previously created keys\n",
    "We can use the OpenRouter API to get a list of previously created API keys. This is useful to check if the keys were created successfully and to see the limits and other details of the keys.\n",
    "\n",
    "Again be very careful with retrieved keys, as they can be used to make API calls and drain your account's balance."
   ]
  },
  {
   "cell_type": "code",
   "execution_count": 13,
   "id": "0792b064",
   "metadata": {},
   "outputs": [
    {
     "name": "stdout",
     "output_type": "stream",
     "text": [
      "API keys retrieved successfully.\n",
      "Number of keys retrieved: 1\n"
     ]
    }
   ],
   "source": [
    "def get_keys(provision_key=open_router_bssdh_provisioner):\n",
    "    # we use example from https://openrouter.ai/docs/features/provisioning-api-keys\n",
    "    PROVISIONING_API_KEY = provision_key\n",
    "    BASE_URL = \"https://openrouter.ai/api/v1/keys\"\n",
    "    # List the most recent 100 API keys\n",
    "    response = requests.get(\n",
    "        BASE_URL,\n",
    "        headers={\n",
    "            \"Authorization\": f\"Bearer {PROVISIONING_API_KEY}\",\n",
    "            \"Content-Type\": \"application/json\"\n",
    "        }\n",
    "    )\n",
    "\n",
    "    # return the response\n",
    "    if response.status_code == 200:\n",
    "        print(\"API keys retrieved successfully.\")\n",
    "        return response.json()  # Return the JSON response containing the API keys\n",
    "    else:\n",
    "        print(f\"Failed to retrieve API keys: {response.status_code} - {response.text}\")\n",
    "        return None\n",
    "    \n",
    "keys = get_keys()\n",
    "# how many keys we have?\n",
    "if keys:\n",
    "    print(f\"Number of keys retrieved: {len(keys)}\")\n"
   ]
  },
  {
   "cell_type": "code",
   "execution_count": 14,
   "id": "40badc63",
   "metadata": {},
   "outputs": [
    {
     "name": "stdout",
     "output_type": "stream",
     "text": [
      "Keys available in the response:\n",
      "key - data\n",
      "Number of API keys in data: 10\n"
     ]
    }
   ],
   "source": [
    "# print keys.keys()\n",
    "# keys is a dictionary so it has keys ...\n",
    "print(\"Keys available in the response:\")\n",
    "for key in keys.keys():\n",
    "    print(f\"key - {key}\")\n",
    "# data actually holds the list of keys but we will not print it here as it may contain sensitive information\n",
    "# we will just see how many keys we have\n",
    "if 'data' in keys:\n",
    "    print(f\"Number of API keys in data: {len(keys['data'])}\")"
   ]
  },
  {
   "cell_type": "code",
   "execution_count": 15,
   "id": "e645551f",
   "metadata": {},
   "outputs": [
    {
     "name": "stdout",
     "output_type": "stream",
     "text": [
      "Found 1 keys with 'Segmentation' in their name.\n"
     ]
    }
   ],
   "source": [
    "# let's get first key that contains Segmentation in its name\n",
    "# in our particular case this key is already used so we are not afraid to print it by accident but generally be very careful with retrieved keys, \n",
    "# theoretically hash of the key can be used to identify the key without revealing it\n",
    "if keys and 'data' in keys:\n",
    "    segmentation_keys = [key for key in keys['data'] if 'Segmentation' in key['name']]\n",
    "    if segmentation_keys:\n",
    "        print(f\"Found {len(segmentation_keys)} keys with 'Segmentation' in their name.\")\n",
    "        # print(\"First key with 'Segmentation':\", segmentation_keys[0]) # prints hash only but still be careful with this\n",
    "    else:\n",
    "        print(\"No keys found with 'Segmentation' in their name.\")"
   ]
  },
  {
   "cell_type": "markdown",
   "id": "7c8d6678",
   "metadata": {},
   "source": [
    "## Creating keys for all participants\n",
    "\n",
    "Now that we have all participants' data in a DataFrame and a function to create API keys, we can iterate over the DataFrame and create API keys for each participant."
   ]
  },
  {
   "cell_type": "code",
   "execution_count": null,
   "id": "3b3403cd",
   "metadata": {},
   "outputs": [],
   "source": [
    "# let's iterate over all rows of the dataframe and create API keys for each participant\n",
    "# we will use Name and Surname columns to create unique names and labels for the keys\n",
    "# we will store response.json in a python list\n",
    "# we will store the actual key which sits in the 'key' field of the response in the dataframe under key column\n",
    "\n",
    "# all of this will be done through a function called provision_open_router_keys\n",
    "# the parameters of the function will be dataframe, name_prefix = \"BSSDH_2025\", label_prefix = \"BSSDH_2025_Key\", limit = 1\n",
    "import time\n",
    "def provision_open_router_keys_for_participants(df, provision_key=open_router_bssdh_provisioner, \n",
    "                                                 name_prefix=\"BSSDH_2025\", \n",
    "                                                 label_prefix=\"BSSDH_2025_Key\", \n",
    "                                                 limit=1,\n",
    "                                                 delay=0.1, # in case we want to add a delay between requests to avoid hitting the API rate limit\n",
    "                                                 verbose=True\n",
    "                                                 ):\n",
    "    # create a list to store the keys\n",
    "    keys_list = []\n",
    "    # create df column called api_key\n",
    "    df['api_key'] = None  # Initialize the 'api_key' column with None values\n",
    "    \n",
    "    # check if the DataFrame has 'Name' and 'Surname' columns\n",
    "    if 'Name' not in df.columns or 'Surname' not in df.columns:\n",
    "        raise ValueError(\"DataFrame must contain 'Name' and 'Surname' columns to provision keys.\")\n",
    "    if verbose:\n",
    "        print(f\"Provisioning keys for {len(df)} participants...\")\n",
    "    # iterate over the DataFrame rows\n",
    "    for index, row in tqdm(df.iterrows()):\n",
    "        # create unique name and label for the key\n",
    "        name = f\"{name_prefix}_{row['Name']}_{row['Surname']}\"\n",
    "        label = f\"{label_prefix}_{row['Name']}_{row['Surname']}\"\n",
    "        # provision the key\n",
    "        new_key = provision_open_router_keys(provision_key, name, label, limit)\n",
    "        if new_key:\n",
    "            # add the key to the list\n",
    "            keys_list.append(new_key)\n",
    "            # store the key in the DataFrame under 'key' column\n",
    "            df.at[index, 'api_key'] = new_key.get('key', None)  # get 'key' field or None if it does not exist\n",
    "        time.sleep(delay)  # add a delay to avoid hitting the API rate limit if any\n",
    "    return keys_list"
   ]
  },
  {
   "cell_type": "code",
   "execution_count": 20,
   "id": "abd85082",
   "metadata": {},
   "outputs": [
    {
     "name": "stdout",
     "output_type": "stream",
     "text": [
      "Provisioning keys for 54 participants...\n"
     ]
    },
    {
     "name": "stderr",
     "output_type": "stream",
     "text": [
      "1it [00:00,  1.35it/s]"
     ]
    },
    {
     "name": "stdout",
     "output_type": "stream",
     "text": [
      "API key created successfully.\n"
     ]
    },
    {
     "name": "stderr",
     "output_type": "stream",
     "text": [
      "2it [00:01,  1.46it/s]"
     ]
    },
    {
     "name": "stdout",
     "output_type": "stream",
     "text": [
      "API key created successfully.\n"
     ]
    },
    {
     "name": "stderr",
     "output_type": "stream",
     "text": [
      "3it [00:01,  1.63it/s]"
     ]
    },
    {
     "name": "stdout",
     "output_type": "stream",
     "text": [
      "API key created successfully.\n"
     ]
    },
    {
     "name": "stderr",
     "output_type": "stream",
     "text": [
      "4it [00:02,  1.73it/s]"
     ]
    },
    {
     "name": "stdout",
     "output_type": "stream",
     "text": [
      "API key created successfully.\n"
     ]
    },
    {
     "name": "stderr",
     "output_type": "stream",
     "text": [
      "5it [00:02,  1.77it/s]"
     ]
    },
    {
     "name": "stdout",
     "output_type": "stream",
     "text": [
      "API key created successfully.\n"
     ]
    },
    {
     "name": "stderr",
     "output_type": "stream",
     "text": [
      "6it [00:03,  1.78it/s]"
     ]
    },
    {
     "name": "stdout",
     "output_type": "stream",
     "text": [
      "API key created successfully.\n"
     ]
    },
    {
     "name": "stderr",
     "output_type": "stream",
     "text": [
      "7it [00:04,  1.85it/s]"
     ]
    },
    {
     "name": "stdout",
     "output_type": "stream",
     "text": [
      "API key created successfully.\n"
     ]
    },
    {
     "name": "stderr",
     "output_type": "stream",
     "text": [
      "8it [00:04,  1.86it/s]"
     ]
    },
    {
     "name": "stdout",
     "output_type": "stream",
     "text": [
      "API key created successfully.\n"
     ]
    },
    {
     "name": "stderr",
     "output_type": "stream",
     "text": [
      "9it [00:05,  1.89it/s]"
     ]
    },
    {
     "name": "stdout",
     "output_type": "stream",
     "text": [
      "API key created successfully.\n"
     ]
    },
    {
     "name": "stderr",
     "output_type": "stream",
     "text": [
      "10it [00:05,  1.85it/s]"
     ]
    },
    {
     "name": "stdout",
     "output_type": "stream",
     "text": [
      "API key created successfully.\n"
     ]
    },
    {
     "name": "stderr",
     "output_type": "stream",
     "text": [
      "11it [00:06,  1.90it/s]"
     ]
    },
    {
     "name": "stdout",
     "output_type": "stream",
     "text": [
      "API key created successfully.\n"
     ]
    },
    {
     "name": "stderr",
     "output_type": "stream",
     "text": [
      "12it [00:06,  1.95it/s]"
     ]
    },
    {
     "name": "stdout",
     "output_type": "stream",
     "text": [
      "API key created successfully.\n"
     ]
    },
    {
     "name": "stderr",
     "output_type": "stream",
     "text": [
      "13it [00:07,  1.93it/s]"
     ]
    },
    {
     "name": "stdout",
     "output_type": "stream",
     "text": [
      "API key created successfully.\n"
     ]
    },
    {
     "name": "stderr",
     "output_type": "stream",
     "text": [
      "14it [00:07,  1.93it/s]"
     ]
    },
    {
     "name": "stdout",
     "output_type": "stream",
     "text": [
      "API key created successfully.\n"
     ]
    },
    {
     "name": "stderr",
     "output_type": "stream",
     "text": [
      "15it [00:08,  1.98it/s]"
     ]
    },
    {
     "name": "stdout",
     "output_type": "stream",
     "text": [
      "API key created successfully.\n"
     ]
    },
    {
     "name": "stderr",
     "output_type": "stream",
     "text": [
      "16it [00:08,  2.01it/s]"
     ]
    },
    {
     "name": "stdout",
     "output_type": "stream",
     "text": [
      "API key created successfully.\n"
     ]
    },
    {
     "name": "stderr",
     "output_type": "stream",
     "text": [
      "17it [00:09,  2.01it/s]"
     ]
    },
    {
     "name": "stdout",
     "output_type": "stream",
     "text": [
      "API key created successfully.\n"
     ]
    },
    {
     "name": "stderr",
     "output_type": "stream",
     "text": [
      "18it [00:09,  1.85it/s]"
     ]
    },
    {
     "name": "stdout",
     "output_type": "stream",
     "text": [
      "API key created successfully.\n"
     ]
    },
    {
     "name": "stderr",
     "output_type": "stream",
     "text": [
      "19it [00:10,  1.92it/s]"
     ]
    },
    {
     "name": "stdout",
     "output_type": "stream",
     "text": [
      "API key created successfully.\n"
     ]
    },
    {
     "name": "stderr",
     "output_type": "stream",
     "text": [
      "20it [00:10,  1.91it/s]"
     ]
    },
    {
     "name": "stdout",
     "output_type": "stream",
     "text": [
      "API key created successfully.\n"
     ]
    },
    {
     "name": "stderr",
     "output_type": "stream",
     "text": [
      "21it [00:11,  1.87it/s]"
     ]
    },
    {
     "name": "stdout",
     "output_type": "stream",
     "text": [
      "API key created successfully.\n"
     ]
    },
    {
     "name": "stderr",
     "output_type": "stream",
     "text": [
      "22it [00:11,  1.95it/s]"
     ]
    },
    {
     "name": "stdout",
     "output_type": "stream",
     "text": [
      "API key created successfully.\n"
     ]
    },
    {
     "name": "stderr",
     "output_type": "stream",
     "text": [
      "23it [00:12,  1.96it/s]"
     ]
    },
    {
     "name": "stdout",
     "output_type": "stream",
     "text": [
      "API key created successfully.\n"
     ]
    },
    {
     "name": "stderr",
     "output_type": "stream",
     "text": [
      "24it [00:12,  1.98it/s]"
     ]
    },
    {
     "name": "stdout",
     "output_type": "stream",
     "text": [
      "API key created successfully.\n"
     ]
    },
    {
     "name": "stderr",
     "output_type": "stream",
     "text": [
      "25it [00:13,  2.00it/s]"
     ]
    },
    {
     "name": "stdout",
     "output_type": "stream",
     "text": [
      "API key created successfully.\n"
     ]
    },
    {
     "name": "stderr",
     "output_type": "stream",
     "text": [
      "26it [00:13,  2.01it/s]"
     ]
    },
    {
     "name": "stdout",
     "output_type": "stream",
     "text": [
      "API key created successfully.\n"
     ]
    },
    {
     "name": "stderr",
     "output_type": "stream",
     "text": [
      "27it [00:14,  2.04it/s]"
     ]
    },
    {
     "name": "stdout",
     "output_type": "stream",
     "text": [
      "API key created successfully.\n"
     ]
    },
    {
     "name": "stderr",
     "output_type": "stream",
     "text": [
      "28it [00:14,  2.06it/s]"
     ]
    },
    {
     "name": "stdout",
     "output_type": "stream",
     "text": [
      "API key created successfully.\n"
     ]
    },
    {
     "name": "stderr",
     "output_type": "stream",
     "text": [
      "29it [00:15,  2.05it/s]"
     ]
    },
    {
     "name": "stdout",
     "output_type": "stream",
     "text": [
      "API key created successfully.\n"
     ]
    },
    {
     "name": "stderr",
     "output_type": "stream",
     "text": [
      "30it [00:15,  2.04it/s]"
     ]
    },
    {
     "name": "stdout",
     "output_type": "stream",
     "text": [
      "API key created successfully.\n"
     ]
    },
    {
     "name": "stderr",
     "output_type": "stream",
     "text": [
      "31it [00:16,  2.06it/s]"
     ]
    },
    {
     "name": "stdout",
     "output_type": "stream",
     "text": [
      "API key created successfully.\n"
     ]
    },
    {
     "name": "stderr",
     "output_type": "stream",
     "text": [
      "32it [00:16,  2.07it/s]"
     ]
    },
    {
     "name": "stdout",
     "output_type": "stream",
     "text": [
      "API key created successfully.\n"
     ]
    },
    {
     "name": "stderr",
     "output_type": "stream",
     "text": [
      "33it [00:17,  2.04it/s]"
     ]
    },
    {
     "name": "stdout",
     "output_type": "stream",
     "text": [
      "API key created successfully.\n"
     ]
    },
    {
     "name": "stderr",
     "output_type": "stream",
     "text": [
      "34it [00:17,  2.01it/s]"
     ]
    },
    {
     "name": "stdout",
     "output_type": "stream",
     "text": [
      "API key created successfully.\n"
     ]
    },
    {
     "name": "stderr",
     "output_type": "stream",
     "text": [
      "35it [00:18,  2.03it/s]"
     ]
    },
    {
     "name": "stdout",
     "output_type": "stream",
     "text": [
      "API key created successfully.\n"
     ]
    },
    {
     "name": "stderr",
     "output_type": "stream",
     "text": [
      "36it [00:18,  2.01it/s]"
     ]
    },
    {
     "name": "stdout",
     "output_type": "stream",
     "text": [
      "API key created successfully.\n"
     ]
    },
    {
     "name": "stderr",
     "output_type": "stream",
     "text": [
      "37it [00:19,  1.94it/s]"
     ]
    },
    {
     "name": "stdout",
     "output_type": "stream",
     "text": [
      "API key created successfully.\n"
     ]
    },
    {
     "name": "stderr",
     "output_type": "stream",
     "text": [
      "38it [00:19,  1.97it/s]"
     ]
    },
    {
     "name": "stdout",
     "output_type": "stream",
     "text": [
      "API key created successfully.\n"
     ]
    },
    {
     "name": "stderr",
     "output_type": "stream",
     "text": [
      "39it [00:20,  1.99it/s]"
     ]
    },
    {
     "name": "stdout",
     "output_type": "stream",
     "text": [
      "API key created successfully.\n"
     ]
    },
    {
     "name": "stderr",
     "output_type": "stream",
     "text": [
      "40it [00:20,  2.01it/s]"
     ]
    },
    {
     "name": "stdout",
     "output_type": "stream",
     "text": [
      "API key created successfully.\n"
     ]
    },
    {
     "name": "stderr",
     "output_type": "stream",
     "text": [
      "41it [00:21,  2.04it/s]"
     ]
    },
    {
     "name": "stdout",
     "output_type": "stream",
     "text": [
      "API key created successfully.\n"
     ]
    },
    {
     "name": "stderr",
     "output_type": "stream",
     "text": [
      "42it [00:21,  2.02it/s]"
     ]
    },
    {
     "name": "stdout",
     "output_type": "stream",
     "text": [
      "API key created successfully.\n"
     ]
    },
    {
     "name": "stderr",
     "output_type": "stream",
     "text": [
      "43it [00:22,  2.03it/s]"
     ]
    },
    {
     "name": "stdout",
     "output_type": "stream",
     "text": [
      "API key created successfully.\n"
     ]
    },
    {
     "name": "stderr",
     "output_type": "stream",
     "text": [
      "44it [00:22,  2.05it/s]"
     ]
    },
    {
     "name": "stdout",
     "output_type": "stream",
     "text": [
      "API key created successfully.\n"
     ]
    },
    {
     "name": "stderr",
     "output_type": "stream",
     "text": [
      "45it [00:23,  2.04it/s]"
     ]
    },
    {
     "name": "stdout",
     "output_type": "stream",
     "text": [
      "API key created successfully.\n"
     ]
    },
    {
     "name": "stderr",
     "output_type": "stream",
     "text": [
      "46it [00:23,  2.06it/s]"
     ]
    },
    {
     "name": "stdout",
     "output_type": "stream",
     "text": [
      "API key created successfully.\n"
     ]
    },
    {
     "name": "stderr",
     "output_type": "stream",
     "text": [
      "47it [00:24,  2.06it/s]"
     ]
    },
    {
     "name": "stdout",
     "output_type": "stream",
     "text": [
      "API key created successfully.\n"
     ]
    },
    {
     "name": "stderr",
     "output_type": "stream",
     "text": [
      "48it [00:24,  2.00it/s]"
     ]
    },
    {
     "name": "stdout",
     "output_type": "stream",
     "text": [
      "API key created successfully.\n"
     ]
    },
    {
     "name": "stderr",
     "output_type": "stream",
     "text": [
      "49it [00:25,  2.02it/s]"
     ]
    },
    {
     "name": "stdout",
     "output_type": "stream",
     "text": [
      "API key created successfully.\n"
     ]
    },
    {
     "name": "stderr",
     "output_type": "stream",
     "text": [
      "50it [00:25,  1.99it/s]"
     ]
    },
    {
     "name": "stdout",
     "output_type": "stream",
     "text": [
      "API key created successfully.\n"
     ]
    },
    {
     "name": "stderr",
     "output_type": "stream",
     "text": [
      "51it [00:26,  2.02it/s]"
     ]
    },
    {
     "name": "stdout",
     "output_type": "stream",
     "text": [
      "API key created successfully.\n"
     ]
    },
    {
     "name": "stderr",
     "output_type": "stream",
     "text": [
      "52it [00:26,  1.99it/s]"
     ]
    },
    {
     "name": "stdout",
     "output_type": "stream",
     "text": [
      "API key created successfully.\n"
     ]
    },
    {
     "name": "stderr",
     "output_type": "stream",
     "text": [
      "53it [00:27,  1.99it/s]"
     ]
    },
    {
     "name": "stdout",
     "output_type": "stream",
     "text": [
      "API key created successfully.\n"
     ]
    },
    {
     "name": "stderr",
     "output_type": "stream",
     "text": [
      "54it [00:27,  1.96it/s]"
     ]
    },
    {
     "name": "stdout",
     "output_type": "stream",
     "text": [
      "API key created successfully.\n",
      "Number of keys provisioned: 54\n"
     ]
    },
    {
     "name": "stderr",
     "output_type": "stream",
     "text": [
      "\n"
     ]
    }
   ],
   "source": [
    "# now we can finally provision keys for all participants\n",
    "keys_list = provision_open_router_keys_for_participants(df, # the rest are defaults so we could skip them actually\n",
    "                                                        #    provision_key=open_router_bssdh_provisioner, \n",
    "                                                        #    name_prefix=\"BSSDH_2025_Workshop\", \n",
    "                                                        #    label_prefix=\"BSSDH_2025_Workshop_Key\", \n",
    "                                                        #    limit=1,\n",
    "                                                        #    delay=0.1,  # 100 ms delay between requests\n",
    "                                                        #    verbose=True\n",
    "                                                           ) \n",
    "# how many keys we have provisioned?\n",
    "if keys_list:\n",
    "    print(f\"Number of keys provisioned: {len(keys_list)}\")   "
   ]
  },
  {
   "cell_type": "markdown",
   "id": "07ab752c",
   "metadata": {},
   "source": [
    "## Saving key information\n",
    "\n",
    "We want to save the created keys to a file so that we can use them later. We will save the keys in a JSON file in a temporary folder. The file will contain the key details, including the name, label, and limit.\n",
    "\n",
    "Also we will save the modified DataFrame with the new column containing the API keys. This will allow us to easily access the keys later and to share them with the participants.\n",
    "\n",
    "**Main thing is to make sure this information is not shared publicly, as it contains sensitive information that can be used to make API calls and drain your account's balance.**"
   ]
  },
  {
   "cell_type": "code",
   "execution_count": 21,
   "id": "95a21efd",
   "metadata": {},
   "outputs": [
    {
     "name": "stdout",
     "output_type": "stream",
     "text": [
      "Provisioned keys saved to ..\\temp\\provisioned_keys.json\n"
     ]
    }
   ],
   "source": [
    "# now let's save the keys list as a JSON file in the temp folder\n",
    "# some of the participants names have non ASCII characters so we will use ensure_ascii=False to save them correctly\n",
    "if keys_list:\n",
    "    with open(save_path / \"provisioned_keys.json\", \"w\", encoding='utf-8') as f:\n",
    "        json.dump(keys_list, f, indent=4, ensure_ascii=False)\n",
    "    print(f\"Provisioned keys saved to {save_path / 'provisioned_keys.json'}\")"
   ]
  },
  {
   "cell_type": "code",
   "execution_count": 22,
   "id": "a6c401f8",
   "metadata": {},
   "outputs": [],
   "source": [
    "# let's save dataframe in BSSDH_2025_provisioned_keys.xlsx\n",
    "df.to_excel(save_path / \"BSSDH_2025_provisioned_keys.xlsx\", index=False, engine='openpyxl')"
   ]
  }
 ],
 "metadata": {
  "kernelspec": {
   "display_name": "venv",
   "language": "python",
   "name": "python3"
  },
  "language_info": {
   "codemirror_mode": {
    "name": "ipython",
    "version": 3
   },
   "file_extension": ".py",
   "mimetype": "text/x-python",
   "name": "python",
   "nbconvert_exporter": "python",
   "pygments_lexer": "ipython3",
   "version": "3.12.6"
  }
 },
 "nbformat": 4,
 "nbformat_minor": 5
}
