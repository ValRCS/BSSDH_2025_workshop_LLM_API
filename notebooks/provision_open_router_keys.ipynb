{
 "cells": [
  {
   "cell_type": "markdown",
   "id": "03bdfedd",
   "metadata": {},
   "source": [
    "# Provisioning OpenRouter API keys\n",
    "\n",
    "This notebook is for instructors to provision OpenRouter API keys for workshop participants. It is not intended for use by participants.\n",
    "\n",
    "However participants are welcome to see the code and use it as a reference whenever they need to bulk provision API keys for their own projects.\n",
    "\n",
    "## OpenRouter API provisioning\n",
    "\n",
    "OpenRouter provides a simple API to create and manage API keys. \n",
    "\n",
    "The core idea is to use a special API key that has the `admin` role, which allows you to create new API keys for other users. This key does not make regular API calls but is used to manage API keys.\n",
    "\n",
    "This type of key is extremely powerful and should be kept secret. It is not intended for use in production applications or by end users.\n",
    "\n",
    "If this type of key is compromised, it can be used to create new API keys for any user, which can then be used to make API calls and drain your account's balance to zero."
   ]
  }
 ],
 "metadata": {
  "language_info": {
   "name": "python"
  }
 },
 "nbformat": 4,
 "nbformat_minor": 5
}
