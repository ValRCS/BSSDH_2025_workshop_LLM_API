{
 "cells": [
  {
   "cell_type": "markdown",
   "id": "03bdfedd",
   "metadata": {},
   "source": [
    "# Provisioning OpenRouter API keys\n",
    "\n",
    "This notebook is for instructors to provision OpenRouter API keys for workshop participants. It is not intended for use by participants.\n",
    "\n",
    "However participants are welcome to see the code and use it as a reference whenever they need to bulk provision API keys for their own projects.\n",
    "\n",
    "## OpenRouter API provisioning\n",
    "\n",
    "OpenRouter provides a simple API to create and manage API keys. \n",
    "\n",
    "The core idea is to use a special API key that has the `admin` role, which allows you to create new API keys for other users. This key does not make regular API calls but is used to manage API keys.\n",
    "\n",
    "This type of key is extremely powerful and should be kept secret. It is not intended for use in production applications or by end users.\n",
    "\n",
    "If this type of key is compromised, it can be used to create new API keys for any user, which can then be used to make API calls and drain your account's balance to zero."
   ]
  },
  {
   "cell_type": "code",
   "execution_count": 4,
   "id": "b953c617",
   "metadata": {},
   "outputs": [
    {
     "name": "stdout",
     "output_type": "stream",
     "text": [
      "Python version: 3.12.6 (tags/v3.12.6:a4a2d2b, Sep  6 2024, 20:11:23) [MSC v.1940 64 bit (AMD64)]\n",
      "Current date and time: 2025-07-25 12:06:09.517035\n",
      "OPEN_ROUTER_BSSDH_PROVISIONER key loaded from environment variables.\n",
      "requests library is not installed. Please install it using 'pip install requests' from command line terminal.\n"
     ]
    }
   ],
   "source": [
    "# first let's load needed libraries and also read system environment variables\n",
    "# let's load Python sys to see what Python version we are using\n",
    "import sys\n",
    "print(f\"Python version: {sys.version}\")\n",
    "# now datetime\n",
    "from datetime import datetime\n",
    "print(f\"Current date and time: {datetime.now()}\")\n",
    "# we will need json to read and write JSON files\n",
    "import json\n",
    "# and os to read environment variables\n",
    "import os\n",
    "\n",
    "# now let's read environment variables\n",
    "\n",
    "# OPEN_ROUTER_BSSDH_PROVISIONER\n",
    "open_router_bssdh_provisioner = os.getenv(\"OPEN_ROUTER_BSSDH_PROVISIONER\")\n",
    "if open_router_bssdh_provisioner:\n",
    "    print(\"OPEN_ROUTER_BSSDH_PROVISIONER key loaded from environment variables.\")\n",
    "    # README! we do not want to print the key itself for security reasons it is very easy to print it and publish it by mistake\n",
    "else:\n",
    "    print(\"OPEN_ROUTER_BSSDH_PROVISIONER key not found in environment variables. Please set it before running the script.\")\n",
    "\n",
    "\n",
    "# we will need some external libraries, so let's check if they are installed\n",
    "# first requests\n",
    "try:\n",
    "    import requests\n",
    "    print(f\"requests library is installed: {requests.__version__}\")\n",
    "except ImportError:\n",
    "    print(\"requests library is not installed. Please install it using 'pip install requests' from command line terminal.\")"
   ]
  }
 ],
 "metadata": {
  "kernelspec": {
   "display_name": "venv",
   "language": "python",
   "name": "python3"
  },
  "language_info": {
   "codemirror_mode": {
    "name": "ipython",
    "version": 3
   },
   "file_extension": ".py",
   "mimetype": "text/x-python",
   "name": "python",
   "nbconvert_exporter": "python",
   "pygments_lexer": "ipython3",
   "version": "3.12.6"
  }
 },
 "nbformat": 4,
 "nbformat_minor": 5
}
