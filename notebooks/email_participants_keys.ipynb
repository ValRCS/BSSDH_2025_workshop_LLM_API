{
 "cells": [
  {
   "cell_type": "markdown",
   "id": "4471b72f",
   "metadata": {},
   "source": [
    "# Emailing Participants with API\n",
    "\n",
    "This notebook is used to email participants with their API keys. This is not to be used by participants themselves, but rather by the workshop organizers to send out keys.\n",
    "\n",
    "However, you can take a look at the code to see how bulk e-mailing is done using `sendgrid` \n",
    "\n",
    "Sendgrid (from Twilio) is a service that allows you to send emails in bulk. It is a paid service, but it has a free tier that allows you to send up to 100 emails per day.\n",
    "You can use it to send emails to participants with their API keys.\n",
    "\n",
    "You can sign up for a free account at [SendGrid](https://sendgrid.com/).\n",
    "\n",
    "There are other services that allow you to send emails in bulk, such as [Mailgun](https://www.mailgun.com/) and [Amazon SES](https://aws.amazon.com/ses/), but we will use SendGrid for this workshop.\n",
    "\n",
    "In old days this was done using `smtplib` and `email` libraries, however, these days most e-mail providers have limits on how many emails you can send per day, so it is better to use a service that is designed for this purpose.\n",
    "This notebook will show you how to use SendGrid to send emails to participants with their API keys"
   ]
  },
  {
   "cell_type": "code",
   "execution_count": null,
   "id": "78a9a57a",
   "metadata": {},
   "outputs": [],
   "source": [
    "import os\n",
    "from sendgrid import SendGridAPIClient\n",
    "from sendgrid.helpers.mail import Mail\n",
    "\n",
    "# Store your key securely (e.g., using environment variable)\n",
    "SENDGRID_API_KEY = os.getenv(\"SENDGRID_API\")  # or paste directly (not recommended)\n",
    "if not SENDGRID_API_KEY:\n",
    "    raise ValueError(\"SENDGRID_API_KEY environment variable not set\")\n",
    "else:\n",
    "    print(\"SendGrid API key is set.\") # again we do not want to print the key itself!! then anyone could use it....\n",
    "sender_email = \"valdis.saulespurens@lnb.lv\"\n",
    "print(\"Sender email is set to:\", sender_email)\n"
   ]
  },
  {
   "cell_type": "markdown",
   "id": "fdfaa1f3",
   "metadata": {},
   "source": [
    "## Reading e-mail participants from XLSX\n",
    "\n",
    "Our participants are stored in an XLSX file, which we will read using `pandas`. We will then extract the email addresses and API keys from the DataFrame.\n",
    "\n"
   ]
  },
  {
   "cell_type": "code",
   "execution_count": null,
   "id": "39b691f6",
   "metadata": {},
   "outputs": [],
   "source": [
    "# next lets load participants from emails.json in temp directory of our parent folder\n",
    "from pathlib import Path\n",
    "import pandas as pd\n",
    "print(f\"pandas version: {pd.__version__}\")\n",
    "emails_file = Path(\"../temp/BSSDH_2025_provisioned_keys.xlsx\")\n",
    "if not emails_file.exists():\n",
    "    raise FileNotFoundError(f\"Emails file {emails_file} does not exist.\")\n",
    "df = pd.read_excel(emails_file, engine='openpyxl')\n",
    "print(f\"Loaded {len(df)} participants from {emails_file}\")\n",
    "# shape\n",
    "print(f\"DataFrame shape: {df.shape}\")\n",
    "# columns\n",
    "print(f\"DataFrame columns: {df.columns.tolist()}\")  \n",
    "# show head 2 of first 3 columns\n",
    "print(\"First 2 rows of the first 3 columns:\")\n",
    "display(df.iloc[:2, :3])"
   ]
  },
  {
   "cell_type": "code",
   "execution_count": null,
   "id": "d10e8439",
   "metadata": {},
   "outputs": [],
   "source": [
    "# a slight complication is that E-mail column might actually contain multiple emails separated by commas or /\n",
    "# our goal is to convert this dataframe into a list of dictionaries with following keys:\n",
    "# 'emails' (list of emails (str)), 'name' (str), 'surname' (str), 'api_key' (str)\n",
    "# so let's write a function that takes a row and returns a dictionary\n",
    "import re\n",
    "def row_to_dict(row):\n",
    "    emails = emails = [e for e in re.split(r'[,\\s/]+', row[\"E-mail\"]) if e]\n",
    "    return {\n",
    "        'emails': emails,\n",
    "        'name': row['Name'],\n",
    "        'surname': row['Surname'],\n",
    "        'api_key': row['api_key']\n",
    "    }\n",
    "\n"
   ]
  },
  {
   "cell_type": "code",
   "execution_count": null,
   "id": "366ccf46",
   "metadata": {},
   "outputs": [],
   "source": [
    "# now let's create that list of dictionaries\n",
    "participants = df.apply(row_to_dict, axis=1).tolist()\n",
    "print(f\"Converted {len(participants)} participants to list of dictionaries.\")"
   ]
  },
  {
   "cell_type": "code",
   "execution_count": null,
   "id": "66cd704d",
   "metadata": {},
   "outputs": [],
   "source": [
    "# print those participants who have more than one email\n",
    "# for participant in participants:\n",
    "#     if len(participant['emails']) > 1:\n",
    "#         print(f\"Participant {participant['name']} {participant['surname']} has multiple emails: {participant['emails']}\")"
   ]
  },
  {
   "cell_type": "code",
   "execution_count": null,
   "id": "adbe7814",
   "metadata": {},
   "outputs": [],
   "source": [
    "import time\n",
    "DELAY = 0.2  # delay in seconds to avoid hitting SendGrid rate limits\n",
    "print(f\"Sending emails with a delay of {DELAY} seconds just in case to avoid rate limits.\")\n",
    "for participant in participants:\n",
    "    for email in participant['emails']:\n",
    "        message = Mail(\n",
    "            from_email=sender_email,\n",
    "            to_emails=email,\n",
    "            subject=\"Your Unique API Key for the BSSDH Workshop on August 7th\",\n",
    "            plain_text_content=(\n",
    "                f\"Dear {participant['name']},\\n\\n\"\n",
    "                f\"Thank you for participating in our Using LLMs in Humanities Research via API workshop.\\n\\n\"\n",
    "                f\"Your unique API key is:\\n{participant['api_key']}\\n\\n\"\n",
    "                \"Please keep this key secure and do not share it with others.\\n\\n\"\n",
    "                \"This key is essential for actively participating in the workshop.\\n\"\n",
    "\n",
    "                \"The official repository for this workshop is available at:\\n\"\n",
    "                \"https://github.com/ValRCS/BSSDH_2025_workshop_LLM_API\\n\"\n",
    "                \"We will provide instructions at the workshop on how to access the repository and use the provided materials.\\n\\n\"\n",
    "\n",
    "                \"See you on August 7th!\\n\\n\"\n",
    "\n",
    "                \"According to the workshop schedule on: https://www.digitalhumanities.lv/bssdh/2025/Programme/\\n\"\n",
    "                \"The first session of this particular workshop will start at 11:30AM\\n\"\n",
    "                \"There is another workshop before ours which does not require this key\\n\\n\"\n",
    "\n",
    "                \"There is no need to reply to this e-mail as everything will be explained at the workshop :) \\n\\n\"\n",
    "            \n",
    "                \"Best regards,\\n\"\n",
    "                \"On behalf of the BSSDH Workshop Team - Valdis Saulespurens\\n\"\n",
    "\n",
    "            )\n",
    "        )\n",
    "        try:\n",
    "            sg = SendGridAPIClient(SENDGRID_API_KEY)\n",
    "            response = sg.send(message)\n",
    "            print(f\"✅ Sent to {email} – Status: {response.status_code}\")\n",
    "        except Exception as e:\n",
    "            print(f\"❌ Failed to send to {email}: {e}\")\n",
    "        time.sleep(DELAY) # just in case to avoid hitting SendGrid rate limits, which are supposed to be 10-20 emails per second\n",
    "\n",
    "# SendGrid does not require explicit cleanup - however running Sendgrid from Notebook causes spinning wheel in VSCode\n",
    "# TODO read more SendGrid documentation about cleanup\n",
    "# URL: https://www.twilio.com/docs/sendgrid/for-developers/sending-email/quickstart-python\n",
    "# so we will delete the SendGrid client object to close the connection - this is not strictly necessary\n",
    "del sg\n",
    "import gc\n",
    "gc.collect()\n",
    "print(\"All emails processed.\")\n",
    "\n"
   ]
  },
  {
   "cell_type": "code",
   "execution_count": null,
   "id": "1f369aad",
   "metadata": {},
   "outputs": [],
   "source": []
  }
 ],
 "metadata": {
  "kernelspec": {
   "display_name": "venv",
   "language": "python",
   "name": "python3"
  },
  "language_info": {
   "codemirror_mode": {
    "name": "ipython",
    "version": 3
   },
   "file_extension": ".py",
   "mimetype": "text/x-python",
   "name": "python",
   "nbconvert_exporter": "python",
   "pygments_lexer": "ipython3",
   "version": "3.12.7"
  }
 },
 "nbformat": 4,
 "nbformat_minor": 5
}
