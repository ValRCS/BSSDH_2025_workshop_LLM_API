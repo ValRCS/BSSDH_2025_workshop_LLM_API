{
 "cells": [
  {
   "cell_type": "markdown",
   "id": "4471b72f",
   "metadata": {},
   "source": [
    "# Emailing Participants with API\n",
    "\n",
    "This notebook is used to email participants with their API keys. This is not to be used by participants themselves, but rather by the workshop organizers to send out keys.\n",
    "\n",
    "However, you can take a look at the code to see how bulk e-mailing is done using `sendgrid` \n",
    "\n",
    "Sendgrid (from Twilio) is a service that allows you to send emails in bulk. It is a paid service, but it has a free tier that allows you to send up to 100 emails per day.\n",
    "You can use it to send emails to participants with their API keys.\n",
    "\n",
    "You can sign up for a free account at [SendGrid](https://sendgrid.com/).\n",
    "\n",
    "There are other services that allow you to send emails in bulk, such as [Mailgun](https://www.mailgun.com/) and [Amazon SES](https://aws.amazon.com/ses/), but we will use SendGrid for this workshop.\n",
    "\n",
    "In old days this was done using `smtplib` and `email` libraries, however, these days most e-mail providers have limits on how many emails you can send per day, so it is better to use a service that is designed for this purpose.\n",
    "This notebook will show you how to use SendGrid to send emails to participants with their API keys"
   ]
  },
  {
   "cell_type": "code",
   "execution_count": null,
   "id": "78a9a57a",
   "metadata": {},
   "outputs": [
    {
     "name": "stdout",
     "output_type": "stream",
     "text": [
      "SendGrid API key is set.\n",
      "Sender email is set to: valdis.saulespurens@lnb.lv\n"
     ]
    }
   ],
   "source": [
    "import os\n",
    "from sendgrid import SendGridAPIClient\n",
    "from sendgrid.helpers.mail import Mail\n",
    "\n",
    "# Store your key securely (e.g., using environment variable)\n",
    "SENDGRID_API_KEY = os.getenv(\"SENDGRID_API\")  # or paste directly (not recommended)\n",
    "if not SENDGRID_API_KEY:\n",
    "    raise ValueError(\"SENDGRID_API_KEY environment variable not set\")\n",
    "else:\n",
    "    print(\"SendGrid API key is set.\") # again we do not want to print the key itself!! then anyone could use it....\n",
    "sender_email = \"valdis.saulespurens@lnb.lv\"\n",
    "print(\"Sender email is set to:\", sender_email)\n"
   ]
  },
  {
   "cell_type": "markdown",
   "id": "fdfaa1f3",
   "metadata": {},
   "source": [
    "## Reading e-mail participants from JSON file\n",
    "\n",
    "For convenience, we will read the participants from a JSON file that is stored in the `temp` directory of our parent folder. This file should contain a list of participants with their names, emails, and API keys.\n",
    "We also have a role key as well for each participant such as `student`, `teacher`, etc. \n",
    "Sample file of two participants looks like this:\n",
    "\n",
    "```json\n",
    "[\n",
    "    {\n",
    "        \"name\": \"John Doe\",\n",
    "        \"email\": \"john.doe@example.com\",\n",
    "        \"key\": \"sk-1234567890abcdef\",\n",
    "        \"role\": \"student\"\n",
    "    },\n",
    "    {\n",
    "        \"name\": \"Jane Smith\",\n",
    "        \"email\": \"jane.smith@example.org\",\n",
    "        \"key\": \"sk-abcdef1234567890\",\n",
    "        \"role\": \"teacher\"\n",
    "    }\n",
    "]\n",
    "```  "
   ]
  },
  {
   "cell_type": "code",
   "execution_count": null,
   "id": "39b691f6",
   "metadata": {},
   "outputs": [
    {
     "name": "stdout",
     "output_type": "stream",
     "text": [
      "Loaded 4 participants from ..\\temp\\emails.json\n"
     ]
    }
   ],
   "source": [
    "# next lets load participants from emails.json in temp directory of our parent folder\n",
    "import json\n",
    "from pathlib import Path\n",
    "email_file = Path(\"../temp/emails.json\") # note I am keeping this file in temp directory as we do not want user data to be committed to this repository\n",
    "if not email_file.exists():\n",
    "    raise FileNotFoundError(f\"Email file not found: {email_file}\")\n",
    "with open(email_file, 'r') as f:\n",
    "    participants = json.load(f)\n",
    "print(f\"Loaded {len(participants)} participants from {email_file}\")"
   ]
  },
  {
   "cell_type": "code",
   "execution_count": 5,
   "id": "d10e8439",
   "metadata": {},
   "outputs": [
    {
     "name": "stdout",
     "output_type": "stream",
     "text": [
      "Keys of first participant: ['name', 'email', 'role', 'key']\n"
     ]
    }
   ],
   "source": [
    "# print keys (not values) of first participant\n",
    "if participants:\n",
    "    print(\"Keys of first participant:\", list(participants[0].keys()))"
   ]
  },
  {
   "cell_type": "code",
   "execution_count": null,
   "id": "080b22fe",
   "metadata": {},
   "outputs": [],
   "source": [
    "# we have 4 keys for each participant: \"name\", \"email\", \"role\" and \"key\"\n",
    "# now we will send an email to each participant with their unique API key\n",
    "\n",
    "for participant in participants:\n",
    "    message = Mail(\n",
    "        from_email=sender_email,\n",
    "        to_emails=participant[\"email\"],\n",
    "        subject=\"Testing Your Unique API Key for the BSSDH Workshop\",\n",
    "        plain_text_content=(\n",
    "            f\"Dear {participant['name']},\\n\\n\"\n",
    "            f\"Thank you for participating in our LLM using API workshop. Your unique API key is: {participant['key']} - for now this is a test\\n\\n\"\n",
    "            \"Please keep this key secure and do not share it with others.\\n\\n\"\n",
    "            \"Best regards,\\n\"\n",
    "            \"On behalf of the BSDDH Workshop Team - Valdis Saulespurens\\n\"\n",
    "\n",
    "        )\n",
    "    )\n",
    "    try:\n",
    "        sg = SendGridAPIClient(SENDGRID_API_KEY)\n",
    "        response = sg.send(message)\n",
    "        print(f\"✅ Sent to {participant['email']} – Status: {response.status_code}\")\n",
    "    except Exception as e:\n",
    "        print(f\"❌ Failed to send to {participant['email']}: {e}\")\n",
    "\n",
    "# SendGrid does not require explicit cleanup - however running Sendgrid from Notebook causes spinning wheel in VSCode\n",
    "# TODO read more SendGrid documentation about cleanup\n",
    "# URL: https://www.twilio.com/docs/sendgrid/for-developers/sending-email/quickstart-python\n",
    "# so we will delete the SendGrid client object to close the connection - this is not strictly necessary\n",
    "del sg\n",
    "import gc\n",
    "gc.collect()\n",
    "print(\"All emails processed.\")\n"
   ]
  }
 ],
 "metadata": {
  "kernelspec": {
   "display_name": "venv",
   "language": "python",
   "name": "python3"
  },
  "language_info": {
   "codemirror_mode": {
    "name": "ipython",
    "version": 3
   },
   "file_extension": ".py",
   "mimetype": "text/x-python",
   "name": "python",
   "nbconvert_exporter": "python",
   "pygments_lexer": "ipython3",
   "version": "3.12.7"
  }
 },
 "nbformat": 4,
 "nbformat_minor": 5
}
